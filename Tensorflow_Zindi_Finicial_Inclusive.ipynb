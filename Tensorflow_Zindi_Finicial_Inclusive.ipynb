{
  "nbformat": 4,
  "nbformat_minor": 0,
  "metadata": {
    "colab": {
      "provenance": [],
      "authorship_tag": "ABX9TyNYz/PX+WYrEHQgU9uD7MQ+",
      "include_colab_link": true
    },
    "kernelspec": {
      "name": "python3",
      "display_name": "Python 3"
    },
    "language_info": {
      "name": "python"
    }
  },
  "cells": [
    {
      "cell_type": "markdown",
      "metadata": {
        "id": "view-in-github",
        "colab_type": "text"
      },
      "source": [
        "<a href=\"https://colab.research.google.com/github/Yohanes213/Zindi/blob/main/Tensorflow_Zindi_Finicial_Inclusive.ipynb\" target=\"_parent\"><img src=\"https://colab.research.google.com/assets/colab-badge.svg\" alt=\"Open In Colab\"/></a>"
      ]
    },
    {
      "cell_type": "code",
      "execution_count": 1,
      "metadata": {
        "id": "lQGHiwGYWGoi"
      },
      "outputs": [],
      "source": [
        "import tensorflow as tf\n",
        "from tensorflow import keras\n",
        "\n",
        "import os\n",
        "import tempfile\n",
        "\n",
        "import matplotlib as mpl\n",
        "import matplotlib.pyplot as plt\n",
        "import numpy as np\n",
        "import pandas as pd\n",
        "import seaborn as sns\n",
        "\n",
        "import sklearn\n",
        "from sklearn.metrics import confusion_matrix\n",
        "from sklearn.model_selection import train_test_split\n",
        "from sklearn.preprocessing import StandardScaler\n"
      ]
    },
    {
      "cell_type": "code",
      "source": [
        "from sklearn.preprocessing import LabelEncoder"
      ],
      "metadata": {
        "id": "WFzgywOmWs9Y"
      },
      "execution_count": 5,
      "outputs": []
    },
    {
      "cell_type": "code",
      "source": [
        "mpl.rcParams['figure.figsize'] = (12, 10)\n",
        "colors = plt.rcParams['axes.prop_cycle'].by_key()['color']"
      ],
      "metadata": {
        "id": "HOSm5sIpacIZ"
      },
      "execution_count": 44,
      "outputs": []
    },
    {
      "cell_type": "code",
      "source": [
        "df = pd.read_csv(\"Train.csv\")"
      ],
      "metadata": {
        "id": "6V-pwbe7WKQx"
      },
      "execution_count": 16,
      "outputs": []
    },
    {
      "cell_type": "code",
      "source": [
        "df.head()"
      ],
      "metadata": {
        "colab": {
          "base_uri": "https://localhost:8080/",
          "height": 374
        },
        "id": "vDY1sDNWWhYm",
        "outputId": "2fa25aae-a398-4842-f762-976f9e0350cf"
      },
      "execution_count": 17,
      "outputs": [
        {
          "output_type": "execute_result",
          "data": {
            "text/plain": [
              "  country  year    uniqueid bank_account location_type cellphone_access  \\\n",
              "0   Kenya  2018  uniqueid_1          Yes         Rural              Yes   \n",
              "1   Kenya  2018  uniqueid_2           No         Rural               No   \n",
              "2   Kenya  2018  uniqueid_3          Yes         Urban              Yes   \n",
              "3   Kenya  2018  uniqueid_4           No         Rural              Yes   \n",
              "4   Kenya  2018  uniqueid_5           No         Urban               No   \n",
              "\n",
              "   household_size  age_of_respondent gender_of_respondent  \\\n",
              "0               3                 24               Female   \n",
              "1               5                 70               Female   \n",
              "2               5                 26                 Male   \n",
              "3               5                 34               Female   \n",
              "4               8                 26                 Male   \n",
              "\n",
              "  relationship_with_head           marital_status  \\\n",
              "0                 Spouse  Married/Living together   \n",
              "1      Head of Household                  Widowed   \n",
              "2         Other relative     Single/Never Married   \n",
              "3      Head of Household  Married/Living together   \n",
              "4                  Child     Single/Never Married   \n",
              "\n",
              "                   education_level                   job_type  \n",
              "0              Secondary education              Self employed  \n",
              "1              No formal education       Government Dependent  \n",
              "2  Vocational/Specialised training              Self employed  \n",
              "3                Primary education  Formally employed Private  \n",
              "4                Primary education        Informally employed  "
            ],
            "text/html": [
              "\n",
              "  <div id=\"df-a23470dd-76e2-4a58-baa2-ef59ecd0a8a8\">\n",
              "    <div class=\"colab-df-container\">\n",
              "      <div>\n",
              "<style scoped>\n",
              "    .dataframe tbody tr th:only-of-type {\n",
              "        vertical-align: middle;\n",
              "    }\n",
              "\n",
              "    .dataframe tbody tr th {\n",
              "        vertical-align: top;\n",
              "    }\n",
              "\n",
              "    .dataframe thead th {\n",
              "        text-align: right;\n",
              "    }\n",
              "</style>\n",
              "<table border=\"1\" class=\"dataframe\">\n",
              "  <thead>\n",
              "    <tr style=\"text-align: right;\">\n",
              "      <th></th>\n",
              "      <th>country</th>\n",
              "      <th>year</th>\n",
              "      <th>uniqueid</th>\n",
              "      <th>bank_account</th>\n",
              "      <th>location_type</th>\n",
              "      <th>cellphone_access</th>\n",
              "      <th>household_size</th>\n",
              "      <th>age_of_respondent</th>\n",
              "      <th>gender_of_respondent</th>\n",
              "      <th>relationship_with_head</th>\n",
              "      <th>marital_status</th>\n",
              "      <th>education_level</th>\n",
              "      <th>job_type</th>\n",
              "    </tr>\n",
              "  </thead>\n",
              "  <tbody>\n",
              "    <tr>\n",
              "      <th>0</th>\n",
              "      <td>Kenya</td>\n",
              "      <td>2018</td>\n",
              "      <td>uniqueid_1</td>\n",
              "      <td>Yes</td>\n",
              "      <td>Rural</td>\n",
              "      <td>Yes</td>\n",
              "      <td>3</td>\n",
              "      <td>24</td>\n",
              "      <td>Female</td>\n",
              "      <td>Spouse</td>\n",
              "      <td>Married/Living together</td>\n",
              "      <td>Secondary education</td>\n",
              "      <td>Self employed</td>\n",
              "    </tr>\n",
              "    <tr>\n",
              "      <th>1</th>\n",
              "      <td>Kenya</td>\n",
              "      <td>2018</td>\n",
              "      <td>uniqueid_2</td>\n",
              "      <td>No</td>\n",
              "      <td>Rural</td>\n",
              "      <td>No</td>\n",
              "      <td>5</td>\n",
              "      <td>70</td>\n",
              "      <td>Female</td>\n",
              "      <td>Head of Household</td>\n",
              "      <td>Widowed</td>\n",
              "      <td>No formal education</td>\n",
              "      <td>Government Dependent</td>\n",
              "    </tr>\n",
              "    <tr>\n",
              "      <th>2</th>\n",
              "      <td>Kenya</td>\n",
              "      <td>2018</td>\n",
              "      <td>uniqueid_3</td>\n",
              "      <td>Yes</td>\n",
              "      <td>Urban</td>\n",
              "      <td>Yes</td>\n",
              "      <td>5</td>\n",
              "      <td>26</td>\n",
              "      <td>Male</td>\n",
              "      <td>Other relative</td>\n",
              "      <td>Single/Never Married</td>\n",
              "      <td>Vocational/Specialised training</td>\n",
              "      <td>Self employed</td>\n",
              "    </tr>\n",
              "    <tr>\n",
              "      <th>3</th>\n",
              "      <td>Kenya</td>\n",
              "      <td>2018</td>\n",
              "      <td>uniqueid_4</td>\n",
              "      <td>No</td>\n",
              "      <td>Rural</td>\n",
              "      <td>Yes</td>\n",
              "      <td>5</td>\n",
              "      <td>34</td>\n",
              "      <td>Female</td>\n",
              "      <td>Head of Household</td>\n",
              "      <td>Married/Living together</td>\n",
              "      <td>Primary education</td>\n",
              "      <td>Formally employed Private</td>\n",
              "    </tr>\n",
              "    <tr>\n",
              "      <th>4</th>\n",
              "      <td>Kenya</td>\n",
              "      <td>2018</td>\n",
              "      <td>uniqueid_5</td>\n",
              "      <td>No</td>\n",
              "      <td>Urban</td>\n",
              "      <td>No</td>\n",
              "      <td>8</td>\n",
              "      <td>26</td>\n",
              "      <td>Male</td>\n",
              "      <td>Child</td>\n",
              "      <td>Single/Never Married</td>\n",
              "      <td>Primary education</td>\n",
              "      <td>Informally employed</td>\n",
              "    </tr>\n",
              "  </tbody>\n",
              "</table>\n",
              "</div>\n",
              "      <button class=\"colab-df-convert\" onclick=\"convertToInteractive('df-a23470dd-76e2-4a58-baa2-ef59ecd0a8a8')\"\n",
              "              title=\"Convert this dataframe to an interactive table.\"\n",
              "              style=\"display:none;\">\n",
              "        \n",
              "  <svg xmlns=\"http://www.w3.org/2000/svg\" height=\"24px\"viewBox=\"0 0 24 24\"\n",
              "       width=\"24px\">\n",
              "    <path d=\"M0 0h24v24H0V0z\" fill=\"none\"/>\n",
              "    <path d=\"M18.56 5.44l.94 2.06.94-2.06 2.06-.94-2.06-.94-.94-2.06-.94 2.06-2.06.94zm-11 1L8.5 8.5l.94-2.06 2.06-.94-2.06-.94L8.5 2.5l-.94 2.06-2.06.94zm10 10l.94 2.06.94-2.06 2.06-.94-2.06-.94-.94-2.06-.94 2.06-2.06.94z\"/><path d=\"M17.41 7.96l-1.37-1.37c-.4-.4-.92-.59-1.43-.59-.52 0-1.04.2-1.43.59L10.3 9.45l-7.72 7.72c-.78.78-.78 2.05 0 2.83L4 21.41c.39.39.9.59 1.41.59.51 0 1.02-.2 1.41-.59l7.78-7.78 2.81-2.81c.8-.78.8-2.07 0-2.86zM5.41 20L4 18.59l7.72-7.72 1.47 1.35L5.41 20z\"/>\n",
              "  </svg>\n",
              "      </button>\n",
              "      \n",
              "  <style>\n",
              "    .colab-df-container {\n",
              "      display:flex;\n",
              "      flex-wrap:wrap;\n",
              "      gap: 12px;\n",
              "    }\n",
              "\n",
              "    .colab-df-convert {\n",
              "      background-color: #E8F0FE;\n",
              "      border: none;\n",
              "      border-radius: 50%;\n",
              "      cursor: pointer;\n",
              "      display: none;\n",
              "      fill: #1967D2;\n",
              "      height: 32px;\n",
              "      padding: 0 0 0 0;\n",
              "      width: 32px;\n",
              "    }\n",
              "\n",
              "    .colab-df-convert:hover {\n",
              "      background-color: #E2EBFA;\n",
              "      box-shadow: 0px 1px 2px rgba(60, 64, 67, 0.3), 0px 1px 3px 1px rgba(60, 64, 67, 0.15);\n",
              "      fill: #174EA6;\n",
              "    }\n",
              "\n",
              "    [theme=dark] .colab-df-convert {\n",
              "      background-color: #3B4455;\n",
              "      fill: #D2E3FC;\n",
              "    }\n",
              "\n",
              "    [theme=dark] .colab-df-convert:hover {\n",
              "      background-color: #434B5C;\n",
              "      box-shadow: 0px 1px 3px 1px rgba(0, 0, 0, 0.15);\n",
              "      filter: drop-shadow(0px 1px 2px rgba(0, 0, 0, 0.3));\n",
              "      fill: #FFFFFF;\n",
              "    }\n",
              "  </style>\n",
              "\n",
              "      <script>\n",
              "        const buttonEl =\n",
              "          document.querySelector('#df-a23470dd-76e2-4a58-baa2-ef59ecd0a8a8 button.colab-df-convert');\n",
              "        buttonEl.style.display =\n",
              "          google.colab.kernel.accessAllowed ? 'block' : 'none';\n",
              "\n",
              "        async function convertToInteractive(key) {\n",
              "          const element = document.querySelector('#df-a23470dd-76e2-4a58-baa2-ef59ecd0a8a8');\n",
              "          const dataTable =\n",
              "            await google.colab.kernel.invokeFunction('convertToInteractive',\n",
              "                                                     [key], {});\n",
              "          if (!dataTable) return;\n",
              "\n",
              "          const docLinkHtml = 'Like what you see? Visit the ' +\n",
              "            '<a target=\"_blank\" href=https://colab.research.google.com/notebooks/data_table.ipynb>data table notebook</a>'\n",
              "            + ' to learn more about interactive tables.';\n",
              "          element.innerHTML = '';\n",
              "          dataTable['output_type'] = 'display_data';\n",
              "          await google.colab.output.renderOutput(dataTable, element);\n",
              "          const docLink = document.createElement('div');\n",
              "          docLink.innerHTML = docLinkHtml;\n",
              "          element.appendChild(docLink);\n",
              "        }\n",
              "      </script>\n",
              "    </div>\n",
              "  </div>\n",
              "  "
            ]
          },
          "metadata": {},
          "execution_count": 17
        }
      ]
    },
    {
      "cell_type": "code",
      "source": [
        "le = LabelEncoder()\n",
        "df[\"bank_account\"] = le.fit_transform(df[\"bank_account\"])"
      ],
      "metadata": {
        "id": "DbirlL4WWuZz"
      },
      "execution_count": 18,
      "outputs": []
    },
    {
      "cell_type": "code",
      "source": [
        "df.drop(columns=[\"uniqueid\"], inplace=True)"
      ],
      "metadata": {
        "id": "g_zHew1SYrCX"
      },
      "execution_count": 19,
      "outputs": []
    },
    {
      "cell_type": "code",
      "source": [
        "# function to preprocess our data from train models\n",
        "def preprocessing_data(data):\n",
        "\n",
        "    # Convert the following numerical labels from interger to float\n",
        "    float_array = data[[\"household_size\", \"age_of_respondent\", \"year\"]].values.astype(float)\n",
        "    \n",
        "    # categorical features to be onverted to One Hot Encoding\n",
        "    categ = [\"relationship_with_head\",\n",
        "             \"marital_status\",\n",
        "             \"education_level\",\n",
        "             \"job_type\",\n",
        "             \"country\"]\n",
        "    \n",
        "    # One Hot Encoding conversion\n",
        "    data = pd.get_dummies(data, prefix_sep=\"_\", columns=categ)\n",
        "    \n",
        "    # Label Encoder conversion\n",
        "    data[\"location_type\"] = le.fit_transform(data[\"location_type\"])\n",
        "    data[\"cellphone_access\"] = le.fit_transform(data[\"cellphone_access\"])\n",
        "    data[\"gender_of_respondent\"] = le.fit_transform(data[\"gender_of_respondent\"])\n",
        "    \n",
        "    \n",
        "    return data                  "
      ],
      "metadata": {
        "id": "SwxQJ1HBYfxD"
      },
      "execution_count": 20,
      "outputs": []
    },
    {
      "cell_type": "code",
      "source": [
        "df = preprocessing_data(df)"
      ],
      "metadata": {
        "id": "lIpucxSaYsrW"
      },
      "execution_count": 21,
      "outputs": []
    },
    {
      "cell_type": "code",
      "source": [
        "neg, pos = np.bincount(df['bank_account'])\n",
        "total = neg + pos\n",
        "print('Examples:\\n    Total: {}\\n    Positive: {} ({:.2f}% of total)\\n'.format(\n",
        "    total, pos, 100 * pos / total))\n",
        "\n",
        "print('Examples:\\n    Total: {}\\n    Positive: {} ({:.2f}% of total)\\n'.format(\n",
        "    total, neg, 100 * neg / total))"
      ],
      "metadata": {
        "colab": {
          "base_uri": "https://localhost:8080/"
        },
        "id": "uYEQJmqgWWfp",
        "outputId": "5d5b1bf8-77f1-4b15-c9b6-3ad97207845d"
      },
      "execution_count": 22,
      "outputs": [
        {
          "output_type": "stream",
          "name": "stdout",
          "text": [
            "Examples:\n",
            "    Total: 23524\n",
            "    Positive: 3312 (14.08% of total)\n",
            "\n",
            "Examples:\n",
            "    Total: 23524\n",
            "    Positive: 20212 (85.92% of total)\n",
            "\n"
          ]
        }
      ]
    },
    {
      "cell_type": "code",
      "source": [
        "df[\"bank_account\"].value_counts(normalize=True)"
      ],
      "metadata": {
        "colab": {
          "base_uri": "https://localhost:8080/"
        },
        "id": "kp6tkPQuWk_Z",
        "outputId": "12722008-d0a5-43b5-bfe4-2c45933703c4"
      },
      "execution_count": 23,
      "outputs": [
        {
          "output_type": "execute_result",
          "data": {
            "text/plain": [
              "0    0.859208\n",
              "1    0.140792\n",
              "Name: bank_account, dtype: float64"
            ]
          },
          "metadata": {},
          "execution_count": 23
        }
      ]
    },
    {
      "cell_type": "code",
      "source": [
        "# Use a utility from sklearn to split and shuffle your dataset.\n",
        "train_df, test_df = train_test_split(df, test_size=0.2)\n",
        "train_df, val_df = train_test_split(train_df, test_size=0.2)\n",
        "\n",
        "train_labels = np.array(train_df.pop('bank_account'))\n",
        "bool_train_labels = train_labels != 0\n",
        "val_labels = np.array(val_df.pop('bank_account'))\n",
        "test_labels = np.array(test_df.pop('bank_account'))\n",
        "\n",
        "train_features = np.array(train_df)\n",
        "val_features = np.array(val_df)\n",
        "test_features = np.array(test_df)"
      ],
      "metadata": {
        "id": "VbP3311eXL-v"
      },
      "execution_count": 26,
      "outputs": []
    },
    {
      "cell_type": "code",
      "source": [
        "print('Training labels shape:', train_labels.shape)\n",
        "print('Validation labels shape:', val_labels.shape)\n",
        "print('Test labels shape:', test_labels.shape)\n",
        "\n",
        "print('Training features shape:', train_features.shape)\n",
        "print('Validation features shape:', val_features.shape)\n",
        "print('Test features shape:', test_features.shape)"
      ],
      "metadata": {
        "colab": {
          "base_uri": "https://localhost:8080/"
        },
        "id": "hj7q0KgAYTcJ",
        "outputId": "a17457f6-0316-42ff-8b28-f6f95abfefca"
      },
      "execution_count": 27,
      "outputs": [
        {
          "output_type": "stream",
          "name": "stdout",
          "text": [
            "Training labels shape: (15055,)\n",
            "Validation labels shape: (3764,)\n",
            "Test labels shape: (4705,)\n",
            "Training features shape: (15055, 37)\n",
            "Validation features shape: (3764, 37)\n",
            "Test features shape: (4705, 37)\n"
          ]
        }
      ]
    },
    {
      "cell_type": "code",
      "source": [
        "scaler = StandardScaler()\n",
        "\n",
        "train_features = scaler.fit_transform(train_features)\n",
        "\n",
        "val_features = scaler.transform(val_features)\n",
        "test_features = scaler.transform(test_features)\n",
        "\n",
        "\n",
        "train_features = np.clip(train_features, -5, 5)\n",
        "val_features = np.clip(val_features, -5, 5)\n",
        "test_features = np.clip(test_features, -5, 5)\n",
        "\n",
        "\n",
        "print('Training labels shape:', train_labels.shape)\n",
        "print('Validation labels shape:', val_labels.shape)\n",
        "print('Test labels shape:', test_labels.shape)\n",
        "\n",
        "print('Training features shape:', train_features.shape)\n",
        "print('Validation features shape:', val_features.shape)\n",
        "print('Test features shape:', test_features.shape)"
      ],
      "metadata": {
        "colab": {
          "base_uri": "https://localhost:8080/"
        },
        "id": "heN57BfMYLEm",
        "outputId": "427c2124-ebaf-47b7-9b6a-21c94e3685e9"
      },
      "execution_count": 28,
      "outputs": [
        {
          "output_type": "stream",
          "name": "stdout",
          "text": [
            "Training labels shape: (15055,)\n",
            "Validation labels shape: (3764,)\n",
            "Test labels shape: (4705,)\n",
            "Training features shape: (15055, 37)\n",
            "Validation features shape: (3764, 37)\n",
            "Test features shape: (4705, 37)\n"
          ]
        }
      ]
    },
    {
      "cell_type": "code",
      "source": [
        "df.columns"
      ],
      "metadata": {
        "colab": {
          "base_uri": "https://localhost:8080/"
        },
        "id": "VqKrZ90MZHR8",
        "outputId": "444d8519-2da4-470e-ca04-def04ec077f7"
      },
      "execution_count": 30,
      "outputs": [
        {
          "output_type": "execute_result",
          "data": {
            "text/plain": [
              "Index(['year', 'bank_account', 'location_type', 'cellphone_access',\n",
              "       'household_size', 'age_of_respondent', 'gender_of_respondent',\n",
              "       'relationship_with_head_Child',\n",
              "       'relationship_with_head_Head of Household',\n",
              "       'relationship_with_head_Other non-relatives',\n",
              "       'relationship_with_head_Other relative',\n",
              "       'relationship_with_head_Parent', 'relationship_with_head_Spouse',\n",
              "       'marital_status_Divorced/Seperated', 'marital_status_Dont know',\n",
              "       'marital_status_Married/Living together',\n",
              "       'marital_status_Single/Never Married', 'marital_status_Widowed',\n",
              "       'education_level_No formal education',\n",
              "       'education_level_Other/Dont know/RTA',\n",
              "       'education_level_Primary education',\n",
              "       'education_level_Secondary education',\n",
              "       'education_level_Tertiary education',\n",
              "       'education_level_Vocational/Specialised training',\n",
              "       'job_type_Dont Know/Refuse to answer', 'job_type_Farming and Fishing',\n",
              "       'job_type_Formally employed Government',\n",
              "       'job_type_Formally employed Private', 'job_type_Government Dependent',\n",
              "       'job_type_Informally employed', 'job_type_No Income',\n",
              "       'job_type_Other Income', 'job_type_Remittance Dependent',\n",
              "       'job_type_Self employed', 'country_Kenya', 'country_Rwanda',\n",
              "       'country_Tanzania', 'country_Uganda'],\n",
              "      dtype='object')"
            ]
          },
          "metadata": {},
          "execution_count": 30
        }
      ]
    },
    {
      "cell_type": "code",
      "source": [
        "pos_df = pd.DataFrame(train_features[ bool_train_labels], columns=train_df.columns)\n",
        "neg_df = pd.DataFrame(train_features[~bool_train_labels], columns=train_df.columns)\n",
        "\n",
        "sns.jointplot(x=pos_df['location_type'], y=pos_df['gender_of_respondent'],\n",
        "              kind='hex', xlim=(-5,5), ylim=(-5,5))\n",
        "plt.suptitle(\"Positive distribution\")\n",
        "\n",
        "sns.jointplot(x=neg_df['location_type'], y=neg_df['gender_of_respondent'],\n",
        "              kind='hex', xlim=(-5,5), ylim=(-5,5))\n",
        "_ = plt.suptitle(\"Negative distribution\")"
      ],
      "metadata": {
        "colab": {
          "base_uri": "https://localhost:8080/",
          "height": 1000
        },
        "id": "IVuyqDXdYUyy",
        "outputId": "3e10ea3d-f1fe-4f99-cfa4-422d12d520ad"
      },
      "execution_count": 31,
      "outputs": [
        {
          "output_type": "display_data",
          "data": {
            "text/plain": [
              "<Figure size 600x600 with 3 Axes>"
            ],
            "image/png": "[encoded data removed]"
          },
          "metadata": {}
        },
        {
          "output_type": "display_data",
          "data": {
            "text/plain": [
              "<Figure size 600x600 with 3 Axes>"
            ],
            "image/png": "[encoded data removed]"
          },
          "metadata": {}
        }
      ]
    },
    {
      "cell_type": "code",
      "source": [
        "METRICS = [\n",
        "      keras.metrics.TruePositives(name='tp'),\n",
        "      keras.metrics.FalsePositives(name='fp'),\n",
        "      keras.metrics.TrueNegatives(name='tn'),\n",
        "      keras.metrics.FalseNegatives(name='fn'), \n",
        "      keras.metrics.BinaryAccuracy(name='accuracy'),\n",
        "      keras.metrics.Precision(name='precision'),\n",
        "      keras.metrics.Recall(name='recall'),\n",
        "      keras.metrics.AUC(name='auc'),\n",
        "      keras.metrics.AUC(name='prc', curve='PR'), # precision-recall curve\n",
        "]\n",
        "\n",
        "def make_model(metrics=METRICS, output_bias=None):\n",
        "  if output_bias is not None:\n",
        "    output_bias = tf.keras.initializers.Constant(output_bias)\n",
        "  model = keras.Sequential([\n",
        "      keras.layers.Dense(\n",
        "          16, activation='relu',\n",
        "          input_shape=(train_features.shape[-1],)),\n",
        "      keras.layers.Dropout(0.5),\n",
        "      keras.layers.Dense(1, activation='sigmoid',\n",
        "                         bias_initializer=output_bias),\n",
        "  ])\n",
        "\n",
        "  model.compile(\n",
        "      optimizer=keras.optimizers.Adam(learning_rate=1e-3),\n",
        "      loss=keras.losses.BinaryCrossentropy(),\n",
        "      metrics=metrics)\n",
        "\n",
        "  return model"
      ],
      "metadata": {
        "id": "iZzl14lXY_p5"
      },
      "execution_count": 32,
      "outputs": []
    },
    {
      "cell_type": "code",
      "source": [
        "EPOCHS = 100\n",
        "BATCH_SIZE = 2048\n",
        "\n",
        "early_stopping = tf.keras.callbacks.EarlyStopping(\n",
        "    monitor='val_prc', \n",
        "    verbose=1,\n",
        "    patience=10,\n",
        "    mode='max',\n",
        "    restore_best_weights=True)"
      ],
      "metadata": {
        "id": "caHE01GZZVlq"
      },
      "execution_count": 33,
      "outputs": []
    },
    {
      "cell_type": "code",
      "source": [
        "model = make_model()\n",
        "model.summary()"
      ],
      "metadata": {
        "colab": {
          "base_uri": "https://localhost:8080/"
        },
        "id": "7ur5evZHZZrr",
        "outputId": "c6b13461-afdb-4dd0-a866-05f28190c9d5"
      },
      "execution_count": 34,
      "outputs": [
        {
          "output_type": "stream",
          "name": "stdout",
          "text": [
            "Model: \"sequential\"\n",
            "_________________________________________________________________\n",
            " Layer (type)                Output Shape              Param #   \n",
            "=================================================================\n",
            " dense (Dense)               (None, 16)                608       \n",
            "                                                                 \n",
            " dropout (Dropout)           (None, 16)                0         \n",
            "                                                                 \n",
            " dense_1 (Dense)             (None, 1)                 17        \n",
            "                                                                 \n",
            "=================================================================\n",
            "Total params: 625\n",
            "Trainable params: 625\n",
            "Non-trainable params: 0\n",
            "_________________________________________________________________\n"
          ]
        }
      ]
    },
    {
      "cell_type": "code",
      "source": [
        "model.predict(train_features[:10])"
      ],
      "metadata": {
        "colab": {
          "base_uri": "https://localhost:8080/"
        },
        "id": "Zjr9M-HMZb8K",
        "outputId": "d212cdd2-6ae4-4e77-ff3a-7b1c973b7ecf"
      },
      "execution_count": 35,
      "outputs": [
        {
          "output_type": "stream",
          "name": "stdout",
          "text": [
            "1/1 [==============================] - 0s 282ms/step\n"
          ]
        },
        {
          "output_type": "execute_result",
          "data": {
            "text/plain": [
              "array([[0.5539813 ],\n",
              "       [0.7165292 ],\n",
              "       [0.81437624],\n",
              "       [0.6666493 ],\n",
              "       [0.720018  ],\n",
              "       [0.7110992 ],\n",
              "       [0.94127315],\n",
              "       [0.45054546],\n",
              "       [0.678514  ],\n",
              "       [0.90008026]], dtype=float32)"
            ]
          },
          "metadata": {},
          "execution_count": 35
        }
      ]
    },
    {
      "cell_type": "code",
      "source": [
        "results = model.evaluate(train_features, train_labels, batch_size=BATCH_SIZE, verbose=0)\n",
        "print(\"Loss: {:0.4f}\".format(results[0]))"
      ],
      "metadata": {
        "colab": {
          "base_uri": "https://localhost:8080/"
        },
        "id": "uNk4wfTBZjxS",
        "outputId": "3973789a-6c87-46e4-a95d-8bfd3def25eb"
      },
      "execution_count": 36,
      "outputs": [
        {
          "output_type": "stream",
          "name": "stdout",
          "text": [
            "Loss: 1.1365\n"
          ]
        }
      ]
    },
    {
      "cell_type": "code",
      "source": [
        "initial_bias = np.log([pos/neg])\n",
        "initial_bias"
      ],
      "metadata": {
        "colab": {
          "base_uri": "https://localhost:8080/"
        },
        "id": "kHS77cOpZrnE",
        "outputId": "5ef2cd6f-0135-416b-ef5b-7931cf1772fa"
      },
      "execution_count": 37,
      "outputs": [
        {
          "output_type": "execute_result",
          "data": {
            "text/plain": [
              "array([-1.80872425])"
            ]
          },
          "metadata": {},
          "execution_count": 37
        }
      ]
    },
    {
      "cell_type": "code",
      "source": [
        "pos/total"
      ],
      "metadata": {
        "colab": {
          "base_uri": "https://localhost:8080/"
        },
        "id": "UTe7_X1RZw6c",
        "outputId": "109340ed-74b4-442d-e05e-b346e407daef"
      },
      "execution_count": 38,
      "outputs": [
        {
          "output_type": "execute_result",
          "data": {
            "text/plain": [
              "0.14079238224791701"
            ]
          },
          "metadata": {},
          "execution_count": 38
        }
      ]
    },
    {
      "cell_type": "code",
      "source": [
        "model = make_model(output_bias=initial_bias)\n",
        "model.predict(train_features[:10])"
      ],
      "metadata": {
        "colab": {
          "base_uri": "https://localhost:8080/"
        },
        "id": "WNCkWeCnZ2al",
        "outputId": "4959bdc9-d7a6-4e66-dd53-86e9f275e71b"
      },
      "execution_count": 39,
      "outputs": [
        {
          "output_type": "stream",
          "name": "stdout",
          "text": [
            "1/1 [==============================] - 0s 63ms/step\n"
          ]
        },
        {
          "output_type": "execute_result",
          "data": {
            "text/plain": [
              "array([[0.12087806],\n",
              "       [0.1124841 ],\n",
              "       [0.07370315],\n",
              "       [0.1495433 ],\n",
              "       [0.32489353],\n",
              "       [0.13504256],\n",
              "       [0.08202354],\n",
              "       [0.09699345],\n",
              "       [0.10559564],\n",
              "       [0.03809424]], dtype=float32)"
            ]
          },
          "metadata": {},
          "execution_count": 39
        }
      ]
    },
    {
      "cell_type": "code",
      "source": [
        "results = model.evaluate(train_features, train_labels, batch_size=BATCH_SIZE, verbose=0)\n",
        "print(\"Loss: {:0.4f}\".format(results[0]))"
      ],
      "metadata": {
        "colab": {
          "base_uri": "https://localhost:8080/"
        },
        "id": "Zbed1Nq0Z5En",
        "outputId": "4478e957-21ca-4fac-be57-6f504ec4dbe0"
      },
      "execution_count": 40,
      "outputs": [
        {
          "output_type": "stream",
          "name": "stdout",
          "text": [
            "Loss: 0.4027\n"
          ]
        }
      ]
    },
    {
      "cell_type": "code",
      "source": [
        "initial_weights = os.path.join(tempfile.mkdtemp(), 'initial_weights')\n",
        "model.save_weights(initial_weights)"
      ],
      "metadata": {
        "id": "TZjpGQ4SZ78f"
      },
      "execution_count": 41,
      "outputs": []
    },
    {
      "cell_type": "code",
      "source": [
        "model = make_model()\n",
        "model.load_weights(initial_weights)\n",
        "model.layers[-1].bias.assign([0.0])\n",
        "zero_bias_history = model.fit(\n",
        "    train_features,\n",
        "    train_labels,\n",
        "    batch_size=BATCH_SIZE,\n",
        "    epochs=20,\n",
        "    validation_data=(val_features, val_labels), \n",
        "    verbose=0)"
      ],
      "metadata": {
        "id": "u7cQR1eeaH26"
      },
      "execution_count": 42,
      "outputs": []
    },
    {
      "cell_type": "code",
      "source": [
        "model = make_model()\n",
        "model.load_weights(initial_weights)\n",
        "careful_bias_history = model.fit(\n",
        "    train_features,\n",
        "    train_labels,\n",
        "    batch_size=BATCH_SIZE,\n",
        "    epochs=20,\n",
        "    validation_data=(val_features, val_labels), \n",
        "    verbose=0)"
      ],
      "metadata": {
        "id": "uKhldfWRaMMM"
      },
      "execution_count": 43,
      "outputs": []
    },
    {
      "cell_type": "code",
      "source": [
        "def plot_loss(history, label, n):\n",
        "  # Use a log scale on y-axis to show the wide range of values.\n",
        "  plt.semilogy(history.epoch, history.history['loss'],\n",
        "               color=colors[n], label='Train ' + label)\n",
        "  plt.semilogy(history.epoch, history.history['val_loss'],\n",
        "               color=colors[n], label='Val ' + label,\n",
        "               linestyle=\"--\")\n",
        "  plt.xlabel('Epoch')\n",
        "  plt.ylabel('Loss')"
      ],
      "metadata": {
        "id": "1H1nhx7PaSeG"
      },
      "execution_count": 45,
      "outputs": []
    },
    {
      "cell_type": "code",
      "source": [
        "plot_loss(zero_bias_history, \"Zero Bias\", 0)\n",
        "plot_loss(careful_bias_history, \"Careful Bias\", 1)"
      ],
      "metadata": {
        "colab": {
          "base_uri": "https://localhost:8080/",
          "height": 775
        },
        "id": "Hqman2pGaWxK",
        "outputId": "c54202c3-7b4b-47a5-9d46-40bf066154fe"
      },
      "execution_count": 46,
      "outputs": [
        {
          "output_type": "display_data",
          "data": {
            "text/plain": [
              "<Figure size 1200x1000 with 1 Axes>"
            ],
            "image/png": "[encoded data removed]"
          },
          "metadata": {}
        }
      ]
    },
    {
      "cell_type": "code",
      "source": [
        "model = make_model()\n",
        "model.load_weights(initial_weights)\n",
        "baseline_history = model.fit(\n",
        "    train_features,\n",
        "    train_labels,\n",
        "    batch_size=BATCH_SIZE,\n",
        "    epochs=EPOCHS,\n",
        "    callbacks=[early_stopping],\n",
        "    validation_data=(val_features, val_labels))"
      ],
      "metadata": {
        "colab": {
          "base_uri": "https://localhost:8080/"
        },
        "id": "Q7eSrGsbaegQ",
        "outputId": "3741c355-f0bf-4354-9cbe-3ac59dca1493"
      },
      "execution_count": 47,
      "outputs": [
        {
          "output_type": "stream",
          "name": "stdout",
          "text": [
            "Epoch 1/100\n",
            "8/8 [==============================] - 5s 201ms/step - loss: 0.4482 - tp: 300.0000 - fp: 585.0000 - tn: 15564.0000 - fn: 2370.0000 - accuracy: 0.8430 - precision: 0.3390 - recall: 0.1124 - auc: 0.6549 - prc: 0.2433 - val_loss: 0.3660 - val_tp: 13.0000 - val_fp: 7.0000 - val_tn: 3244.0000 - val_fn: 500.0000 - val_accuracy: 0.8653 - val_precision: 0.6500 - val_recall: 0.0253 - val_auc: 0.7048 - val_prc: 0.2864\n",
            "Epoch 2/100\n",
            "8/8 [==============================] - 0s 61ms/step - loss: 0.4300 - tp: 192.0000 - fp: 486.0000 - tn: 12412.0000 - fn: 1965.0000 - accuracy: 0.8372 - precision: 0.2832 - recall: 0.0890 - auc: 0.6319 - prc: 0.2232 - val_loss: 0.3534 - val_tp: 16.0000 - val_fp: 5.0000 - val_tn: 3246.0000 - val_fn: 497.0000 - val_accuracy: 0.8666 - val_precision: 0.7619 - val_recall: 0.0312 - val_auc: 0.7402 - val_prc: 0.3371\n",
            "Epoch 3/100\n",
            "8/8 [==============================] - 0s 46ms/step - loss: 0.4162 - tp: 214.0000 - fp: 403.0000 - tn: 12495.0000 - fn: 1943.0000 - accuracy: 0.8442 - precision: 0.3468 - recall: 0.0992 - auc: 0.6504 - prc: 0.2476 - val_loss: 0.3429 - val_tp: 18.0000 - val_fp: 7.0000 - val_tn: 3244.0000 - val_fn: 495.0000 - val_accuracy: 0.8666 - val_precision: 0.7200 - val_recall: 0.0351 - val_auc: 0.7662 - val_prc: 0.3807\n",
            "Epoch 4/100\n",
            "8/8 [==============================] - 0s 20ms/step - loss: 0.4025 - tp: 240.0000 - fp: 352.0000 - tn: 12546.0000 - fn: 1917.0000 - accuracy: 0.8493 - precision: 0.4054 - recall: 0.1113 - auc: 0.6739 - prc: 0.2694 - val_loss: 0.3340 - val_tp: 29.0000 - val_fp: 9.0000 - val_tn: 3242.0000 - val_fn: 484.0000 - val_accuracy: 0.8690 - val_precision: 0.7632 - val_recall: 0.0565 - val_auc: 0.7869 - val_prc: 0.4190\n",
            "Epoch 5/100\n",
            "8/8 [==============================] - 0s 20ms/step - loss: 0.3908 - tp: 258.0000 - fp: 305.0000 - tn: 12593.0000 - fn: 1899.0000 - accuracy: 0.8536 - precision: 0.4583 - recall: 0.1196 - auc: 0.6952 - prc: 0.2943 - val_loss: 0.3266 - val_tp: 33.0000 - val_fp: 13.0000 - val_tn: 3238.0000 - val_fn: 480.0000 - val_accuracy: 0.8690 - val_precision: 0.7174 - val_recall: 0.0643 - val_auc: 0.8022 - val_prc: 0.4471\n",
            "Epoch 6/100\n",
            "8/8 [==============================] - 0s 14ms/step - loss: 0.3855 - tp: 258.0000 - fp: 281.0000 - tn: 12617.0000 - fn: 1899.0000 - accuracy: 0.8552 - precision: 0.4787 - recall: 0.1196 - auc: 0.7064 - prc: 0.3087 - val_loss: 0.3206 - val_tp: 40.0000 - val_fp: 15.0000 - val_tn: 3236.0000 - val_fn: 473.0000 - val_accuracy: 0.8704 - val_precision: 0.7273 - val_recall: 0.0780 - val_auc: 0.8134 - val_prc: 0.4705\n",
            "Epoch 7/100\n",
            "8/8 [==============================] - 0s 13ms/step - loss: 0.3726 - tp: 311.0000 - fp: 292.0000 - tn: 12606.0000 - fn: 1846.0000 - accuracy: 0.8580 - precision: 0.5158 - recall: 0.1442 - auc: 0.7278 - prc: 0.3383 - val_loss: 0.3155 - val_tp: 55.0000 - val_fp: 16.0000 - val_tn: 3235.0000 - val_fn: 458.0000 - val_accuracy: 0.8741 - val_precision: 0.7746 - val_recall: 0.1072 - val_auc: 0.8219 - val_prc: 0.4885\n",
            "Epoch 8/100\n",
            "8/8 [==============================] - 0s 16ms/step - loss: 0.3679 - tp: 327.0000 - fp: 271.0000 - tn: 12627.0000 - fn: 1830.0000 - accuracy: 0.8604 - precision: 0.5468 - recall: 0.1516 - auc: 0.7334 - prc: 0.3565 - val_loss: 0.3110 - val_tp: 60.0000 - val_fp: 19.0000 - val_tn: 3232.0000 - val_fn: 453.0000 - val_accuracy: 0.8746 - val_precision: 0.7595 - val_recall: 0.1170 - val_auc: 0.8286 - val_prc: 0.5014\n",
            "Epoch 9/100\n",
            "8/8 [==============================] - 0s 21ms/step - loss: 0.3626 - tp: 339.0000 - fp: 260.0000 - tn: 12638.0000 - fn: 1818.0000 - accuracy: 0.8620 - precision: 0.5659 - recall: 0.1572 - auc: 0.7431 - prc: 0.3710 - val_loss: 0.3071 - val_tp: 67.0000 - val_fp: 19.0000 - val_tn: 3232.0000 - val_fn: 446.0000 - val_accuracy: 0.8765 - val_precision: 0.7791 - val_recall: 0.1306 - val_auc: 0.8335 - val_prc: 0.5116\n",
            "Epoch 10/100\n",
            "8/8 [==============================] - 0s 27ms/step - loss: 0.3613 - tp: 327.0000 - fp: 264.0000 - tn: 12634.0000 - fn: 1830.0000 - accuracy: 0.8609 - precision: 0.5533 - recall: 0.1516 - auc: 0.7516 - prc: 0.3675 - val_loss: 0.3039 - val_tp: 84.0000 - val_fp: 21.0000 - val_tn: 3230.0000 - val_fn: 429.0000 - val_accuracy: 0.8804 - val_precision: 0.8000 - val_recall: 0.1637 - val_auc: 0.8379 - val_prc: 0.5200\n",
            "Epoch 11/100\n",
            "8/8 [==============================] - 0s 26ms/step - loss: 0.3589 - tp: 372.0000 - fp: 305.0000 - tn: 12593.0000 - fn: 1785.0000 - accuracy: 0.8612 - precision: 0.5495 - recall: 0.1725 - auc: 0.7535 - prc: 0.3701 - val_loss: 0.3010 - val_tp: 93.0000 - val_fp: 21.0000 - val_tn: 3230.0000 - val_fn: 420.0000 - val_accuracy: 0.8828 - val_precision: 0.8158 - val_recall: 0.1813 - val_auc: 0.8407 - val_prc: 0.5272\n",
            "Epoch 12/100\n",
            "8/8 [==============================] - 0s 24ms/step - loss: 0.3487 - tp: 406.0000 - fp: 276.0000 - tn: 12622.0000 - fn: 1751.0000 - accuracy: 0.8654 - precision: 0.5953 - recall: 0.1882 - auc: 0.7726 - prc: 0.4022 - val_loss: 0.2986 - val_tp: 99.0000 - val_fp: 25.0000 - val_tn: 3226.0000 - val_fn: 414.0000 - val_accuracy: 0.8834 - val_precision: 0.7984 - val_recall: 0.1930 - val_auc: 0.8434 - val_prc: 0.5329\n",
            "Epoch 13/100\n",
            "8/8 [==============================] - 0s 28ms/step - loss: 0.3501 - tp: 413.0000 - fp: 275.0000 - tn: 12623.0000 - fn: 1744.0000 - accuracy: 0.8659 - precision: 0.6003 - recall: 0.1915 - auc: 0.7648 - prc: 0.4032 - val_loss: 0.2965 - val_tp: 106.0000 - val_fp: 26.0000 - val_tn: 3225.0000 - val_fn: 407.0000 - val_accuracy: 0.8850 - val_precision: 0.8030 - val_recall: 0.2066 - val_auc: 0.8461 - val_prc: 0.5405\n",
            "Epoch 14/100\n",
            "8/8 [==============================] - 0s 23ms/step - loss: 0.3469 - tp: 406.0000 - fp: 278.0000 - tn: 12620.0000 - fn: 1751.0000 - accuracy: 0.8652 - precision: 0.5936 - recall: 0.1882 - auc: 0.7756 - prc: 0.4063 - val_loss: 0.2945 - val_tp: 107.0000 - val_fp: 26.0000 - val_tn: 3225.0000 - val_fn: 406.0000 - val_accuracy: 0.8852 - val_precision: 0.8045 - val_recall: 0.2086 - val_auc: 0.8481 - val_prc: 0.5469\n",
            "Epoch 15/100\n",
            "8/8 [==============================] - 0s 25ms/step - loss: 0.3417 - tp: 445.0000 - fp: 283.0000 - tn: 12615.0000 - fn: 1712.0000 - accuracy: 0.8675 - precision: 0.6113 - recall: 0.2063 - auc: 0.7816 - prc: 0.4307 - val_loss: 0.2926 - val_tp: 110.0000 - val_fp: 27.0000 - val_tn: 3224.0000 - val_fn: 403.0000 - val_accuracy: 0.8858 - val_precision: 0.8029 - val_recall: 0.2144 - val_auc: 0.8500 - val_prc: 0.5531\n",
            "Epoch 16/100\n",
            "8/8 [==============================] - 0s 25ms/step - loss: 0.3408 - tp: 443.0000 - fp: 294.0000 - tn: 12604.0000 - fn: 1714.0000 - accuracy: 0.8666 - precision: 0.6011 - recall: 0.2054 - auc: 0.7835 - prc: 0.4290 - val_loss: 0.2909 - val_tp: 113.0000 - val_fp: 27.0000 - val_tn: 3224.0000 - val_fn: 400.0000 - val_accuracy: 0.8866 - val_precision: 0.8071 - val_recall: 0.2203 - val_auc: 0.8514 - val_prc: 0.5570\n",
            "Epoch 17/100\n",
            "8/8 [==============================] - 0s 24ms/step - loss: 0.3353 - tp: 470.0000 - fp: 291.0000 - tn: 12607.0000 - fn: 1687.0000 - accuracy: 0.8686 - precision: 0.6176 - recall: 0.2179 - auc: 0.7964 - prc: 0.4456 - val_loss: 0.2893 - val_tp: 117.0000 - val_fp: 33.0000 - val_tn: 3218.0000 - val_fn: 396.0000 - val_accuracy: 0.8860 - val_precision: 0.7800 - val_recall: 0.2281 - val_auc: 0.8527 - val_prc: 0.5602\n",
            "Epoch 18/100\n",
            "8/8 [==============================] - 0s 19ms/step - loss: 0.3348 - tp: 454.0000 - fp: 303.0000 - tn: 12595.0000 - fn: 1703.0000 - accuracy: 0.8668 - precision: 0.5997 - recall: 0.2105 - auc: 0.7969 - prc: 0.4466 - val_loss: 0.2878 - val_tp: 121.0000 - val_fp: 34.0000 - val_tn: 3217.0000 - val_fn: 392.0000 - val_accuracy: 0.8868 - val_precision: 0.7806 - val_recall: 0.2359 - val_auc: 0.8540 - val_prc: 0.5646\n",
            "Epoch 19/100\n",
            "8/8 [==============================] - 0s 25ms/step - loss: 0.3300 - tp: 496.0000 - fp: 296.0000 - tn: 12602.0000 - fn: 1661.0000 - accuracy: 0.8700 - precision: 0.6263 - recall: 0.2299 - auc: 0.8016 - prc: 0.4612 - val_loss: 0.2866 - val_tp: 128.0000 - val_fp: 35.0000 - val_tn: 3216.0000 - val_fn: 385.0000 - val_accuracy: 0.8884 - val_precision: 0.7853 - val_recall: 0.2495 - val_auc: 0.8556 - val_prc: 0.5692\n",
            "Epoch 20/100\n",
            "8/8 [==============================] - 0s 23ms/step - loss: 0.3327 - tp: 498.0000 - fp: 315.0000 - tn: 12583.0000 - fn: 1659.0000 - accuracy: 0.8689 - precision: 0.6125 - recall: 0.2309 - auc: 0.8004 - prc: 0.4481 - val_loss: 0.2856 - val_tp: 128.0000 - val_fp: 37.0000 - val_tn: 3214.0000 - val_fn: 385.0000 - val_accuracy: 0.8879 - val_precision: 0.7758 - val_recall: 0.2495 - val_auc: 0.8567 - val_prc: 0.5724\n",
            "Epoch 21/100\n",
            "8/8 [==============================] - 0s 24ms/step - loss: 0.3321 - tp: 484.0000 - fp: 302.0000 - tn: 12596.0000 - fn: 1673.0000 - accuracy: 0.8688 - precision: 0.6158 - recall: 0.2244 - auc: 0.8000 - prc: 0.4568 - val_loss: 0.2849 - val_tp: 130.0000 - val_fp: 37.0000 - val_tn: 3214.0000 - val_fn: 383.0000 - val_accuracy: 0.8884 - val_precision: 0.7784 - val_recall: 0.2534 - val_auc: 0.8574 - val_prc: 0.5740\n",
            "Epoch 22/100\n",
            "8/8 [==============================] - 0s 26ms/step - loss: 0.3266 - tp: 499.0000 - fp: 269.0000 - tn: 12629.0000 - fn: 1658.0000 - accuracy: 0.8720 - precision: 0.6497 - recall: 0.2313 - auc: 0.8074 - prc: 0.4721 - val_loss: 0.2841 - val_tp: 134.0000 - val_fp: 38.0000 - val_tn: 3213.0000 - val_fn: 379.0000 - val_accuracy: 0.8892 - val_precision: 0.7791 - val_recall: 0.2612 - val_auc: 0.8581 - val_prc: 0.5755\n",
            "Epoch 23/100\n",
            "8/8 [==============================] - 0s 13ms/step - loss: 0.3246 - tp: 500.0000 - fp: 286.0000 - tn: 12612.0000 - fn: 1657.0000 - accuracy: 0.8709 - precision: 0.6361 - recall: 0.2318 - auc: 0.8115 - prc: 0.4766 - val_loss: 0.2833 - val_tp: 136.0000 - val_fp: 38.0000 - val_tn: 3213.0000 - val_fn: 377.0000 - val_accuracy: 0.8897 - val_precision: 0.7816 - val_recall: 0.2651 - val_auc: 0.8589 - val_prc: 0.5764\n",
            "Epoch 24/100\n",
            "8/8 [==============================] - 0s 14ms/step - loss: 0.3240 - tp: 542.0000 - fp: 291.0000 - tn: 12607.0000 - fn: 1615.0000 - accuracy: 0.8734 - precision: 0.6507 - recall: 0.2513 - auc: 0.8113 - prc: 0.4852 - val_loss: 0.2825 - val_tp: 139.0000 - val_fp: 40.0000 - val_tn: 3211.0000 - val_fn: 374.0000 - val_accuracy: 0.8900 - val_precision: 0.7765 - val_recall: 0.2710 - val_auc: 0.8595 - val_prc: 0.5775\n",
            "Epoch 25/100\n",
            "8/8 [==============================] - 0s 16ms/step - loss: 0.3247 - tp: 534.0000 - fp: 304.0000 - tn: 12594.0000 - fn: 1623.0000 - accuracy: 0.8720 - precision: 0.6372 - recall: 0.2476 - auc: 0.8111 - prc: 0.4808 - val_loss: 0.2819 - val_tp: 143.0000 - val_fp: 44.0000 - val_tn: 3207.0000 - val_fn: 370.0000 - val_accuracy: 0.8900 - val_precision: 0.7647 - val_recall: 0.2788 - val_auc: 0.8599 - val_prc: 0.5780\n",
            "Epoch 26/100\n",
            "8/8 [==============================] - 0s 14ms/step - loss: 0.3186 - tp: 552.0000 - fp: 280.0000 - tn: 12618.0000 - fn: 1605.0000 - accuracy: 0.8748 - precision: 0.6635 - recall: 0.2559 - auc: 0.8195 - prc: 0.4973 - val_loss: 0.2815 - val_tp: 144.0000 - val_fp: 44.0000 - val_tn: 3207.0000 - val_fn: 369.0000 - val_accuracy: 0.8903 - val_precision: 0.7660 - val_recall: 0.2807 - val_auc: 0.8605 - val_prc: 0.5789\n",
            "Epoch 27/100\n",
            "8/8 [==============================] - 0s 14ms/step - loss: 0.3203 - tp: 561.0000 - fp: 293.0000 - tn: 12605.0000 - fn: 1596.0000 - accuracy: 0.8745 - precision: 0.6569 - recall: 0.2601 - auc: 0.8185 - prc: 0.4883 - val_loss: 0.2809 - val_tp: 148.0000 - val_fp: 44.0000 - val_tn: 3207.0000 - val_fn: 365.0000 - val_accuracy: 0.8913 - val_precision: 0.7708 - val_recall: 0.2885 - val_auc: 0.8611 - val_prc: 0.5792\n",
            "Epoch 28/100\n",
            "8/8 [==============================] - 0s 14ms/step - loss: 0.3202 - tp: 544.0000 - fp: 284.0000 - tn: 12614.0000 - fn: 1613.0000 - accuracy: 0.8740 - precision: 0.6570 - recall: 0.2522 - auc: 0.8181 - prc: 0.4886 - val_loss: 0.2805 - val_tp: 149.0000 - val_fp: 45.0000 - val_tn: 3206.0000 - val_fn: 364.0000 - val_accuracy: 0.8913 - val_precision: 0.7680 - val_recall: 0.2904 - val_auc: 0.8614 - val_prc: 0.5793\n",
            "Epoch 29/100\n",
            "8/8 [==============================] - 0s 19ms/step - loss: 0.3212 - tp: 548.0000 - fp: 308.0000 - tn: 12590.0000 - fn: 1609.0000 - accuracy: 0.8727 - precision: 0.6402 - recall: 0.2541 - auc: 0.8195 - prc: 0.4853 - val_loss: 0.2803 - val_tp: 148.0000 - val_fp: 44.0000 - val_tn: 3207.0000 - val_fn: 365.0000 - val_accuracy: 0.8913 - val_precision: 0.7708 - val_recall: 0.2885 - val_auc: 0.8619 - val_prc: 0.5794\n",
            "Epoch 30/100\n",
            "8/8 [==============================] - 0s 14ms/step - loss: 0.3177 - tp: 555.0000 - fp: 287.0000 - tn: 12611.0000 - fn: 1602.0000 - accuracy: 0.8745 - precision: 0.6591 - recall: 0.2573 - auc: 0.8226 - prc: 0.4946 - val_loss: 0.2800 - val_tp: 148.0000 - val_fp: 44.0000 - val_tn: 3207.0000 - val_fn: 365.0000 - val_accuracy: 0.8913 - val_precision: 0.7708 - val_recall: 0.2885 - val_auc: 0.8625 - val_prc: 0.5796\n",
            "Epoch 31/100\n",
            "8/8 [==============================] - 0s 15ms/step - loss: 0.3187 - tp: 542.0000 - fp: 294.0000 - tn: 12604.0000 - fn: 1615.0000 - accuracy: 0.8732 - precision: 0.6483 - recall: 0.2513 - auc: 0.8213 - prc: 0.4912 - val_loss: 0.2797 - val_tp: 147.0000 - val_fp: 45.0000 - val_tn: 3206.0000 - val_fn: 366.0000 - val_accuracy: 0.8908 - val_precision: 0.7656 - val_recall: 0.2865 - val_auc: 0.8627 - val_prc: 0.5796\n",
            "Epoch 32/100\n",
            "8/8 [==============================] - 0s 14ms/step - loss: 0.3144 - tp: 564.0000 - fp: 267.0000 - tn: 12631.0000 - fn: 1593.0000 - accuracy: 0.8765 - precision: 0.6787 - recall: 0.2615 - auc: 0.8264 - prc: 0.5067 - val_loss: 0.2795 - val_tp: 150.0000 - val_fp: 45.0000 - val_tn: 3206.0000 - val_fn: 363.0000 - val_accuracy: 0.8916 - val_precision: 0.7692 - val_recall: 0.2924 - val_auc: 0.8633 - val_prc: 0.5802\n",
            "Epoch 33/100\n",
            "8/8 [==============================] - 0s 17ms/step - loss: 0.3151 - tp: 538.0000 - fp: 292.0000 - tn: 12606.0000 - fn: 1619.0000 - accuracy: 0.8731 - precision: 0.6482 - recall: 0.2494 - auc: 0.8263 - prc: 0.5054 - val_loss: 0.2790 - val_tp: 152.0000 - val_fp: 46.0000 - val_tn: 3205.0000 - val_fn: 361.0000 - val_accuracy: 0.8919 - val_precision: 0.7677 - val_recall: 0.2963 - val_auc: 0.8635 - val_prc: 0.5802\n",
            "Epoch 34/100\n",
            "8/8 [==============================] - 0s 14ms/step - loss: 0.3127 - tp: 551.0000 - fp: 270.0000 - tn: 12628.0000 - fn: 1606.0000 - accuracy: 0.8754 - precision: 0.6711 - recall: 0.2554 - auc: 0.8321 - prc: 0.5089 - val_loss: 0.2786 - val_tp: 154.0000 - val_fp: 47.0000 - val_tn: 3204.0000 - val_fn: 359.0000 - val_accuracy: 0.8921 - val_precision: 0.7662 - val_recall: 0.3002 - val_auc: 0.8638 - val_prc: 0.5804\n",
            "Epoch 35/100\n",
            "8/8 [==============================] - 0s 14ms/step - loss: 0.3164 - tp: 538.0000 - fp: 273.0000 - tn: 12625.0000 - fn: 1619.0000 - accuracy: 0.8743 - precision: 0.6634 - recall: 0.2494 - auc: 0.8249 - prc: 0.5000 - val_loss: 0.2782 - val_tp: 158.0000 - val_fp: 48.0000 - val_tn: 3203.0000 - val_fn: 355.0000 - val_accuracy: 0.8929 - val_precision: 0.7670 - val_recall: 0.3080 - val_auc: 0.8640 - val_prc: 0.5809\n",
            "Epoch 36/100\n",
            "8/8 [==============================] - 0s 14ms/step - loss: 0.3159 - tp: 555.0000 - fp: 280.0000 - tn: 12618.0000 - fn: 1602.0000 - accuracy: 0.8750 - precision: 0.6647 - recall: 0.2573 - auc: 0.8274 - prc: 0.5019 - val_loss: 0.2779 - val_tp: 158.0000 - val_fp: 49.0000 - val_tn: 3202.0000 - val_fn: 355.0000 - val_accuracy: 0.8927 - val_precision: 0.7633 - val_recall: 0.3080 - val_auc: 0.8640 - val_prc: 0.5811\n",
            "Epoch 37/100\n",
            "8/8 [==============================] - 0s 20ms/step - loss: 0.3173 - tp: 560.0000 - fp: 307.0000 - tn: 12591.0000 - fn: 1597.0000 - accuracy: 0.8735 - precision: 0.6459 - recall: 0.2596 - auc: 0.8252 - prc: 0.4987 - val_loss: 0.2778 - val_tp: 158.0000 - val_fp: 48.0000 - val_tn: 3203.0000 - val_fn: 355.0000 - val_accuracy: 0.8929 - val_precision: 0.7670 - val_recall: 0.3080 - val_auc: 0.8649 - val_prc: 0.5812\n",
            "Epoch 38/100\n",
            "8/8 [==============================] - 0s 14ms/step - loss: 0.3141 - tp: 555.0000 - fp: 302.0000 - tn: 12596.0000 - fn: 1602.0000 - accuracy: 0.8735 - precision: 0.6476 - recall: 0.2573 - auc: 0.8282 - prc: 0.5055 - val_loss: 0.2779 - val_tp: 156.0000 - val_fp: 48.0000 - val_tn: 3203.0000 - val_fn: 357.0000 - val_accuracy: 0.8924 - val_precision: 0.7647 - val_recall: 0.3041 - val_auc: 0.8650 - val_prc: 0.5809\n",
            "Epoch 39/100\n",
            "8/8 [==============================] - 0s 13ms/step - loss: 0.3137 - tp: 531.0000 - fp: 254.0000 - tn: 12644.0000 - fn: 1626.0000 - accuracy: 0.8751 - precision: 0.6764 - recall: 0.2462 - auc: 0.8285 - prc: 0.5107 - val_loss: 0.2779 - val_tp: 156.0000 - val_fp: 47.0000 - val_tn: 3204.0000 - val_fn: 357.0000 - val_accuracy: 0.8927 - val_precision: 0.7685 - val_recall: 0.3041 - val_auc: 0.8651 - val_prc: 0.5809\n",
            "Epoch 40/100\n",
            "8/8 [==============================] - 0s 13ms/step - loss: 0.3142 - tp: 555.0000 - fp: 272.0000 - tn: 12626.0000 - fn: 1602.0000 - accuracy: 0.8755 - precision: 0.6711 - recall: 0.2573 - auc: 0.8289 - prc: 0.5073 - val_loss: 0.2776 - val_tp: 159.0000 - val_fp: 48.0000 - val_tn: 3203.0000 - val_fn: 354.0000 - val_accuracy: 0.8932 - val_precision: 0.7681 - val_recall: 0.3099 - val_auc: 0.8654 - val_prc: 0.5811\n",
            "Epoch 41/100\n",
            "8/8 [==============================] - 0s 20ms/step - loss: 0.3122 - tp: 564.0000 - fp: 294.0000 - tn: 12604.0000 - fn: 1593.0000 - accuracy: 0.8747 - precision: 0.6573 - recall: 0.2615 - auc: 0.8326 - prc: 0.5126 - val_loss: 0.2773 - val_tp: 159.0000 - val_fp: 50.0000 - val_tn: 3201.0000 - val_fn: 354.0000 - val_accuracy: 0.8927 - val_precision: 0.7608 - val_recall: 0.3099 - val_auc: 0.8655 - val_prc: 0.5813\n",
            "Epoch 42/100\n",
            "8/8 [==============================] - 0s 14ms/step - loss: 0.3098 - tp: 576.0000 - fp: 286.0000 - tn: 12612.0000 - fn: 1581.0000 - accuracy: 0.8760 - precision: 0.6682 - recall: 0.2670 - auc: 0.8351 - prc: 0.5170 - val_loss: 0.2771 - val_tp: 160.0000 - val_fp: 52.0000 - val_tn: 3199.0000 - val_fn: 353.0000 - val_accuracy: 0.8924 - val_precision: 0.7547 - val_recall: 0.3119 - val_auc: 0.8655 - val_prc: 0.5811\n",
            "Epoch 43/100\n",
            "8/8 [==============================] - 0s 14ms/step - loss: 0.3115 - tp: 563.0000 - fp: 271.0000 - tn: 12627.0000 - fn: 1594.0000 - accuracy: 0.8761 - precision: 0.6751 - recall: 0.2610 - auc: 0.8345 - prc: 0.5137 - val_loss: 0.2769 - val_tp: 161.0000 - val_fp: 52.0000 - val_tn: 3199.0000 - val_fn: 352.0000 - val_accuracy: 0.8927 - val_precision: 0.7559 - val_recall: 0.3138 - val_auc: 0.8657 - val_prc: 0.5812\n",
            "Epoch 44/100\n",
            "8/8 [==============================] - 0s 14ms/step - loss: 0.3088 - tp: 592.0000 - fp: 292.0000 - tn: 12606.0000 - fn: 1565.0000 - accuracy: 0.8767 - precision: 0.6697 - recall: 0.2745 - auc: 0.8366 - prc: 0.5247 - val_loss: 0.2767 - val_tp: 161.0000 - val_fp: 52.0000 - val_tn: 3199.0000 - val_fn: 352.0000 - val_accuracy: 0.8927 - val_precision: 0.7559 - val_recall: 0.3138 - val_auc: 0.8659 - val_prc: 0.5819\n",
            "Epoch 45/100\n",
            "8/8 [==============================] - 0s 13ms/step - loss: 0.3112 - tp: 572.0000 - fp: 280.0000 - tn: 12618.0000 - fn: 1585.0000 - accuracy: 0.8761 - precision: 0.6714 - recall: 0.2652 - auc: 0.8329 - prc: 0.5156 - val_loss: 0.2767 - val_tp: 160.0000 - val_fp: 52.0000 - val_tn: 3199.0000 - val_fn: 353.0000 - val_accuracy: 0.8924 - val_precision: 0.7547 - val_recall: 0.3119 - val_auc: 0.8660 - val_prc: 0.5815\n",
            "Epoch 46/100\n",
            "8/8 [==============================] - 0s 15ms/step - loss: 0.3089 - tp: 580.0000 - fp: 271.0000 - tn: 12627.0000 - fn: 1577.0000 - accuracy: 0.8773 - precision: 0.6816 - recall: 0.2689 - auc: 0.8349 - prc: 0.5231 - val_loss: 0.2768 - val_tp: 159.0000 - val_fp: 51.0000 - val_tn: 3200.0000 - val_fn: 354.0000 - val_accuracy: 0.8924 - val_precision: 0.7571 - val_recall: 0.3099 - val_auc: 0.8658 - val_prc: 0.5816\n",
            "Epoch 47/100\n",
            "8/8 [==============================] - 0s 14ms/step - loss: 0.3084 - tp: 556.0000 - fp: 278.0000 - tn: 12620.0000 - fn: 1601.0000 - accuracy: 0.8752 - precision: 0.6667 - recall: 0.2578 - auc: 0.8382 - prc: 0.5201 - val_loss: 0.2766 - val_tp: 159.0000 - val_fp: 52.0000 - val_tn: 3199.0000 - val_fn: 354.0000 - val_accuracy: 0.8921 - val_precision: 0.7536 - val_recall: 0.3099 - val_auc: 0.8661 - val_prc: 0.5813\n",
            "Epoch 48/100\n",
            "8/8 [==============================] - 0s 14ms/step - loss: 0.3104 - tp: 559.0000 - fp: 270.0000 - tn: 12628.0000 - fn: 1598.0000 - accuracy: 0.8759 - precision: 0.6743 - recall: 0.2592 - auc: 0.8332 - prc: 0.5199 - val_loss: 0.2764 - val_tp: 161.0000 - val_fp: 52.0000 - val_tn: 3199.0000 - val_fn: 352.0000 - val_accuracy: 0.8927 - val_precision: 0.7559 - val_recall: 0.3138 - val_auc: 0.8663 - val_prc: 0.5819\n",
            "Epoch 49/100\n",
            "8/8 [==============================] - 0s 13ms/step - loss: 0.3112 - tp: 568.0000 - fp: 297.0000 - tn: 12601.0000 - fn: 1589.0000 - accuracy: 0.8747 - precision: 0.6566 - recall: 0.2633 - auc: 0.8346 - prc: 0.5131 - val_loss: 0.2763 - val_tp: 162.0000 - val_fp: 53.0000 - val_tn: 3198.0000 - val_fn: 351.0000 - val_accuracy: 0.8927 - val_precision: 0.7535 - val_recall: 0.3158 - val_auc: 0.8664 - val_prc: 0.5819\n",
            "Epoch 50/100\n",
            "8/8 [==============================] - 0s 15ms/step - loss: 0.3090 - tp: 562.0000 - fp: 286.0000 - tn: 12612.0000 - fn: 1595.0000 - accuracy: 0.8751 - precision: 0.6627 - recall: 0.2605 - auc: 0.8401 - prc: 0.5136 - val_loss: 0.2762 - val_tp: 162.0000 - val_fp: 53.0000 - val_tn: 3198.0000 - val_fn: 351.0000 - val_accuracy: 0.8927 - val_precision: 0.7535 - val_recall: 0.3158 - val_auc: 0.8664 - val_prc: 0.5818\n",
            "Epoch 51/100\n",
            "8/8 [==============================] - 0s 14ms/step - loss: 0.3085 - tp: 577.0000 - fp: 277.0000 - tn: 12621.0000 - fn: 1580.0000 - accuracy: 0.8767 - precision: 0.6756 - recall: 0.2675 - auc: 0.8377 - prc: 0.5195 - val_loss: 0.2761 - val_tp: 163.0000 - val_fp: 53.0000 - val_tn: 3198.0000 - val_fn: 350.0000 - val_accuracy: 0.8929 - val_precision: 0.7546 - val_recall: 0.3177 - val_auc: 0.8668 - val_prc: 0.5824\n",
            "Epoch 52/100\n",
            "8/8 [==============================] - 0s 14ms/step - loss: 0.3093 - tp: 576.0000 - fp: 290.0000 - tn: 12608.0000 - fn: 1581.0000 - accuracy: 0.8757 - precision: 0.6651 - recall: 0.2670 - auc: 0.8378 - prc: 0.5178 - val_loss: 0.2759 - val_tp: 164.0000 - val_fp: 53.0000 - val_tn: 3198.0000 - val_fn: 349.0000 - val_accuracy: 0.8932 - val_precision: 0.7558 - val_recall: 0.3197 - val_auc: 0.8667 - val_prc: 0.5821\n",
            "Epoch 53/100\n",
            "8/8 [==============================] - 0s 13ms/step - loss: 0.3098 - tp: 555.0000 - fp: 290.0000 - tn: 12608.0000 - fn: 1602.0000 - accuracy: 0.8743 - precision: 0.6568 - recall: 0.2573 - auc: 0.8370 - prc: 0.5138 - val_loss: 0.2758 - val_tp: 164.0000 - val_fp: 53.0000 - val_tn: 3198.0000 - val_fn: 349.0000 - val_accuracy: 0.8932 - val_precision: 0.7558 - val_recall: 0.3197 - val_auc: 0.8669 - val_prc: 0.5821\n",
            "Epoch 54/100\n",
            "8/8 [==============================] - 0s 18ms/step - loss: 0.3086 - tp: 593.0000 - fp: 287.0000 - tn: 12611.0000 - fn: 1564.0000 - accuracy: 0.8771 - precision: 0.6739 - recall: 0.2749 - auc: 0.8360 - prc: 0.5222 - val_loss: 0.2757 - val_tp: 164.0000 - val_fp: 54.0000 - val_tn: 3197.0000 - val_fn: 349.0000 - val_accuracy: 0.8929 - val_precision: 0.7523 - val_recall: 0.3197 - val_auc: 0.8671 - val_prc: 0.5829\n",
            "Epoch 55/100\n",
            "8/8 [==============================] - 0s 14ms/step - loss: 0.3061 - tp: 605.0000 - fp: 287.0000 - tn: 12611.0000 - fn: 1552.0000 - accuracy: 0.8778 - precision: 0.6783 - recall: 0.2805 - auc: 0.8386 - prc: 0.5323 - val_loss: 0.2756 - val_tp: 162.0000 - val_fp: 53.0000 - val_tn: 3198.0000 - val_fn: 351.0000 - val_accuracy: 0.8927 - val_precision: 0.7535 - val_recall: 0.3158 - val_auc: 0.8673 - val_prc: 0.5830\n",
            "Epoch 56/100\n",
            "8/8 [==============================] - 0s 14ms/step - loss: 0.3093 - tp: 571.0000 - fp: 282.0000 - tn: 12616.0000 - fn: 1586.0000 - accuracy: 0.8759 - precision: 0.6694 - recall: 0.2647 - auc: 0.8368 - prc: 0.5192 - val_loss: 0.2757 - val_tp: 162.0000 - val_fp: 52.0000 - val_tn: 3199.0000 - val_fn: 351.0000 - val_accuracy: 0.8929 - val_precision: 0.7570 - val_recall: 0.3158 - val_auc: 0.8673 - val_prc: 0.5830\n",
            "Epoch 57/100\n",
            "8/8 [==============================] - 0s 14ms/step - loss: 0.3086 - tp: 566.0000 - fp: 275.0000 - tn: 12623.0000 - fn: 1591.0000 - accuracy: 0.8761 - precision: 0.6730 - recall: 0.2624 - auc: 0.8385 - prc: 0.5221 - val_loss: 0.2757 - val_tp: 162.0000 - val_fp: 52.0000 - val_tn: 3199.0000 - val_fn: 351.0000 - val_accuracy: 0.8929 - val_precision: 0.7570 - val_recall: 0.3158 - val_auc: 0.8674 - val_prc: 0.5831\n",
            "Epoch 58/100\n",
            "8/8 [==============================] - 0s 15ms/step - loss: 0.3031 - tp: 593.0000 - fp: 263.0000 - tn: 12635.0000 - fn: 1564.0000 - accuracy: 0.8786 - precision: 0.6928 - recall: 0.2749 - auc: 0.8434 - prc: 0.5368 - val_loss: 0.2755 - val_tp: 163.0000 - val_fp: 55.0000 - val_tn: 3196.0000 - val_fn: 350.0000 - val_accuracy: 0.8924 - val_precision: 0.7477 - val_recall: 0.3177 - val_auc: 0.8673 - val_prc: 0.5832\n",
            "Epoch 59/100\n",
            "8/8 [==============================] - 0s 19ms/step - loss: 0.3094 - tp: 572.0000 - fp: 302.0000 - tn: 12596.0000 - fn: 1585.0000 - accuracy: 0.8747 - precision: 0.6545 - recall: 0.2652 - auc: 0.8393 - prc: 0.5143 - val_loss: 0.2753 - val_tp: 163.0000 - val_fp: 57.0000 - val_tn: 3194.0000 - val_fn: 350.0000 - val_accuracy: 0.8919 - val_precision: 0.7409 - val_recall: 0.3177 - val_auc: 0.8670 - val_prc: 0.5834\n",
            "Epoch 60/100\n",
            "8/8 [==============================] - 0s 14ms/step - loss: 0.3047 - tp: 597.0000 - fp: 246.0000 - tn: 12652.0000 - fn: 1560.0000 - accuracy: 0.8800 - precision: 0.7082 - recall: 0.2768 - auc: 0.8403 - prc: 0.5336 - val_loss: 0.2753 - val_tp: 163.0000 - val_fp: 57.0000 - val_tn: 3194.0000 - val_fn: 350.0000 - val_accuracy: 0.8919 - val_precision: 0.7409 - val_recall: 0.3177 - val_auc: 0.8672 - val_prc: 0.5834\n",
            "Epoch 61/100\n",
            "8/8 [==============================] - 0s 14ms/step - loss: 0.3057 - tp: 592.0000 - fp: 277.0000 - tn: 12621.0000 - fn: 1565.0000 - accuracy: 0.8776 - precision: 0.6812 - recall: 0.2745 - auc: 0.8415 - prc: 0.5307 - val_loss: 0.2752 - val_tp: 164.0000 - val_fp: 62.0000 - val_tn: 3189.0000 - val_fn: 349.0000 - val_accuracy: 0.8908 - val_precision: 0.7257 - val_recall: 0.3197 - val_auc: 0.8675 - val_prc: 0.5837\n",
            "Epoch 62/100\n",
            "8/8 [==============================] - 0s 14ms/step - loss: 0.3060 - tp: 617.0000 - fp: 289.0000 - tn: 12609.0000 - fn: 1540.0000 - accuracy: 0.8785 - precision: 0.6810 - recall: 0.2860 - auc: 0.8407 - prc: 0.5286 - val_loss: 0.2752 - val_tp: 164.0000 - val_fp: 58.0000 - val_tn: 3193.0000 - val_fn: 349.0000 - val_accuracy: 0.8919 - val_precision: 0.7387 - val_recall: 0.3197 - val_auc: 0.8671 - val_prc: 0.5833\n",
            "Epoch 63/100\n",
            "8/8 [==============================] - 0s 13ms/step - loss: 0.3060 - tp: 608.0000 - fp: 288.0000 - tn: 12610.0000 - fn: 1549.0000 - accuracy: 0.8780 - precision: 0.6786 - recall: 0.2819 - auc: 0.8427 - prc: 0.5246 - val_loss: 0.2752 - val_tp: 164.0000 - val_fp: 58.0000 - val_tn: 3193.0000 - val_fn: 349.0000 - val_accuracy: 0.8919 - val_precision: 0.7387 - val_recall: 0.3197 - val_auc: 0.8674 - val_prc: 0.5836\n",
            "Epoch 64/100\n",
            "8/8 [==============================] - 0s 21ms/step - loss: 0.3062 - tp: 598.0000 - fp: 280.0000 - tn: 12618.0000 - fn: 1559.0000 - accuracy: 0.8778 - precision: 0.6811 - recall: 0.2772 - auc: 0.8402 - prc: 0.5291 - val_loss: 0.2752 - val_tp: 164.0000 - val_fp: 58.0000 - val_tn: 3193.0000 - val_fn: 349.0000 - val_accuracy: 0.8919 - val_precision: 0.7387 - val_recall: 0.3197 - val_auc: 0.8674 - val_prc: 0.5835\n",
            "Epoch 65/100\n",
            "8/8 [==============================] - 0s 16ms/step - loss: 0.3048 - tp: 589.0000 - fp: 289.0000 - tn: 12609.0000 - fn: 1568.0000 - accuracy: 0.8767 - precision: 0.6708 - recall: 0.2731 - auc: 0.8426 - prc: 0.5326 - val_loss: 0.2751 - val_tp: 165.0000 - val_fp: 59.0000 - val_tn: 3192.0000 - val_fn: 348.0000 - val_accuracy: 0.8919 - val_precision: 0.7366 - val_recall: 0.3216 - val_auc: 0.8673 - val_prc: 0.5833\n",
            "Epoch 66/100\n",
            "8/8 [==============================] - 0s 15ms/step - loss: 0.3071 - tp: 575.0000 - fp: 279.0000 - tn: 12619.0000 - fn: 1582.0000 - accuracy: 0.8764 - precision: 0.6733 - recall: 0.2666 - auc: 0.8403 - prc: 0.5239 - val_loss: 0.2751 - val_tp: 165.0000 - val_fp: 59.0000 - val_tn: 3192.0000 - val_fn: 348.0000 - val_accuracy: 0.8919 - val_precision: 0.7366 - val_recall: 0.3216 - val_auc: 0.8675 - val_prc: 0.5836\n",
            "Epoch 67/100\n",
            "8/8 [==============================] - 0s 14ms/step - loss: 0.3055 - tp: 614.0000 - fp: 291.0000 - tn: 12607.0000 - fn: 1543.0000 - accuracy: 0.8782 - precision: 0.6785 - recall: 0.2847 - auc: 0.8419 - prc: 0.5274 - val_loss: 0.2750 - val_tp: 165.0000 - val_fp: 58.0000 - val_tn: 3193.0000 - val_fn: 348.0000 - val_accuracy: 0.8921 - val_precision: 0.7399 - val_recall: 0.3216 - val_auc: 0.8676 - val_prc: 0.5837\n",
            "Epoch 68/100\n",
            "8/8 [==============================] - 0s 20ms/step - loss: 0.3042 - tp: 595.0000 - fp: 272.0000 - tn: 12626.0000 - fn: 1562.0000 - accuracy: 0.8782 - precision: 0.6863 - recall: 0.2758 - auc: 0.8422 - prc: 0.5338 - val_loss: 0.2750 - val_tp: 164.0000 - val_fp: 58.0000 - val_tn: 3193.0000 - val_fn: 349.0000 - val_accuracy: 0.8919 - val_precision: 0.7387 - val_recall: 0.3197 - val_auc: 0.8677 - val_prc: 0.5846\n",
            "Epoch 69/100\n",
            "8/8 [==============================] - 0s 13ms/step - loss: 0.3021 - tp: 614.0000 - fp: 257.0000 - tn: 12641.0000 - fn: 1543.0000 - accuracy: 0.8804 - precision: 0.7049 - recall: 0.2847 - auc: 0.8449 - prc: 0.5382 - val_loss: 0.2749 - val_tp: 165.0000 - val_fp: 59.0000 - val_tn: 3192.0000 - val_fn: 348.0000 - val_accuracy: 0.8919 - val_precision: 0.7366 - val_recall: 0.3216 - val_auc: 0.8676 - val_prc: 0.5839\n",
            "Epoch 70/100\n",
            "8/8 [==============================] - 0s 14ms/step - loss: 0.3059 - tp: 574.0000 - fp: 298.0000 - tn: 12600.0000 - fn: 1583.0000 - accuracy: 0.8751 - precision: 0.6583 - recall: 0.2661 - auc: 0.8429 - prc: 0.5236 - val_loss: 0.2748 - val_tp: 165.0000 - val_fp: 59.0000 - val_tn: 3192.0000 - val_fn: 348.0000 - val_accuracy: 0.8919 - val_precision: 0.7366 - val_recall: 0.3216 - val_auc: 0.8677 - val_prc: 0.5842\n",
            "Epoch 71/100\n",
            "8/8 [==============================] - 0s 15ms/step - loss: 0.3034 - tp: 591.0000 - fp: 285.0000 - tn: 12613.0000 - fn: 1566.0000 - accuracy: 0.8771 - precision: 0.6747 - recall: 0.2740 - auc: 0.8437 - prc: 0.5367 - val_loss: 0.2747 - val_tp: 165.0000 - val_fp: 59.0000 - val_tn: 3192.0000 - val_fn: 348.0000 - val_accuracy: 0.8919 - val_precision: 0.7366 - val_recall: 0.3216 - val_auc: 0.8679 - val_prc: 0.5843\n",
            "Epoch 72/100\n",
            "8/8 [==============================] - 0s 14ms/step - loss: 0.3025 - tp: 613.0000 - fp: 296.0000 - tn: 12602.0000 - fn: 1544.0000 - accuracy: 0.8778 - precision: 0.6744 - recall: 0.2842 - auc: 0.8465 - prc: 0.5346 - val_loss: 0.2747 - val_tp: 165.0000 - val_fp: 59.0000 - val_tn: 3192.0000 - val_fn: 348.0000 - val_accuracy: 0.8919 - val_precision: 0.7366 - val_recall: 0.3216 - val_auc: 0.8678 - val_prc: 0.5844\n",
            "Epoch 73/100\n",
            "8/8 [==============================] - 0s 13ms/step - loss: 0.3046 - tp: 587.0000 - fp: 275.0000 - tn: 12623.0000 - fn: 1570.0000 - accuracy: 0.8774 - precision: 0.6810 - recall: 0.2721 - auc: 0.8446 - prc: 0.5300 - val_loss: 0.2746 - val_tp: 165.0000 - val_fp: 59.0000 - val_tn: 3192.0000 - val_fn: 348.0000 - val_accuracy: 0.8919 - val_precision: 0.7366 - val_recall: 0.3216 - val_auc: 0.8679 - val_prc: 0.5845\n",
            "Epoch 74/100\n",
            "8/8 [==============================] - 0s 15ms/step - loss: 0.3045 - tp: 602.0000 - fp: 298.0000 - tn: 12600.0000 - fn: 1555.0000 - accuracy: 0.8769 - precision: 0.6689 - recall: 0.2791 - auc: 0.8434 - prc: 0.5298 - val_loss: 0.2745 - val_tp: 165.0000 - val_fp: 60.0000 - val_tn: 3191.0000 - val_fn: 348.0000 - val_accuracy: 0.8916 - val_precision: 0.7333 - val_recall: 0.3216 - val_auc: 0.8679 - val_prc: 0.5845\n",
            "Epoch 75/100\n",
            "8/8 [==============================] - 0s 14ms/step - loss: 0.3025 - tp: 587.0000 - fp: 262.0000 - tn: 12636.0000 - fn: 1570.0000 - accuracy: 0.8783 - precision: 0.6914 - recall: 0.2721 - auc: 0.8460 - prc: 0.5383 - val_loss: 0.2746 - val_tp: 165.0000 - val_fp: 60.0000 - val_tn: 3191.0000 - val_fn: 348.0000 - val_accuracy: 0.8916 - val_precision: 0.7333 - val_recall: 0.3216 - val_auc: 0.8679 - val_prc: 0.5847\n",
            "Epoch 76/100\n",
            "8/8 [==============================] - 0s 14ms/step - loss: 0.3020 - tp: 594.0000 - fp: 275.0000 - tn: 12623.0000 - fn: 1563.0000 - accuracy: 0.8779 - precision: 0.6835 - recall: 0.2754 - auc: 0.8474 - prc: 0.5360 - val_loss: 0.2745 - val_tp: 165.0000 - val_fp: 60.0000 - val_tn: 3191.0000 - val_fn: 348.0000 - val_accuracy: 0.8916 - val_precision: 0.7333 - val_recall: 0.3216 - val_auc: 0.8678 - val_prc: 0.5849\n",
            "Epoch 77/100\n",
            "8/8 [==============================] - 0s 13ms/step - loss: 0.3040 - tp: 584.0000 - fp: 265.0000 - tn: 12633.0000 - fn: 1573.0000 - accuracy: 0.8779 - precision: 0.6879 - recall: 0.2707 - auc: 0.8459 - prc: 0.5296 - val_loss: 0.2744 - val_tp: 166.0000 - val_fp: 60.0000 - val_tn: 3191.0000 - val_fn: 347.0000 - val_accuracy: 0.8919 - val_precision: 0.7345 - val_recall: 0.3236 - val_auc: 0.8679 - val_prc: 0.5852\n",
            "Epoch 78/100\n",
            "8/8 [==============================] - 0s 14ms/step - loss: 0.3036 - tp: 580.0000 - fp: 263.0000 - tn: 12635.0000 - fn: 1577.0000 - accuracy: 0.8778 - precision: 0.6880 - recall: 0.2689 - auc: 0.8445 - prc: 0.5329 - val_loss: 0.2743 - val_tp: 166.0000 - val_fp: 60.0000 - val_tn: 3191.0000 - val_fn: 347.0000 - val_accuracy: 0.8919 - val_precision: 0.7345 - val_recall: 0.3236 - val_auc: 0.8681 - val_prc: 0.5853\n",
            "Epoch 79/100\n",
            "8/8 [==============================] - 0s 13ms/step - loss: 0.3034 - tp: 592.0000 - fp: 275.0000 - tn: 12623.0000 - fn: 1565.0000 - accuracy: 0.8778 - precision: 0.6828 - recall: 0.2745 - auc: 0.8464 - prc: 0.5324 - val_loss: 0.2742 - val_tp: 167.0000 - val_fp: 63.0000 - val_tn: 3188.0000 - val_fn: 346.0000 - val_accuracy: 0.8913 - val_precision: 0.7261 - val_recall: 0.3255 - val_auc: 0.8680 - val_prc: 0.5852\n",
            "Epoch 80/100\n",
            "8/8 [==============================] - 0s 19ms/step - loss: 0.3041 - tp: 595.0000 - fp: 298.0000 - tn: 12600.0000 - fn: 1562.0000 - accuracy: 0.8765 - precision: 0.6663 - recall: 0.2758 - auc: 0.8448 - prc: 0.5307 - val_loss: 0.2742 - val_tp: 166.0000 - val_fp: 63.0000 - val_tn: 3188.0000 - val_fn: 347.0000 - val_accuracy: 0.8911 - val_precision: 0.7249 - val_recall: 0.3236 - val_auc: 0.8676 - val_prc: 0.5850\n",
            "Epoch 81/100\n",
            "8/8 [==============================] - 0s 19ms/step - loss: 0.3042 - tp: 602.0000 - fp: 287.0000 - tn: 12611.0000 - fn: 1555.0000 - accuracy: 0.8776 - precision: 0.6772 - recall: 0.2791 - auc: 0.8454 - prc: 0.5319 - val_loss: 0.2742 - val_tp: 166.0000 - val_fp: 62.0000 - val_tn: 3189.0000 - val_fn: 347.0000 - val_accuracy: 0.8913 - val_precision: 0.7281 - val_recall: 0.3236 - val_auc: 0.8677 - val_prc: 0.5847\n",
            "Epoch 82/100\n",
            "8/8 [==============================] - 0s 20ms/step - loss: 0.3057 - tp: 596.0000 - fp: 295.0000 - tn: 12603.0000 - fn: 1561.0000 - accuracy: 0.8767 - precision: 0.6689 - recall: 0.2763 - auc: 0.8437 - prc: 0.5283 - val_loss: 0.2743 - val_tp: 166.0000 - val_fp: 60.0000 - val_tn: 3191.0000 - val_fn: 347.0000 - val_accuracy: 0.8919 - val_precision: 0.7345 - val_recall: 0.3236 - val_auc: 0.8680 - val_prc: 0.5849\n",
            "Epoch 83/100\n",
            "8/8 [==============================] - 0s 14ms/step - loss: 0.3002 - tp: 599.0000 - fp: 264.0000 - tn: 12634.0000 - fn: 1558.0000 - accuracy: 0.8790 - precision: 0.6941 - recall: 0.2777 - auc: 0.8479 - prc: 0.5415 - val_loss: 0.2743 - val_tp: 166.0000 - val_fp: 61.0000 - val_tn: 3190.0000 - val_fn: 347.0000 - val_accuracy: 0.8916 - val_precision: 0.7313 - val_recall: 0.3236 - val_auc: 0.8680 - val_prc: 0.5852\n",
            "Epoch 84/100\n",
            "8/8 [==============================] - 0s 14ms/step - loss: 0.3024 - tp: 606.0000 - fp: 293.0000 - tn: 12605.0000 - fn: 1551.0000 - accuracy: 0.8775 - precision: 0.6741 - recall: 0.2809 - auc: 0.8471 - prc: 0.5327 - val_loss: 0.2743 - val_tp: 166.0000 - val_fp: 61.0000 - val_tn: 3190.0000 - val_fn: 347.0000 - val_accuracy: 0.8916 - val_precision: 0.7313 - val_recall: 0.3236 - val_auc: 0.8680 - val_prc: 0.5849\n",
            "Epoch 85/100\n",
            "8/8 [==============================] - 0s 14ms/step - loss: 0.3041 - tp: 598.0000 - fp: 279.0000 - tn: 12619.0000 - fn: 1559.0000 - accuracy: 0.8779 - precision: 0.6819 - recall: 0.2772 - auc: 0.8459 - prc: 0.5321 - val_loss: 0.2743 - val_tp: 164.0000 - val_fp: 59.0000 - val_tn: 3192.0000 - val_fn: 349.0000 - val_accuracy: 0.8916 - val_precision: 0.7354 - val_recall: 0.3197 - val_auc: 0.8681 - val_prc: 0.5846\n",
            "Epoch 86/100\n",
            "8/8 [==============================] - 0s 20ms/step - loss: 0.3046 - tp: 581.0000 - fp: 302.0000 - tn: 12596.0000 - fn: 1576.0000 - accuracy: 0.8753 - precision: 0.6580 - recall: 0.2694 - auc: 0.8460 - prc: 0.5251 - val_loss: 0.2744 - val_tp: 164.0000 - val_fp: 59.0000 - val_tn: 3192.0000 - val_fn: 349.0000 - val_accuracy: 0.8916 - val_precision: 0.7354 - val_recall: 0.3197 - val_auc: 0.8680 - val_prc: 0.5847\n",
            "Epoch 87/100\n",
            "8/8 [==============================] - 0s 14ms/step - loss: 0.3029 - tp: 579.0000 - fp: 263.0000 - tn: 12635.0000 - fn: 1578.0000 - accuracy: 0.8777 - precision: 0.6876 - recall: 0.2684 - auc: 0.8454 - prc: 0.5335 - val_loss: 0.2744 - val_tp: 164.0000 - val_fp: 58.0000 - val_tn: 3193.0000 - val_fn: 349.0000 - val_accuracy: 0.8919 - val_precision: 0.7387 - val_recall: 0.3197 - val_auc: 0.8682 - val_prc: 0.5850\n",
            "Epoch 88/100\n",
            "1/8 [==>...........................] - ETA: 0s - loss: 0.3215 - tp: 78.0000 - fp: 41.0000 - tn: 1705.0000 - fn: 224.0000 - accuracy: 0.8706 - precision: 0.6555 - recall: 0.2583 - auc: 0.8263 - prc: 0.5042Restoring model weights from the end of the best epoch: 78.\n",
            "8/8 [==============================] - 0s 16ms/step - loss: 0.3031 - tp: 587.0000 - fp: 270.0000 - tn: 12628.0000 - fn: 1570.0000 - accuracy: 0.8778 - precision: 0.6849 - recall: 0.2721 - auc: 0.8442 - prc: 0.5330 - val_loss: 0.2743 - val_tp: 164.0000 - val_fp: 59.0000 - val_tn: 3192.0000 - val_fn: 349.0000 - val_accuracy: 0.8916 - val_precision: 0.7354 - val_recall: 0.3197 - val_auc: 0.8683 - val_prc: 0.5849\n",
            "Epoch 88: early stopping\n"
          ]
        }
      ]
    },
    {
      "cell_type": "code",
      "source": [
        "train_predictions_baseline = model.predict(train_features, batch_size=BATCH_SIZE)\n",
        "test_predictions_baseline = model.predict(test_features, batch_size=BATCH_SIZE)"
      ],
      "metadata": {
        "colab": {
          "base_uri": "https://localhost:8080/"
        },
        "id": "oAArIQapas9s",
        "outputId": "895fba1d-b3ae-436d-b649-9d29a0defa75"
      },
      "execution_count": 48,
      "outputs": [
        {
          "output_type": "stream",
          "name": "stdout",
          "text": [
            "8/8 [==============================] - 0s 2ms/step\n",
            "3/3 [==============================] - 0s 4ms/step\n"
          ]
        }
      ]
    },
    {
      "cell_type": "code",
      "source": [
        "def plot_cm(labels, predictions, p=0.5):\n",
        "  cm = confusion_matrix(labels, predictions > p, normalize='true')\n",
        "  plt.figure(figsize=(5,5))\n",
        "  sns.heatmap(cm, annot=True, fmt=\"d\")\n",
        "  plt.title('Confusion matrix @{:.2f}'.format(p))\n",
        "  plt.ylabel('Actual label')\n",
        "  plt.xlabel('Predicted label')\n",
        "\n",
        "  print('Legitimate Transactions Detected (True Negatives): ', cm[0][0])\n",
        "  print('Legitimate Transactions Incorrectly Detected (False Positives): ', cm[0][1])\n",
        "  print('Fraudulent Transactions Missed (False Negatives): ', cm[1][0])\n",
        "  print('Fraudulent Transactions Detected (True Positives): ', cm[1][1])\n",
        "  print('Total Fraudulent Transactions: ', np.sum(cm[1]))"
      ],
      "metadata": {
        "id": "eh6LqBq8a7Q-"
      },
      "execution_count": 77,
      "outputs": []
    },
    {
      "cell_type": "code",
      "source": [
        "len(test_labels)"
      ],
      "metadata": {
        "colab": {
          "base_uri": "https://localhost:8080/"
        },
        "id": "aLhJTJABd0fD",
        "outputId": "7df3a45f-586c-41a6-bf7c-2ce65f651366"
      },
      "execution_count": 69,
      "outputs": [
        {
          "output_type": "execute_result",
          "data": {
            "text/plain": [
              "4705"
            ]
          },
          "metadata": {},
          "execution_count": 69
        }
      ]
    },
    {
      "cell_type": "code",
      "source": [
        "baseline_results = model.evaluate(test_features, test_labels,\n",
        "                                  batch_size=BATCH_SIZE, verbose=0)\n",
        "for name, value in zip(model.metrics_names, baseline_results):\n",
        "  print(name, ': ', value)\n",
        "print()\n",
        "\n",
        "plot_cm(test_labels, test_predictions_baseline)"
      ],
      "metadata": {
        "colab": {
          "base_uri": "https://localhost:8080/",
          "height": 964
        },
        "id": "fNz0QsIDbAF3",
        "outputId": "2091a59d-fcd3-405c-e692-a69d60ba5603"
      },
      "execution_count": 78,
      "outputs": [
        {
          "output_type": "stream",
          "name": "stdout",
          "text": [
            "loss :  0.2848215401172638\n",
            "tp :  193.0\n",
            "fp :  65.0\n",
            "tn :  3998.0\n",
            "fn :  449.0\n",
            "accuracy :  0.8907545208930969\n",
            "precision :  0.748062014579773\n",
            "recall :  0.3006230592727661\n",
            "auc :  0.8493397831916809\n",
            "prc :  0.5635930299758911\n",
            "\n"
          ]
        },
        {
          "output_type": "error",
          "ename": "ValueError",
          "evalue": "ignored",
          "traceback": [
            "\u001b[0;31m---------------------------------------------------------------------------\u001b[0m",
            "\u001b[0;31mValueError\u001b[0m                                Traceback (most recent call last)",
            "\u001b[0;32m<ipython-input-78-4e14f13a3a07>\u001b[0m in \u001b[0;36m<cell line: 7>\u001b[0;34m()\u001b[0m\n\u001b[1;32m      5\u001b[0m \u001b[0mprint\u001b[0m\u001b[0;34m(\u001b[0m\u001b[0;34m)\u001b[0m\u001b[0;34m\u001b[0m\u001b[0;34m\u001b[0m\u001b[0m\n\u001b[1;32m      6\u001b[0m \u001b[0;34m\u001b[0m\u001b[0m\n\u001b[0;32m----> 7\u001b[0;31m \u001b[0mplot_cm\u001b[0m\u001b[0;34m(\u001b[0m\u001b[0mtest_labels\u001b[0m\u001b[0;34m,\u001b[0m \u001b[0mtest_predictions_baseline\u001b[0m\u001b[0;34m)\u001b[0m\u001b[0;34m\u001b[0m\u001b[0;34m\u001b[0m\u001b[0m\n\u001b[0m",
            "\u001b[0;32m<ipython-input-77-8709bc7dd51c>\u001b[0m in \u001b[0;36mplot_cm\u001b[0;34m(labels, predictions, p)\u001b[0m\n\u001b[1;32m      2\u001b[0m   \u001b[0mcm\u001b[0m \u001b[0;34m=\u001b[0m \u001b[0mconfusion_matrix\u001b[0m\u001b[0;34m(\u001b[0m\u001b[0mlabels\u001b[0m\u001b[0;34m,\u001b[0m \u001b[0mpredictions\u001b[0m \u001b[0;34m>\u001b[0m \u001b[0mp\u001b[0m\u001b[0;34m,\u001b[0m \u001b[0mnormalize\u001b[0m\u001b[0;34m=\u001b[0m\u001b[0;34m'true'\u001b[0m\u001b[0;34m)\u001b[0m\u001b[0;34m\u001b[0m\u001b[0;34m\u001b[0m\u001b[0m\n\u001b[1;32m      3\u001b[0m   \u001b[0mplt\u001b[0m\u001b[0;34m.\u001b[0m\u001b[0mfigure\u001b[0m\u001b[0;34m(\u001b[0m\u001b[0mfigsize\u001b[0m\u001b[0;34m=\u001b[0m\u001b[0;34m(\u001b[0m\u001b[0;36m5\u001b[0m\u001b[0;34m,\u001b[0m\u001b[0;36m5\u001b[0m\u001b[0;34m)\u001b[0m\u001b[0;34m)\u001b[0m\u001b[0;34m\u001b[0m\u001b[0;34m\u001b[0m\u001b[0m\n\u001b[0;32m----> 4\u001b[0;31m   \u001b[0msns\u001b[0m\u001b[0;34m.\u001b[0m\u001b[0mheatmap\u001b[0m\u001b[0;34m(\u001b[0m\u001b[0mcm\u001b[0m\u001b[0;34m,\u001b[0m \u001b[0mannot\u001b[0m\u001b[0;34m=\u001b[0m\u001b[0;32mTrue\u001b[0m\u001b[0;34m,\u001b[0m \u001b[0mfmt\u001b[0m\u001b[0;34m=\u001b[0m\u001b[0;34m\"d\"\u001b[0m\u001b[0;34m)\u001b[0m\u001b[0;34m\u001b[0m\u001b[0;34m\u001b[0m\u001b[0m\n\u001b[0m\u001b[1;32m      5\u001b[0m   \u001b[0mplt\u001b[0m\u001b[0;34m.\u001b[0m\u001b[0mtitle\u001b[0m\u001b[0;34m(\u001b[0m\u001b[0;34m'Confusion matrix @{:.2f}'\u001b[0m\u001b[0;34m.\u001b[0m\u001b[0mformat\u001b[0m\u001b[0;34m(\u001b[0m\u001b[0mp\u001b[0m\u001b[0;34m)\u001b[0m\u001b[0;34m)\u001b[0m\u001b[0;34m\u001b[0m\u001b[0;34m\u001b[0m\u001b[0m\n\u001b[1;32m      6\u001b[0m   \u001b[0mplt\u001b[0m\u001b[0;34m.\u001b[0m\u001b[0mylabel\u001b[0m\u001b[0;34m(\u001b[0m\u001b[0;34m'Actual label'\u001b[0m\u001b[0;34m)\u001b[0m\u001b[0;34m\u001b[0m\u001b[0;34m\u001b[0m\u001b[0m\n",
            "\u001b[0;32m/usr/local/lib/python3.10/dist-packages/seaborn/matrix.py\u001b[0m in \u001b[0;36mheatmap\u001b[0;34m(data, vmin, vmax, cmap, center, robust, annot, fmt, annot_kws, linewidths, linecolor, cbar, cbar_kws, cbar_ax, square, xticklabels, yticklabels, mask, ax, **kwargs)\u001b[0m\n\u001b[1;32m    457\u001b[0m     \u001b[0;32mif\u001b[0m \u001b[0msquare\u001b[0m\u001b[0;34m:\u001b[0m\u001b[0;34m\u001b[0m\u001b[0;34m\u001b[0m\u001b[0m\n\u001b[1;32m    458\u001b[0m         \u001b[0max\u001b[0m\u001b[0;34m.\u001b[0m\u001b[0mset_aspect\u001b[0m\u001b[0;34m(\u001b[0m\u001b[0;34m\"equal\"\u001b[0m\u001b[0;34m)\u001b[0m\u001b[0;34m\u001b[0m\u001b[0;34m\u001b[0m\u001b[0m\n\u001b[0;32m--> 459\u001b[0;31m     \u001b[0mplotter\u001b[0m\u001b[0;34m.\u001b[0m\u001b[0mplot\u001b[0m\u001b[0;34m(\u001b[0m\u001b[0max\u001b[0m\u001b[0;34m,\u001b[0m \u001b[0mcbar_ax\u001b[0m\u001b[0;34m,\u001b[0m \u001b[0mkwargs\u001b[0m\u001b[0;34m)\u001b[0m\u001b[0;34m\u001b[0m\u001b[0;34m\u001b[0m\u001b[0m\n\u001b[0m\u001b[1;32m    460\u001b[0m     \u001b[0;32mreturn\u001b[0m \u001b[0max\u001b[0m\u001b[0;34m\u001b[0m\u001b[0;34m\u001b[0m\u001b[0m\n\u001b[1;32m    461\u001b[0m \u001b[0;34m\u001b[0m\u001b[0m\n",
            "\u001b[0;32m/usr/local/lib/python3.10/dist-packages/seaborn/matrix.py\u001b[0m in \u001b[0;36mplot\u001b[0;34m(self, ax, cax, kws)\u001b[0m\n\u001b[1;32m    350\u001b[0m         \u001b[0;31m# Annotate the cells with the formatted values\u001b[0m\u001b[0;34m\u001b[0m\u001b[0;34m\u001b[0m\u001b[0m\n\u001b[1;32m    351\u001b[0m         \u001b[0;32mif\u001b[0m \u001b[0mself\u001b[0m\u001b[0;34m.\u001b[0m\u001b[0mannot\u001b[0m\u001b[0;34m:\u001b[0m\u001b[0;34m\u001b[0m\u001b[0;34m\u001b[0m\u001b[0m\n\u001b[0;32m--> 352\u001b[0;31m             \u001b[0mself\u001b[0m\u001b[0;34m.\u001b[0m\u001b[0m_annotate_heatmap\u001b[0m\u001b[0;34m(\u001b[0m\u001b[0max\u001b[0m\u001b[0;34m,\u001b[0m \u001b[0mmesh\u001b[0m\u001b[0;34m)\u001b[0m\u001b[0;34m\u001b[0m\u001b[0;34m\u001b[0m\u001b[0m\n\u001b[0m\u001b[1;32m    353\u001b[0m \u001b[0;34m\u001b[0m\u001b[0m\n\u001b[1;32m    354\u001b[0m \u001b[0;34m\u001b[0m\u001b[0m\n",
            "\u001b[0;32m/usr/local/lib/python3.10/dist-packages/seaborn/matrix.py\u001b[0m in \u001b[0;36m_annotate_heatmap\u001b[0;34m(self, ax, mesh)\u001b[0m\n\u001b[1;32m    258\u001b[0m                 \u001b[0mlum\u001b[0m \u001b[0;34m=\u001b[0m \u001b[0mrelative_luminance\u001b[0m\u001b[0;34m(\u001b[0m\u001b[0mcolor\u001b[0m\u001b[0;34m)\u001b[0m\u001b[0;34m\u001b[0m\u001b[0;34m\u001b[0m\u001b[0m\n\u001b[1;32m    259\u001b[0m                 \u001b[0mtext_color\u001b[0m \u001b[0;34m=\u001b[0m \u001b[0;34m\".15\"\u001b[0m \u001b[0;32mif\u001b[0m \u001b[0mlum\u001b[0m \u001b[0;34m>\u001b[0m \u001b[0;36m.408\u001b[0m \u001b[0;32melse\u001b[0m \u001b[0;34m\"w\"\u001b[0m\u001b[0;34m\u001b[0m\u001b[0;34m\u001b[0m\u001b[0m\n\u001b[0;32m--> 260\u001b[0;31m                 \u001b[0mannotation\u001b[0m \u001b[0;34m=\u001b[0m \u001b[0;34m(\u001b[0m\u001b[0;34m\"{:\"\u001b[0m \u001b[0;34m+\u001b[0m \u001b[0mself\u001b[0m\u001b[0;34m.\u001b[0m\u001b[0mfmt\u001b[0m \u001b[0;34m+\u001b[0m \u001b[0;34m\"}\"\u001b[0m\u001b[0;34m)\u001b[0m\u001b[0;34m.\u001b[0m\u001b[0mformat\u001b[0m\u001b[0;34m(\u001b[0m\u001b[0mval\u001b[0m\u001b[0;34m)\u001b[0m\u001b[0;34m\u001b[0m\u001b[0;34m\u001b[0m\u001b[0m\n\u001b[0m\u001b[1;32m    261\u001b[0m                 \u001b[0mtext_kwargs\u001b[0m \u001b[0;34m=\u001b[0m \u001b[0mdict\u001b[0m\u001b[0;34m(\u001b[0m\u001b[0mcolor\u001b[0m\u001b[0;34m=\u001b[0m\u001b[0mtext_color\u001b[0m\u001b[0;34m,\u001b[0m \u001b[0mha\u001b[0m\u001b[0;34m=\u001b[0m\u001b[0;34m\"center\"\u001b[0m\u001b[0;34m,\u001b[0m \u001b[0mva\u001b[0m\u001b[0;34m=\u001b[0m\u001b[0;34m\"center\"\u001b[0m\u001b[0;34m)\u001b[0m\u001b[0;34m\u001b[0m\u001b[0;34m\u001b[0m\u001b[0m\n\u001b[1;32m    262\u001b[0m                 \u001b[0mtext_kwargs\u001b[0m\u001b[0;34m.\u001b[0m\u001b[0mupdate\u001b[0m\u001b[0;34m(\u001b[0m\u001b[0mself\u001b[0m\u001b[0;34m.\u001b[0m\u001b[0mannot_kws\u001b[0m\u001b[0;34m)\u001b[0m\u001b[0;34m\u001b[0m\u001b[0;34m\u001b[0m\u001b[0m\n",
            "\u001b[0;31mValueError\u001b[0m: Unknown format code 'd' for object of type 'float'"
          ]
        },
        {
          "output_type": "display_data",
          "data": {
            "text/plain": [
              "<Figure size 500x500 with 2 Axes>"
            ],
            "image/png": "[encoded data removed]"
          },
          "metadata": {}
        }
      ]
    },
    {
      "cell_type": "code",
      "source": [
        "# Scaling by total/2 helps keep the loss to a similar magnitude.\n",
        "# The sum of the weights of all examples stays the same.\n",
        "weight_for_0 = (1 / neg) * (total / 2.0)\n",
        "weight_for_1 = (1 / pos) * (total / 2.0)\n",
        "\n",
        "class_weight = {0: weight_for_0, 1: weight_for_1}\n",
        "\n",
        "print('Weight for class 0: {:.2f}'.format(weight_for_0))\n",
        "print('Weight for class 1: {:.2f}'.format(weight_for_1))"
      ],
      "metadata": {
        "colab": {
          "base_uri": "https://localhost:8080/"
        },
        "id": "6BCSgoOKbV3r",
        "outputId": "365cf37c-2b7e-48ef-fea6-29572fd3dad2"
      },
      "execution_count": 51,
      "outputs": [
        {
          "output_type": "stream",
          "name": "stdout",
          "text": [
            "Weight for class 0: 0.58\n",
            "Weight for class 1: 3.55\n"
          ]
        }
      ]
    },
    {
      "cell_type": "code",
      "source": [
        "weighted_model = make_model()\n",
        "weighted_model.load_weights(initial_weights)\n",
        "\n",
        "weighted_history = weighted_model.fit(\n",
        "    train_features,\n",
        "    train_labels,\n",
        "    batch_size=BATCH_SIZE,\n",
        "    epochs=EPOCHS,\n",
        "    callbacks=[early_stopping],\n",
        "    validation_data=(val_features, val_labels),\n",
        "    # The class weights go here\n",
        "    class_weight=class_weight)"
      ],
      "metadata": {
        "colab": {
          "base_uri": "https://localhost:8080/"
        },
        "id": "U0wMhVGtbEZn",
        "outputId": "3e3c3bba-b7f3-4642-a615-8bcacb2a8555"
      },
      "execution_count": 52,
      "outputs": [
        {
          "output_type": "stream",
          "name": "stdout",
          "text": [
            "Epoch 1/100\n",
            "8/8 [==============================] - 3s 112ms/step - loss: 1.1344 - tp: 392.0000 - fp: 696.0000 - tn: 16265.0000 - fn: 2407.0000 - accuracy: 0.8430 - precision: 0.3603 - recall: 0.1401 - auc: 0.6661 - prc: 0.2569 - val_loss: 0.3676 - val_tp: 19.0000 - val_fp: 15.0000 - val_tn: 3236.0000 - val_fn: 494.0000 - val_accuracy: 0.8648 - val_precision: 0.5588 - val_recall: 0.0370 - val_auc: 0.7002 - val_prc: 0.2750\n",
            "Epoch 2/100\n",
            "8/8 [==============================] - 0s 20ms/step - loss: 1.0773 - tp: 255.0000 - fp: 711.0000 - tn: 12187.0000 - fn: 1902.0000 - accuracy: 0.8264 - precision: 0.2640 - recall: 0.1182 - auc: 0.6207 - prc: 0.2130 - val_loss: 0.3573 - val_tp: 32.0000 - val_fp: 31.0000 - val_tn: 3220.0000 - val_fn: 481.0000 - val_accuracy: 0.8640 - val_precision: 0.5079 - val_recall: 0.0624 - val_auc: 0.7300 - val_prc: 0.3146\n",
            "Epoch 3/100\n",
            "8/8 [==============================] - 0s 20ms/step - loss: 0.9909 - tp: 334.0000 - fp: 774.0000 - tn: 12124.0000 - fn: 1823.0000 - accuracy: 0.8275 - precision: 0.3014 - recall: 0.1548 - auc: 0.6473 - prc: 0.2366 - val_loss: 0.3502 - val_tp: 56.0000 - val_fp: 45.0000 - val_tn: 3206.0000 - val_fn: 457.0000 - val_accuracy: 0.8666 - val_precision: 0.5545 - val_recall: 0.1092 - val_auc: 0.7537 - val_prc: 0.3502\n",
            "Epoch 4/100\n",
            "8/8 [==============================] - 0s 14ms/step - loss: 0.9442 - tp: 409.0000 - fp: 868.0000 - tn: 12030.0000 - fn: 1748.0000 - accuracy: 0.8262 - precision: 0.3203 - recall: 0.1896 - auc: 0.6632 - prc: 0.2541 - val_loss: 0.3458 - val_tp: 79.0000 - val_fp: 58.0000 - val_tn: 3193.0000 - val_fn: 434.0000 - val_accuracy: 0.8693 - val_precision: 0.5766 - val_recall: 0.1540 - val_auc: 0.7719 - val_prc: 0.3793\n",
            "Epoch 5/100\n",
            "8/8 [==============================] - 0s 15ms/step - loss: 0.9085 - tp: 475.0000 - fp: 1046.0000 - tn: 11852.0000 - fn: 1682.0000 - accuracy: 0.8188 - precision: 0.3123 - recall: 0.2202 - auc: 0.6698 - prc: 0.2580 - val_loss: 0.3440 - val_tp: 101.0000 - val_fp: 92.0000 - val_tn: 3159.0000 - val_fn: 412.0000 - val_accuracy: 0.8661 - val_precision: 0.5233 - val_recall: 0.1969 - val_auc: 0.7858 - val_prc: 0.4023\n",
            "Epoch 6/100\n",
            "8/8 [==============================] - 0s 14ms/step - loss: 0.8525 - tp: 589.0000 - fp: 1184.0000 - tn: 11714.0000 - fn: 1568.0000 - accuracy: 0.8172 - precision: 0.3322 - recall: 0.2731 - auc: 0.6894 - prc: 0.2815 - val_loss: 0.3440 - val_tp: 142.0000 - val_fp: 118.0000 - val_tn: 3133.0000 - val_fn: 371.0000 - val_accuracy: 0.8701 - val_precision: 0.5462 - val_recall: 0.2768 - val_auc: 0.7968 - val_prc: 0.4212\n",
            "Epoch 7/100\n",
            "8/8 [==============================] - 0s 15ms/step - loss: 0.8218 - tp: 617.0000 - fp: 1236.0000 - tn: 11662.0000 - fn: 1540.0000 - accuracy: 0.8156 - precision: 0.3330 - recall: 0.2860 - auc: 0.6996 - prc: 0.3035 - val_loss: 0.3456 - val_tp: 177.0000 - val_fp: 152.0000 - val_tn: 3099.0000 - val_fn: 336.0000 - val_accuracy: 0.8704 - val_precision: 0.5380 - val_recall: 0.3450 - val_auc: 0.8058 - val_prc: 0.4379\n",
            "Epoch 8/100\n",
            "8/8 [==============================] - 0s 14ms/step - loss: 0.7827 - tp: 694.0000 - fp: 1382.0000 - tn: 11516.0000 - fn: 1463.0000 - accuracy: 0.8110 - precision: 0.3343 - recall: 0.3217 - auc: 0.7133 - prc: 0.3298 - val_loss: 0.3485 - val_tp: 195.0000 - val_fp: 176.0000 - val_tn: 3075.0000 - val_fn: 318.0000 - val_accuracy: 0.8688 - val_precision: 0.5256 - val_recall: 0.3801 - val_auc: 0.8132 - val_prc: 0.4522\n",
            "Epoch 9/100\n",
            "8/8 [==============================] - 0s 15ms/step - loss: 0.7667 - tp: 774.0000 - fp: 1506.0000 - tn: 11392.0000 - fn: 1383.0000 - accuracy: 0.8081 - precision: 0.3395 - recall: 0.3588 - auc: 0.7217 - prc: 0.3242 - val_loss: 0.3528 - val_tp: 223.0000 - val_fp: 204.0000 - val_tn: 3047.0000 - val_fn: 290.0000 - val_accuracy: 0.8688 - val_precision: 0.5222 - val_recall: 0.4347 - val_auc: 0.8193 - val_prc: 0.4641\n",
            "Epoch 10/100\n",
            "8/8 [==============================] - 0s 14ms/step - loss: 0.7373 - tp: 837.0000 - fp: 1585.0000 - tn: 11313.0000 - fn: 1320.0000 - accuracy: 0.8070 - precision: 0.3456 - recall: 0.3880 - auc: 0.7304 - prc: 0.3444 - val_loss: 0.3580 - val_tp: 238.0000 - val_fp: 233.0000 - val_tn: 3018.0000 - val_fn: 275.0000 - val_accuracy: 0.8650 - val_precision: 0.5053 - val_recall: 0.4639 - val_auc: 0.8240 - val_prc: 0.4728\n",
            "Epoch 11/100\n",
            "8/8 [==============================] - 0s 15ms/step - loss: 0.7135 - tp: 932.0000 - fp: 1720.0000 - tn: 11178.0000 - fn: 1225.0000 - accuracy: 0.8044 - precision: 0.3514 - recall: 0.4321 - auc: 0.7371 - prc: 0.3445 - val_loss: 0.3638 - val_tp: 262.0000 - val_fp: 263.0000 - val_tn: 2988.0000 - val_fn: 251.0000 - val_accuracy: 0.8634 - val_precision: 0.4990 - val_recall: 0.5107 - val_auc: 0.8283 - val_prc: 0.4822\n",
            "Epoch 12/100\n",
            "8/8 [==============================] - 0s 14ms/step - loss: 0.6976 - tp: 968.0000 - fp: 1770.0000 - tn: 11128.0000 - fn: 1189.0000 - accuracy: 0.8035 - precision: 0.3535 - recall: 0.4488 - auc: 0.7460 - prc: 0.3590 - val_loss: 0.3698 - val_tp: 270.0000 - val_fp: 278.0000 - val_tn: 2973.0000 - val_fn: 243.0000 - val_accuracy: 0.8616 - val_precision: 0.4927 - val_recall: 0.5263 - val_auc: 0.8320 - val_prc: 0.4903\n",
            "Epoch 13/100\n",
            "8/8 [==============================] - 0s 19ms/step - loss: 0.6932 - tp: 1002.0000 - fp: 1831.0000 - tn: 11067.0000 - fn: 1155.0000 - accuracy: 0.8017 - precision: 0.3537 - recall: 0.4645 - auc: 0.7468 - prc: 0.3642 - val_loss: 0.3764 - val_tp: 278.0000 - val_fp: 296.0000 - val_tn: 2955.0000 - val_fn: 235.0000 - val_accuracy: 0.8589 - val_precision: 0.4843 - val_recall: 0.5419 - val_auc: 0.8350 - val_prc: 0.4955\n",
            "Epoch 14/100\n",
            "8/8 [==============================] - 0s 13ms/step - loss: 0.6852 - tp: 1052.0000 - fp: 1918.0000 - tn: 10980.0000 - fn: 1105.0000 - accuracy: 0.7992 - precision: 0.3542 - recall: 0.4877 - auc: 0.7461 - prc: 0.3708 - val_loss: 0.3827 - val_tp: 290.0000 - val_fp: 314.0000 - val_tn: 2937.0000 - val_fn: 223.0000 - val_accuracy: 0.8573 - val_precision: 0.4801 - val_recall: 0.5653 - val_auc: 0.8378 - val_prc: 0.5011\n",
            "Epoch 15/100\n",
            "8/8 [==============================] - 0s 13ms/step - loss: 0.6717 - tp: 1056.0000 - fp: 1940.0000 - tn: 10958.0000 - fn: 1101.0000 - accuracy: 0.7980 - precision: 0.3525 - recall: 0.4896 - auc: 0.7542 - prc: 0.3778 - val_loss: 0.3888 - val_tp: 302.0000 - val_fp: 333.0000 - val_tn: 2918.0000 - val_fn: 211.0000 - val_accuracy: 0.8555 - val_precision: 0.4756 - val_recall: 0.5887 - val_auc: 0.8399 - val_prc: 0.5061\n",
            "Epoch 16/100\n",
            "8/8 [==============================] - 0s 15ms/step - loss: 0.6586 - tp: 1088.0000 - fp: 2001.0000 - tn: 10897.0000 - fn: 1069.0000 - accuracy: 0.7961 - precision: 0.3522 - recall: 0.5044 - auc: 0.7585 - prc: 0.3799 - val_loss: 0.3950 - val_tp: 308.0000 - val_fp: 351.0000 - val_tn: 2900.0000 - val_fn: 205.0000 - val_accuracy: 0.8523 - val_precision: 0.4674 - val_recall: 0.6004 - val_auc: 0.8418 - val_prc: 0.5108\n",
            "Epoch 17/100\n",
            "8/8 [==============================] - 0s 19ms/step - loss: 0.6527 - tp: 1096.0000 - fp: 2142.0000 - tn: 10756.0000 - fn: 1061.0000 - accuracy: 0.7872 - precision: 0.3385 - recall: 0.5081 - auc: 0.7636 - prc: 0.3894 - val_loss: 0.4000 - val_tp: 319.0000 - val_fp: 374.0000 - val_tn: 2877.0000 - val_fn: 194.0000 - val_accuracy: 0.8491 - val_precision: 0.4603 - val_recall: 0.6218 - val_auc: 0.8434 - val_prc: 0.5171\n",
            "Epoch 18/100\n",
            "8/8 [==============================] - 0s 14ms/step - loss: 0.6427 - tp: 1128.0000 - fp: 2102.0000 - tn: 10796.0000 - fn: 1029.0000 - accuracy: 0.7920 - precision: 0.3492 - recall: 0.5229 - auc: 0.7666 - prc: 0.3952 - val_loss: 0.4044 - val_tp: 325.0000 - val_fp: 388.0000 - val_tn: 2863.0000 - val_fn: 188.0000 - val_accuracy: 0.8470 - val_precision: 0.4558 - val_recall: 0.6335 - val_auc: 0.8452 - val_prc: 0.5187\n",
            "Epoch 19/100\n",
            "8/8 [==============================] - 0s 14ms/step - loss: 0.6270 - tp: 1176.0000 - fp: 2106.0000 - tn: 10792.0000 - fn: 981.0000 - accuracy: 0.7950 - precision: 0.3583 - recall: 0.5452 - auc: 0.7748 - prc: 0.4121 - val_loss: 0.4082 - val_tp: 329.0000 - val_fp: 392.0000 - val_tn: 2859.0000 - val_fn: 184.0000 - val_accuracy: 0.8470 - val_precision: 0.4563 - val_recall: 0.6413 - val_auc: 0.8465 - val_prc: 0.5254\n",
            "Epoch 20/100\n",
            "8/8 [==============================] - 0s 14ms/step - loss: 0.6402 - tp: 1133.0000 - fp: 2118.0000 - tn: 10780.0000 - fn: 1024.0000 - accuracy: 0.7913 - precision: 0.3485 - recall: 0.5253 - auc: 0.7675 - prc: 0.3991 - val_loss: 0.4115 - val_tp: 330.0000 - val_fp: 409.0000 - val_tn: 2842.0000 - val_fn: 183.0000 - val_accuracy: 0.8427 - val_precision: 0.4465 - val_recall: 0.6433 - val_auc: 0.8479 - val_prc: 0.5311\n",
            "Epoch 21/100\n",
            "8/8 [==============================] - 0s 14ms/step - loss: 0.6182 - tp: 1186.0000 - fp: 2169.0000 - tn: 10729.0000 - fn: 971.0000 - accuracy: 0.7914 - precision: 0.3535 - recall: 0.5498 - auc: 0.7816 - prc: 0.4139 - val_loss: 0.4142 - val_tp: 334.0000 - val_fp: 418.0000 - val_tn: 2833.0000 - val_fn: 179.0000 - val_accuracy: 0.8414 - val_precision: 0.4441 - val_recall: 0.6511 - val_auc: 0.8492 - val_prc: 0.5326\n",
            "Epoch 22/100\n",
            "8/8 [==============================] - 0s 15ms/step - loss: 0.6116 - tp: 1240.0000 - fp: 2151.0000 - tn: 10747.0000 - fn: 917.0000 - accuracy: 0.7962 - precision: 0.3657 - recall: 0.5749 - auc: 0.7847 - prc: 0.4250 - val_loss: 0.4170 - val_tp: 337.0000 - val_fp: 421.0000 - val_tn: 2830.0000 - val_fn: 176.0000 - val_accuracy: 0.8414 - val_precision: 0.4446 - val_recall: 0.6569 - val_auc: 0.8503 - val_prc: 0.5353\n",
            "Epoch 23/100\n",
            "8/8 [==============================] - 0s 14ms/step - loss: 0.6093 - tp: 1211.0000 - fp: 2148.0000 - tn: 10750.0000 - fn: 946.0000 - accuracy: 0.7945 - precision: 0.3605 - recall: 0.5614 - auc: 0.7840 - prc: 0.4282 - val_loss: 0.4197 - val_tp: 342.0000 - val_fp: 432.0000 - val_tn: 2819.0000 - val_fn: 171.0000 - val_accuracy: 0.8398 - val_precision: 0.4419 - val_recall: 0.6667 - val_auc: 0.8515 - val_prc: 0.5380\n",
            "Epoch 24/100\n",
            "8/8 [==============================] - 0s 14ms/step - loss: 0.6066 - tp: 1240.0000 - fp: 2139.0000 - tn: 10759.0000 - fn: 917.0000 - accuracy: 0.7970 - precision: 0.3670 - recall: 0.5749 - auc: 0.7840 - prc: 0.4365 - val_loss: 0.4220 - val_tp: 342.0000 - val_fp: 442.0000 - val_tn: 2809.0000 - val_fn: 171.0000 - val_accuracy: 0.8371 - val_precision: 0.4362 - val_recall: 0.6667 - val_auc: 0.8524 - val_prc: 0.5385\n",
            "Epoch 25/100\n",
            "8/8 [==============================] - 0s 13ms/step - loss: 0.6000 - tp: 1253.0000 - fp: 2194.0000 - tn: 10704.0000 - fn: 904.0000 - accuracy: 0.7942 - precision: 0.3635 - recall: 0.5809 - auc: 0.7887 - prc: 0.4364 - val_loss: 0.4241 - val_tp: 346.0000 - val_fp: 452.0000 - val_tn: 2799.0000 - val_fn: 167.0000 - val_accuracy: 0.8355 - val_precision: 0.4336 - val_recall: 0.6745 - val_auc: 0.8532 - val_prc: 0.5424\n",
            "Epoch 26/100\n",
            "8/8 [==============================] - 0s 15ms/step - loss: 0.6007 - tp: 1268.0000 - fp: 2215.0000 - tn: 10683.0000 - fn: 889.0000 - accuracy: 0.7938 - precision: 0.3641 - recall: 0.5879 - auc: 0.7876 - prc: 0.4355 - val_loss: 0.4249 - val_tp: 350.0000 - val_fp: 457.0000 - val_tn: 2794.0000 - val_fn: 163.0000 - val_accuracy: 0.8353 - val_precision: 0.4337 - val_recall: 0.6823 - val_auc: 0.8541 - val_prc: 0.5436\n",
            "Epoch 27/100\n",
            "8/8 [==============================] - 0s 13ms/step - loss: 0.5901 - tp: 1239.0000 - fp: 2129.0000 - tn: 10769.0000 - fn: 918.0000 - accuracy: 0.7976 - precision: 0.3679 - recall: 0.5744 - auc: 0.7947 - prc: 0.4395 - val_loss: 0.4268 - val_tp: 352.0000 - val_fp: 459.0000 - val_tn: 2792.0000 - val_fn: 161.0000 - val_accuracy: 0.8353 - val_precision: 0.4340 - val_recall: 0.6862 - val_auc: 0.8546 - val_prc: 0.5483\n",
            "Epoch 28/100\n",
            "8/8 [==============================] - 0s 15ms/step - loss: 0.5898 - tp: 1280.0000 - fp: 2194.0000 - tn: 10704.0000 - fn: 877.0000 - accuracy: 0.7960 - precision: 0.3685 - recall: 0.5934 - auc: 0.7944 - prc: 0.4456 - val_loss: 0.4286 - val_tp: 353.0000 - val_fp: 460.0000 - val_tn: 2791.0000 - val_fn: 160.0000 - val_accuracy: 0.8353 - val_precision: 0.4342 - val_recall: 0.6881 - val_auc: 0.8555 - val_prc: 0.5505\n",
            "Epoch 29/100\n",
            "8/8 [==============================] - 0s 14ms/step - loss: 0.5845 - tp: 1260.0000 - fp: 2183.0000 - tn: 10715.0000 - fn: 897.0000 - accuracy: 0.7954 - precision: 0.3660 - recall: 0.5841 - auc: 0.7979 - prc: 0.4421 - val_loss: 0.4307 - val_tp: 356.0000 - val_fp: 465.0000 - val_tn: 2786.0000 - val_fn: 157.0000 - val_accuracy: 0.8348 - val_precision: 0.4336 - val_recall: 0.6940 - val_auc: 0.8561 - val_prc: 0.5515\n",
            "Epoch 30/100\n",
            "8/8 [==============================] - 0s 15ms/step - loss: 0.5889 - tp: 1280.0000 - fp: 2240.0000 - tn: 10658.0000 - fn: 877.0000 - accuracy: 0.7930 - precision: 0.3636 - recall: 0.5934 - auc: 0.7941 - prc: 0.4469 - val_loss: 0.4319 - val_tp: 357.0000 - val_fp: 467.0000 - val_tn: 2784.0000 - val_fn: 156.0000 - val_accuracy: 0.8345 - val_precision: 0.4333 - val_recall: 0.6959 - val_auc: 0.8568 - val_prc: 0.5542\n",
            "Epoch 31/100\n",
            "8/8 [==============================] - 0s 14ms/step - loss: 0.5829 - tp: 1286.0000 - fp: 2211.0000 - tn: 10687.0000 - fn: 871.0000 - accuracy: 0.7953 - precision: 0.3677 - recall: 0.5962 - auc: 0.7964 - prc: 0.4510 - val_loss: 0.4328 - val_tp: 358.0000 - val_fp: 468.0000 - val_tn: 2783.0000 - val_fn: 155.0000 - val_accuracy: 0.8345 - val_precision: 0.4334 - val_recall: 0.6979 - val_auc: 0.8573 - val_prc: 0.5571\n",
            "Epoch 32/100\n",
            "8/8 [==============================] - 0s 13ms/step - loss: 0.5769 - tp: 1304.0000 - fp: 2135.0000 - tn: 10763.0000 - fn: 853.0000 - accuracy: 0.8015 - precision: 0.3792 - recall: 0.6045 - auc: 0.8016 - prc: 0.4478 - val_loss: 0.4336 - val_tp: 359.0000 - val_fp: 467.0000 - val_tn: 2784.0000 - val_fn: 154.0000 - val_accuracy: 0.8350 - val_precision: 0.4346 - val_recall: 0.6998 - val_auc: 0.8579 - val_prc: 0.5615\n",
            "Epoch 33/100\n",
            "8/8 [==============================] - 0s 14ms/step - loss: 0.5792 - tp: 1294.0000 - fp: 2193.0000 - tn: 10705.0000 - fn: 863.0000 - accuracy: 0.7970 - precision: 0.3711 - recall: 0.5999 - auc: 0.8007 - prc: 0.4468 - val_loss: 0.4341 - val_tp: 359.0000 - val_fp: 466.0000 - val_tn: 2785.0000 - val_fn: 154.0000 - val_accuracy: 0.8353 - val_precision: 0.4352 - val_recall: 0.6998 - val_auc: 0.8584 - val_prc: 0.5634\n",
            "Epoch 34/100\n",
            "8/8 [==============================] - 0s 15ms/step - loss: 0.5808 - tp: 1295.0000 - fp: 2131.0000 - tn: 10767.0000 - fn: 862.0000 - accuracy: 0.8012 - precision: 0.3780 - recall: 0.6004 - auc: 0.8012 - prc: 0.4440 - val_loss: 0.4343 - val_tp: 359.0000 - val_fp: 467.0000 - val_tn: 2784.0000 - val_fn: 154.0000 - val_accuracy: 0.8350 - val_precision: 0.4346 - val_recall: 0.6998 - val_auc: 0.8589 - val_prc: 0.5655\n",
            "Epoch 35/100\n",
            "8/8 [==============================] - 0s 14ms/step - loss: 0.5822 - tp: 1278.0000 - fp: 2145.0000 - tn: 10753.0000 - fn: 879.0000 - accuracy: 0.7991 - precision: 0.3734 - recall: 0.5925 - auc: 0.7991 - prc: 0.4462 - val_loss: 0.4354 - val_tp: 359.0000 - val_fp: 468.0000 - val_tn: 2783.0000 - val_fn: 154.0000 - val_accuracy: 0.8348 - val_precision: 0.4341 - val_recall: 0.6998 - val_auc: 0.8594 - val_prc: 0.5666\n",
            "Epoch 36/100\n",
            "8/8 [==============================] - 0s 14ms/step - loss: 0.5689 - tp: 1312.0000 - fp: 2124.0000 - tn: 10774.0000 - fn: 845.0000 - accuracy: 0.8028 - precision: 0.3818 - recall: 0.6083 - auc: 0.8066 - prc: 0.4579 - val_loss: 0.4357 - val_tp: 363.0000 - val_fp: 469.0000 - val_tn: 2782.0000 - val_fn: 150.0000 - val_accuracy: 0.8355 - val_precision: 0.4363 - val_recall: 0.7076 - val_auc: 0.8598 - val_prc: 0.5674\n",
            "Epoch 37/100\n",
            "8/8 [==============================] - 0s 14ms/step - loss: 0.5620 - tp: 1324.0000 - fp: 2168.0000 - tn: 10730.0000 - fn: 833.0000 - accuracy: 0.8007 - precision: 0.3792 - recall: 0.6138 - auc: 0.8105 - prc: 0.4695 - val_loss: 0.4365 - val_tp: 363.0000 - val_fp: 474.0000 - val_tn: 2777.0000 - val_fn: 150.0000 - val_accuracy: 0.8342 - val_precision: 0.4337 - val_recall: 0.7076 - val_auc: 0.8604 - val_prc: 0.5687\n",
            "Epoch 38/100\n",
            "8/8 [==============================] - 0s 16ms/step - loss: 0.5640 - tp: 1323.0000 - fp: 2158.0000 - tn: 10740.0000 - fn: 834.0000 - accuracy: 0.8013 - precision: 0.3801 - recall: 0.6134 - auc: 0.8104 - prc: 0.4618 - val_loss: 0.4370 - val_tp: 364.0000 - val_fp: 480.0000 - val_tn: 2771.0000 - val_fn: 149.0000 - val_accuracy: 0.8329 - val_precision: 0.4313 - val_recall: 0.7096 - val_auc: 0.8608 - val_prc: 0.5701\n",
            "Epoch 39/100\n",
            "8/8 [==============================] - 0s 14ms/step - loss: 0.5710 - tp: 1310.0000 - fp: 2140.0000 - tn: 10758.0000 - fn: 847.0000 - accuracy: 0.8016 - precision: 0.3797 - recall: 0.6073 - auc: 0.8059 - prc: 0.4579 - val_loss: 0.4370 - val_tp: 364.0000 - val_fp: 480.0000 - val_tn: 2771.0000 - val_fn: 149.0000 - val_accuracy: 0.8329 - val_precision: 0.4313 - val_recall: 0.7096 - val_auc: 0.8611 - val_prc: 0.5723\n",
            "Epoch 40/100\n",
            "8/8 [==============================] - 0s 14ms/step - loss: 0.5730 - tp: 1296.0000 - fp: 2153.0000 - tn: 10745.0000 - fn: 861.0000 - accuracy: 0.7998 - precision: 0.3758 - recall: 0.6008 - auc: 0.8048 - prc: 0.4541 - val_loss: 0.4366 - val_tp: 362.0000 - val_fp: 478.0000 - val_tn: 2773.0000 - val_fn: 151.0000 - val_accuracy: 0.8329 - val_precision: 0.4310 - val_recall: 0.7057 - val_auc: 0.8614 - val_prc: 0.5711\n",
            "Epoch 41/100\n",
            "8/8 [==============================] - 0s 14ms/step - loss: 0.5487 - tp: 1366.0000 - fp: 2146.0000 - tn: 10752.0000 - fn: 791.0000 - accuracy: 0.8049 - precision: 0.3890 - recall: 0.6333 - auc: 0.8164 - prc: 0.4917 - val_loss: 0.4362 - val_tp: 363.0000 - val_fp: 478.0000 - val_tn: 2773.0000 - val_fn: 150.0000 - val_accuracy: 0.8332 - val_precision: 0.4316 - val_recall: 0.7076 - val_auc: 0.8617 - val_prc: 0.5709\n",
            "Epoch 42/100\n",
            "8/8 [==============================] - 0s 14ms/step - loss: 0.5577 - tp: 1334.0000 - fp: 2089.0000 - tn: 10809.0000 - fn: 823.0000 - accuracy: 0.8066 - precision: 0.3897 - recall: 0.6185 - auc: 0.8141 - prc: 0.4711 - val_loss: 0.4374 - val_tp: 362.0000 - val_fp: 482.0000 - val_tn: 2769.0000 - val_fn: 151.0000 - val_accuracy: 0.8318 - val_precision: 0.4289 - val_recall: 0.7057 - val_auc: 0.8619 - val_prc: 0.5699\n",
            "Epoch 43/100\n",
            "8/8 [==============================] - 0s 15ms/step - loss: 0.5629 - tp: 1332.0000 - fp: 2124.0000 - tn: 10774.0000 - fn: 825.0000 - accuracy: 0.8041 - precision: 0.3854 - recall: 0.6175 - auc: 0.8106 - prc: 0.4648 - val_loss: 0.4375 - val_tp: 363.0000 - val_fp: 483.0000 - val_tn: 2768.0000 - val_fn: 150.0000 - val_accuracy: 0.8318 - val_precision: 0.4291 - val_recall: 0.7076 - val_auc: 0.8624 - val_prc: 0.5697\n",
            "Epoch 44/100\n",
            "8/8 [==============================] - 0s 14ms/step - loss: 0.5622 - tp: 1308.0000 - fp: 2139.0000 - tn: 10759.0000 - fn: 849.0000 - accuracy: 0.8015 - precision: 0.3795 - recall: 0.6064 - auc: 0.8110 - prc: 0.4614 - val_loss: 0.4378 - val_tp: 362.0000 - val_fp: 485.0000 - val_tn: 2766.0000 - val_fn: 151.0000 - val_accuracy: 0.8310 - val_precision: 0.4274 - val_recall: 0.7057 - val_auc: 0.8625 - val_prc: 0.5698\n",
            "Epoch 45/100\n",
            "8/8 [==============================] - 0s 14ms/step - loss: 0.5581 - tp: 1326.0000 - fp: 2112.0000 - tn: 10786.0000 - fn: 831.0000 - accuracy: 0.8045 - precision: 0.3857 - recall: 0.6147 - auc: 0.8134 - prc: 0.4664 - val_loss: 0.4376 - val_tp: 361.0000 - val_fp: 487.0000 - val_tn: 2764.0000 - val_fn: 152.0000 - val_accuracy: 0.8302 - val_precision: 0.4257 - val_recall: 0.7037 - val_auc: 0.8628 - val_prc: 0.5713\n",
            "Epoch 46/100\n",
            "8/8 [==============================] - 0s 14ms/step - loss: 0.5579 - tp: 1339.0000 - fp: 2152.0000 - tn: 10746.0000 - fn: 818.0000 - accuracy: 0.8027 - precision: 0.3836 - recall: 0.6208 - auc: 0.8130 - prc: 0.4662 - val_loss: 0.4377 - val_tp: 361.0000 - val_fp: 488.0000 - val_tn: 2763.0000 - val_fn: 152.0000 - val_accuracy: 0.8300 - val_precision: 0.4252 - val_recall: 0.7037 - val_auc: 0.8630 - val_prc: 0.5719\n",
            "Epoch 47/100\n",
            "8/8 [==============================] - 0s 19ms/step - loss: 0.5495 - tp: 1348.0000 - fp: 2094.0000 - tn: 10804.0000 - fn: 809.0000 - accuracy: 0.8072 - precision: 0.3916 - recall: 0.6249 - auc: 0.8173 - prc: 0.4798 - val_loss: 0.4371 - val_tp: 361.0000 - val_fp: 485.0000 - val_tn: 2766.0000 - val_fn: 152.0000 - val_accuracy: 0.8308 - val_precision: 0.4267 - val_recall: 0.7037 - val_auc: 0.8631 - val_prc: 0.5724\n",
            "Epoch 48/100\n",
            "8/8 [==============================] - 0s 14ms/step - loss: 0.5471 - tp: 1374.0000 - fp: 2089.0000 - tn: 10809.0000 - fn: 783.0000 - accuracy: 0.8092 - precision: 0.3968 - recall: 0.6370 - auc: 0.8188 - prc: 0.4803 - val_loss: 0.4375 - val_tp: 360.0000 - val_fp: 486.0000 - val_tn: 2765.0000 - val_fn: 153.0000 - val_accuracy: 0.8302 - val_precision: 0.4255 - val_recall: 0.7018 - val_auc: 0.8634 - val_prc: 0.5732\n",
            "Epoch 49/100\n",
            "8/8 [==============================] - 0s 14ms/step - loss: 0.5453 - tp: 1343.0000 - fp: 2153.0000 - tn: 10745.0000 - fn: 814.0000 - accuracy: 0.8029 - precision: 0.3842 - recall: 0.6226 - auc: 0.8206 - prc: 0.4826 - val_loss: 0.4379 - val_tp: 361.0000 - val_fp: 488.0000 - val_tn: 2763.0000 - val_fn: 152.0000 - val_accuracy: 0.8300 - val_precision: 0.4252 - val_recall: 0.7037 - val_auc: 0.8634 - val_prc: 0.5732\n",
            "Epoch 50/100\n",
            "8/8 [==============================] - 0s 14ms/step - loss: 0.5537 - tp: 1317.0000 - fp: 2099.0000 - tn: 10799.0000 - fn: 840.0000 - accuracy: 0.8048 - precision: 0.3855 - recall: 0.6106 - auc: 0.8144 - prc: 0.4759 - val_loss: 0.4386 - val_tp: 361.0000 - val_fp: 487.0000 - val_tn: 2764.0000 - val_fn: 152.0000 - val_accuracy: 0.8302 - val_precision: 0.4257 - val_recall: 0.7037 - val_auc: 0.8638 - val_prc: 0.5740\n",
            "Epoch 51/100\n",
            "8/8 [==============================] - 0s 14ms/step - loss: 0.5476 - tp: 1361.0000 - fp: 2108.0000 - tn: 10790.0000 - fn: 796.0000 - accuracy: 0.8071 - precision: 0.3923 - recall: 0.6310 - auc: 0.8196 - prc: 0.4740 - val_loss: 0.4382 - val_tp: 361.0000 - val_fp: 485.0000 - val_tn: 2766.0000 - val_fn: 152.0000 - val_accuracy: 0.8308 - val_precision: 0.4267 - val_recall: 0.7037 - val_auc: 0.8639 - val_prc: 0.5746\n",
            "Epoch 52/100\n",
            "8/8 [==============================] - 0s 15ms/step - loss: 0.5406 - tp: 1372.0000 - fp: 2129.0000 - tn: 10769.0000 - fn: 785.0000 - accuracy: 0.8064 - precision: 0.3919 - recall: 0.6361 - auc: 0.8227 - prc: 0.4845 - val_loss: 0.4372 - val_tp: 361.0000 - val_fp: 481.0000 - val_tn: 2770.0000 - val_fn: 152.0000 - val_accuracy: 0.8318 - val_precision: 0.4287 - val_recall: 0.7037 - val_auc: 0.8639 - val_prc: 0.5751\n",
            "Epoch 53/100\n",
            "8/8 [==============================] - 0s 30ms/step - loss: 0.5420 - tp: 1369.0000 - fp: 2097.0000 - tn: 10801.0000 - fn: 788.0000 - accuracy: 0.8084 - precision: 0.3950 - recall: 0.6347 - auc: 0.8225 - prc: 0.4851 - val_loss: 0.4365 - val_tp: 361.0000 - val_fp: 480.0000 - val_tn: 2771.0000 - val_fn: 152.0000 - val_accuracy: 0.8321 - val_precision: 0.4293 - val_recall: 0.7037 - val_auc: 0.8641 - val_prc: 0.5749\n",
            "Epoch 54/100\n",
            "8/8 [==============================] - 0s 28ms/step - loss: 0.5522 - tp: 1341.0000 - fp: 2122.0000 - tn: 10776.0000 - fn: 816.0000 - accuracy: 0.8048 - precision: 0.3872 - recall: 0.6217 - auc: 0.8157 - prc: 0.4792 - val_loss: 0.4362 - val_tp: 362.0000 - val_fp: 479.0000 - val_tn: 2772.0000 - val_fn: 151.0000 - val_accuracy: 0.8326 - val_precision: 0.4304 - val_recall: 0.7057 - val_auc: 0.8642 - val_prc: 0.5754\n",
            "Epoch 55/100\n",
            "8/8 [==============================] - 0s 29ms/step - loss: 0.5437 - tp: 1370.0000 - fp: 2060.0000 - tn: 10838.0000 - fn: 787.0000 - accuracy: 0.8109 - precision: 0.3994 - recall: 0.6351 - auc: 0.8210 - prc: 0.4816 - val_loss: 0.4362 - val_tp: 362.0000 - val_fp: 479.0000 - val_tn: 2772.0000 - val_fn: 151.0000 - val_accuracy: 0.8326 - val_precision: 0.4304 - val_recall: 0.7057 - val_auc: 0.8642 - val_prc: 0.5744\n",
            "Epoch 56/100\n",
            "8/8 [==============================] - 0s 31ms/step - loss: 0.5383 - tp: 1356.0000 - fp: 2121.0000 - tn: 10777.0000 - fn: 801.0000 - accuracy: 0.8059 - precision: 0.3900 - recall: 0.6287 - auc: 0.8241 - prc: 0.4896 - val_loss: 0.4369 - val_tp: 362.0000 - val_fp: 481.0000 - val_tn: 2770.0000 - val_fn: 151.0000 - val_accuracy: 0.8321 - val_precision: 0.4294 - val_recall: 0.7057 - val_auc: 0.8643 - val_prc: 0.5745\n",
            "Epoch 57/100\n",
            "8/8 [==============================] - 0s 24ms/step - loss: 0.5442 - tp: 1346.0000 - fp: 2113.0000 - tn: 10785.0000 - fn: 811.0000 - accuracy: 0.8058 - precision: 0.3891 - recall: 0.6240 - auc: 0.8205 - prc: 0.4809 - val_loss: 0.4377 - val_tp: 363.0000 - val_fp: 483.0000 - val_tn: 2768.0000 - val_fn: 150.0000 - val_accuracy: 0.8318 - val_precision: 0.4291 - val_recall: 0.7076 - val_auc: 0.8643 - val_prc: 0.5749\n",
            "Epoch 58/100\n",
            "8/8 [==============================] - 0s 21ms/step - loss: 0.5443 - tp: 1344.0000 - fp: 2119.0000 - tn: 10779.0000 - fn: 813.0000 - accuracy: 0.8052 - precision: 0.3881 - recall: 0.6231 - auc: 0.8204 - prc: 0.4775 - val_loss: 0.4379 - val_tp: 363.0000 - val_fp: 484.0000 - val_tn: 2767.0000 - val_fn: 150.0000 - val_accuracy: 0.8316 - val_precision: 0.4286 - val_recall: 0.7076 - val_auc: 0.8645 - val_prc: 0.5750\n",
            "Epoch 59/100\n",
            "8/8 [==============================] - 0s 26ms/step - loss: 0.5386 - tp: 1362.0000 - fp: 2154.0000 - tn: 10744.0000 - fn: 795.0000 - accuracy: 0.8041 - precision: 0.3874 - recall: 0.6314 - auc: 0.8246 - prc: 0.4856 - val_loss: 0.4378 - val_tp: 363.0000 - val_fp: 485.0000 - val_tn: 2766.0000 - val_fn: 150.0000 - val_accuracy: 0.8313 - val_precision: 0.4281 - val_recall: 0.7076 - val_auc: 0.8646 - val_prc: 0.5750\n",
            "Epoch 60/100\n",
            "8/8 [==============================] - 0s 22ms/step - loss: 0.5439 - tp: 1354.0000 - fp: 2102.0000 - tn: 10796.0000 - fn: 803.0000 - accuracy: 0.8070 - precision: 0.3918 - recall: 0.6277 - auc: 0.8205 - prc: 0.4800 - val_loss: 0.4374 - val_tp: 362.0000 - val_fp: 484.0000 - val_tn: 2767.0000 - val_fn: 151.0000 - val_accuracy: 0.8313 - val_precision: 0.4279 - val_recall: 0.7057 - val_auc: 0.8646 - val_prc: 0.5749\n",
            "Epoch 61/100\n",
            "8/8 [==============================] - 0s 25ms/step - loss: 0.5440 - tp: 1354.0000 - fp: 2120.0000 - tn: 10778.0000 - fn: 803.0000 - accuracy: 0.8058 - precision: 0.3898 - recall: 0.6277 - auc: 0.8202 - prc: 0.4840 - val_loss: 0.4373 - val_tp: 362.0000 - val_fp: 483.0000 - val_tn: 2768.0000 - val_fn: 151.0000 - val_accuracy: 0.8316 - val_precision: 0.4284 - val_recall: 0.7057 - val_auc: 0.8649 - val_prc: 0.5751\n",
            "Epoch 62/100\n",
            "8/8 [==============================] - 0s 28ms/step - loss: 0.5455 - tp: 1363.0000 - fp: 2146.0000 - tn: 10752.0000 - fn: 794.0000 - accuracy: 0.8047 - precision: 0.3884 - recall: 0.6319 - auc: 0.8194 - prc: 0.4794 - val_loss: 0.4379 - val_tp: 362.0000 - val_fp: 485.0000 - val_tn: 2766.0000 - val_fn: 151.0000 - val_accuracy: 0.8310 - val_precision: 0.4274 - val_recall: 0.7057 - val_auc: 0.8649 - val_prc: 0.5755\n",
            "Epoch 63/100\n",
            "8/8 [==============================] - 0s 26ms/step - loss: 0.5445 - tp: 1329.0000 - fp: 2170.0000 - tn: 10728.0000 - fn: 828.0000 - accuracy: 0.8009 - precision: 0.3798 - recall: 0.6161 - auc: 0.8197 - prc: 0.4777 - val_loss: 0.4395 - val_tp: 365.0000 - val_fp: 491.0000 - val_tn: 2760.0000 - val_fn: 148.0000 - val_accuracy: 0.8302 - val_precision: 0.4264 - val_recall: 0.7115 - val_auc: 0.8648 - val_prc: 0.5752\n",
            "Epoch 64/100\n",
            "8/8 [==============================] - 0s 27ms/step - loss: 0.5331 - tp: 1372.0000 - fp: 2089.0000 - tn: 10809.0000 - fn: 785.0000 - accuracy: 0.8091 - precision: 0.3964 - recall: 0.6361 - auc: 0.8261 - prc: 0.4963 - val_loss: 0.4406 - val_tp: 365.0000 - val_fp: 494.0000 - val_tn: 2757.0000 - val_fn: 148.0000 - val_accuracy: 0.8294 - val_precision: 0.4249 - val_recall: 0.7115 - val_auc: 0.8650 - val_prc: 0.5753\n",
            "Epoch 65/100\n",
            "8/8 [==============================] - 0s 28ms/step - loss: 0.5428 - tp: 1352.0000 - fp: 2176.0000 - tn: 10722.0000 - fn: 805.0000 - accuracy: 0.8020 - precision: 0.3832 - recall: 0.6268 - auc: 0.8216 - prc: 0.4772 - val_loss: 0.4403 - val_tp: 365.0000 - val_fp: 491.0000 - val_tn: 2760.0000 - val_fn: 148.0000 - val_accuracy: 0.8302 - val_precision: 0.4264 - val_recall: 0.7115 - val_auc: 0.8651 - val_prc: 0.5753\n",
            "Epoch 66/100\n",
            "8/8 [==============================] - 0s 26ms/step - loss: 0.5303 - tp: 1390.0000 - fp: 2082.0000 - tn: 10816.0000 - fn: 767.0000 - accuracy: 0.8108 - precision: 0.4003 - recall: 0.6444 - auc: 0.8306 - prc: 0.4909 - val_loss: 0.4402 - val_tp: 364.0000 - val_fp: 492.0000 - val_tn: 2759.0000 - val_fn: 149.0000 - val_accuracy: 0.8297 - val_precision: 0.4252 - val_recall: 0.7096 - val_auc: 0.8654 - val_prc: 0.5760\n",
            "Epoch 67/100\n",
            "8/8 [==============================] - 0s 14ms/step - loss: 0.5352 - tp: 1370.0000 - fp: 2146.0000 - tn: 10752.0000 - fn: 787.0000 - accuracy: 0.8052 - precision: 0.3896 - recall: 0.6351 - auc: 0.8278 - prc: 0.4795 - val_loss: 0.4403 - val_tp: 365.0000 - val_fp: 495.0000 - val_tn: 2756.0000 - val_fn: 148.0000 - val_accuracy: 0.8292 - val_precision: 0.4244 - val_recall: 0.7115 - val_auc: 0.8653 - val_prc: 0.5759\n",
            "Epoch 68/100\n",
            "8/8 [==============================] - 0s 16ms/step - loss: 0.5353 - tp: 1376.0000 - fp: 2139.0000 - tn: 10759.0000 - fn: 781.0000 - accuracy: 0.8060 - precision: 0.3915 - recall: 0.6379 - auc: 0.8272 - prc: 0.4823 - val_loss: 0.4402 - val_tp: 366.0000 - val_fp: 496.0000 - val_tn: 2755.0000 - val_fn: 147.0000 - val_accuracy: 0.8292 - val_precision: 0.4246 - val_recall: 0.7135 - val_auc: 0.8653 - val_prc: 0.5763\n",
            "Epoch 69/100\n",
            "8/8 [==============================] - 0s 14ms/step - loss: 0.5342 - tp: 1371.0000 - fp: 2127.0000 - tn: 10771.0000 - fn: 786.0000 - accuracy: 0.8065 - precision: 0.3919 - recall: 0.6356 - auc: 0.8258 - prc: 0.4975 - val_loss: 0.4399 - val_tp: 366.0000 - val_fp: 500.0000 - val_tn: 2751.0000 - val_fn: 147.0000 - val_accuracy: 0.8281 - val_precision: 0.4226 - val_recall: 0.7135 - val_auc: 0.8652 - val_prc: 0.5756\n",
            "Epoch 70/100\n",
            "8/8 [==============================] - 0s 13ms/step - loss: 0.5383 - tp: 1349.0000 - fp: 2187.0000 - tn: 10711.0000 - fn: 808.0000 - accuracy: 0.8011 - precision: 0.3815 - recall: 0.6254 - auc: 0.8240 - prc: 0.4816 - val_loss: 0.4403 - val_tp: 368.0000 - val_fp: 500.0000 - val_tn: 2751.0000 - val_fn: 145.0000 - val_accuracy: 0.8286 - val_precision: 0.4240 - val_recall: 0.7173 - val_auc: 0.8653 - val_prc: 0.5757\n",
            "Epoch 71/100\n",
            "8/8 [==============================] - 0s 14ms/step - loss: 0.5292 - tp: 1391.0000 - fp: 2117.0000 - tn: 10781.0000 - fn: 766.0000 - accuracy: 0.8085 - precision: 0.3965 - recall: 0.6449 - auc: 0.8292 - prc: 0.4961 - val_loss: 0.4405 - val_tp: 367.0000 - val_fp: 500.0000 - val_tn: 2751.0000 - val_fn: 146.0000 - val_accuracy: 0.8284 - val_precision: 0.4233 - val_recall: 0.7154 - val_auc: 0.8652 - val_prc: 0.5758\n",
            "Epoch 72/100\n",
            "8/8 [==============================] - 0s 14ms/step - loss: 0.5388 - tp: 1351.0000 - fp: 2132.0000 - tn: 10766.0000 - fn: 806.0000 - accuracy: 0.8048 - precision: 0.3879 - recall: 0.6263 - auc: 0.8235 - prc: 0.4748 - val_loss: 0.4417 - val_tp: 368.0000 - val_fp: 503.0000 - val_tn: 2748.0000 - val_fn: 145.0000 - val_accuracy: 0.8278 - val_precision: 0.4225 - val_recall: 0.7173 - val_auc: 0.8652 - val_prc: 0.5763\n",
            "Epoch 73/100\n",
            "8/8 [==============================] - 0s 13ms/step - loss: 0.5305 - tp: 1388.0000 - fp: 2119.0000 - tn: 10779.0000 - fn: 769.0000 - accuracy: 0.8082 - precision: 0.3958 - recall: 0.6435 - auc: 0.8282 - prc: 0.4894 - val_loss: 0.4421 - val_tp: 368.0000 - val_fp: 505.0000 - val_tn: 2746.0000 - val_fn: 145.0000 - val_accuracy: 0.8273 - val_precision: 0.4215 - val_recall: 0.7173 - val_auc: 0.8652 - val_prc: 0.5761\n",
            "Epoch 74/100\n",
            "8/8 [==============================] - 0s 14ms/step - loss: 0.5305 - tp: 1399.0000 - fp: 2158.0000 - tn: 10740.0000 - fn: 758.0000 - accuracy: 0.8063 - precision: 0.3933 - recall: 0.6486 - auc: 0.8292 - prc: 0.4782 - val_loss: 0.4422 - val_tp: 367.0000 - val_fp: 504.0000 - val_tn: 2747.0000 - val_fn: 146.0000 - val_accuracy: 0.8273 - val_precision: 0.4214 - val_recall: 0.7154 - val_auc: 0.8654 - val_prc: 0.5762\n",
            "Epoch 75/100\n",
            "8/8 [==============================] - 0s 16ms/step - loss: 0.5339 - tp: 1394.0000 - fp: 2196.0000 - tn: 10702.0000 - fn: 763.0000 - accuracy: 0.8035 - precision: 0.3883 - recall: 0.6463 - auc: 0.8260 - prc: 0.4889 - val_loss: 0.4423 - val_tp: 368.0000 - val_fp: 505.0000 - val_tn: 2746.0000 - val_fn: 145.0000 - val_accuracy: 0.8273 - val_precision: 0.4215 - val_recall: 0.7173 - val_auc: 0.8654 - val_prc: 0.5762\n",
            "Epoch 76/100\n",
            "8/8 [==============================] - 0s 17ms/step - loss: 0.5299 - tp: 1409.0000 - fp: 2186.0000 - tn: 10712.0000 - fn: 748.0000 - accuracy: 0.8051 - precision: 0.3919 - recall: 0.6532 - auc: 0.8268 - prc: 0.4894 - val_loss: 0.4418 - val_tp: 367.0000 - val_fp: 505.0000 - val_tn: 2746.0000 - val_fn: 146.0000 - val_accuracy: 0.8270 - val_precision: 0.4209 - val_recall: 0.7154 - val_auc: 0.8656 - val_prc: 0.5763\n",
            "Epoch 77/100\n",
            "8/8 [==============================] - 0s 16ms/step - loss: 0.5223 - tp: 1414.0000 - fp: 2133.0000 - tn: 10765.0000 - fn: 743.0000 - accuracy: 0.8090 - precision: 0.3986 - recall: 0.6555 - auc: 0.8336 - prc: 0.4954 - val_loss: 0.4418 - val_tp: 367.0000 - val_fp: 509.0000 - val_tn: 2742.0000 - val_fn: 146.0000 - val_accuracy: 0.8260 - val_precision: 0.4189 - val_recall: 0.7154 - val_auc: 0.8655 - val_prc: 0.5762\n",
            "Epoch 78/100\n",
            "1/8 [==>...........................] - ETA: 0s - loss: 0.5812 - tp: 161.0000 - fp: 306.0000 - tn: 1461.0000 - fn: 120.0000 - accuracy: 0.7920 - precision: 0.3448 - recall: 0.5730 - auc: 0.7870 - prc: 0.3807Restoring model weights from the end of the best epoch: 68.\n",
            "8/8 [==============================] - 0s 23ms/step - loss: 0.5379 - tp: 1370.0000 - fp: 2114.0000 - tn: 10784.0000 - fn: 787.0000 - accuracy: 0.8073 - precision: 0.3932 - recall: 0.6351 - auc: 0.8250 - prc: 0.4709 - val_loss: 0.4420 - val_tp: 368.0000 - val_fp: 511.0000 - val_tn: 2740.0000 - val_fn: 145.0000 - val_accuracy: 0.8257 - val_precision: 0.4187 - val_recall: 0.7173 - val_auc: 0.8656 - val_prc: 0.5758\n",
            "Epoch 78: early stopping\n"
          ]
        }
      ]
    },
    {
      "cell_type": "code",
      "source": [
        "train_predictions_weighted = weighted_model.predict(train_features, batch_size=BATCH_SIZE)\n",
        "test_predictions_weighted = weighted_model.predict(test_features, batch_size=BATCH_SIZE)"
      ],
      "metadata": {
        "colab": {
          "base_uri": "https://localhost:8080/"
        },
        "id": "13n_NpvPbXPd",
        "outputId": "353ebce6-6ace-491f-c332-eadae5839fb8"
      },
      "execution_count": 53,
      "outputs": [
        {
          "output_type": "stream",
          "name": "stdout",
          "text": [
            "8/8 [==============================] - 0s 3ms/step\n",
            "3/3 [==============================] - 0s 3ms/step\n"
          ]
        }
      ]
    },
    {
      "cell_type": "code",
      "source": [
        "weighted_results = weighted_model.evaluate(test_features, test_labels,\n",
        "                                           batch_size=BATCH_SIZE, verbose=0)\n",
        "for name, value in zip(weighted_model.metrics_names, weighted_results):\n",
        "  print(name, ': ', value)\n",
        "print()\n",
        "\n",
        "plot_cm(test_labels, test_predictions_weighted)"
      ],
      "metadata": {
        "colab": {
          "base_uri": "https://localhost:8080/",
          "height": 765
        },
        "id": "fPGI9-H5biYn",
        "outputId": "1090579f-2c6c-4d46-d605-832bc55cfc1a"
      },
      "execution_count": 54,
      "outputs": [
        {
          "output_type": "stream",
          "name": "stdout",
          "text": [
            "loss :  0.4393383860588074\n",
            "tp :  422.0\n",
            "fp :  620.0\n",
            "tn :  3443.0\n",
            "fn :  220.0\n",
            "accuracy :  0.8214665055274963\n",
            "precision :  0.40499040484428406\n",
            "recall :  0.6573208570480347\n",
            "auc :  0.8482874631881714\n",
            "prc :  0.5531964302062988\n",
            "\n",
            "Legitimate Transactions Detected (True Negatives):  3443\n",
            "Legitimate Transactions Incorrectly Detected (False Positives):  620\n",
            "Fraudulent Transactions Missed (False Negatives):  220\n",
            "Fraudulent Transactions Detected (True Positives):  422\n",
            "Total Fraudulent Transactions:  642\n"
          ]
        },
        {
          "output_type": "display_data",
          "data": {
            "text/plain": [
              "<Figure size 500x500 with 2 Axes>"
            ],
            "image/png": "[encoded data removed]"
          },
          "metadata": {}
        }
      ]
    },
    {
      "cell_type": "code",
      "source": [
        "pos_features = train_features[bool_train_labels]\n",
        "neg_features = train_features[~bool_train_labels]\n",
        "\n",
        "pos_labels = train_labels[bool_train_labels]\n",
        "neg_labels = train_labels[~bool_train_labels]"
      ],
      "metadata": {
        "id": "SlphB3zebtnp"
      },
      "execution_count": 55,
      "outputs": []
    },
    {
      "cell_type": "code",
      "source": [
        "ids = np.arange(len(pos_features))\n",
        "choices = np.random.choice(ids, len(neg_features))\n",
        "\n",
        "res_pos_features = pos_features[choices]\n",
        "res_pos_labels = pos_labels[choices]\n",
        "\n",
        "res_pos_features.shape"
      ],
      "metadata": {
        "colab": {
          "base_uri": "https://localhost:8080/"
        },
        "id": "GpbsHyhmb5x8",
        "outputId": "0de1c14b-1956-4d22-a1c4-c1ecfc54e825"
      },
      "execution_count": 56,
      "outputs": [
        {
          "output_type": "execute_result",
          "data": {
            "text/plain": [
              "(12898, 37)"
            ]
          },
          "metadata": {},
          "execution_count": 56
        }
      ]
    },
    {
      "cell_type": "code",
      "source": [
        "resampled_features = np.concatenate([res_pos_features, neg_features], axis=0)\n",
        "resampled_labels = np.concatenate([res_pos_labels, neg_labels], axis=0)\n",
        "\n",
        "order = np.arange(len(resampled_labels))\n",
        "np.random.shuffle(order)\n",
        "resampled_features = resampled_features[order]\n",
        "resampled_labels = resampled_labels[order]\n",
        "\n",
        "resampled_features.shape"
      ],
      "metadata": {
        "colab": {
          "base_uri": "https://localhost:8080/"
        },
        "id": "53fjn70hb817",
        "outputId": "e6328be9-8f16-476c-c85b-ba69f141732a"
      },
      "execution_count": 58,
      "outputs": [
        {
          "output_type": "execute_result",
          "data": {
            "text/plain": [
              "(25796, 37)"
            ]
          },
          "metadata": {},
          "execution_count": 58
        }
      ]
    },
    {
      "cell_type": "code",
      "source": [
        "BUFFER_SIZE = 10000\n",
        "\n",
        "def make_ds(features, labels):\n",
        "  ds = tf.data.Dataset.from_tensor_slices((features, labels))#.cache()\n",
        "  ds = ds.shuffle(BUFFER_SIZE).repeat()\n",
        "  return ds\n",
        "\n",
        "pos_ds = make_ds(pos_features, pos_labels)\n",
        "neg_ds = make_ds(neg_features, neg_labels)\n"
      ],
      "metadata": {
        "id": "hFfWipdZcCTj"
      },
      "execution_count": 59,
      "outputs": []
    },
    {
      "cell_type": "code",
      "source": [
        "for features, label in pos_ds.take(1):\n",
        "  print(\"Features:\\n\", features.numpy())\n",
        "  print()\n",
        "  print(\"Label: \", label.numpy())"
      ],
      "metadata": {
        "colab": {
          "base_uri": "https://localhost:8080/"
        },
        "id": "ai9HqYvxcHtO",
        "outputId": "84b1b8fe-163c-444e-bb65-a74cdb8f9f6b"
      },
      "execution_count": 60,
      "outputs": [
        {
          "output_type": "stream",
          "name": "stdout",
          "text": [
            "Features:\n",
            " [-1.15833099  1.25054484  0.59016053 -0.36139552 -0.83441034 -0.83641711\n",
            " -0.32633899 -1.09224906 -0.09150084 -0.1694058  -0.2246031   1.62156097\n",
            " -0.31436428 -0.01411769  1.08903747 -0.71363379 -0.36043854 -0.48646879\n",
            " -0.03554763  0.91578728 -0.46811009 -0.22768615 -0.18895623 -0.07535266\n",
            " -0.54944077 -0.13073747 -0.21783039 -0.10623095 -0.55323053 -0.16857414\n",
            " -0.22049354  2.87680935 -0.61289446 -0.5973234   1.30866826 -0.62377394\n",
            " -0.31116482]\n",
            "\n",
            "Label:  1\n"
          ]
        }
      ]
    },
    {
      "cell_type": "code",
      "source": [
        "resampled_ds = tf.data.Dataset.sample_from_datasets([pos_ds, neg_ds], weights=[0.5, 0.5])\n",
        "resampled_ds = resampled_ds.batch(BATCH_SIZE).prefetch(2)"
      ],
      "metadata": {
        "id": "gOacrChxcK2W"
      },
      "execution_count": 61,
      "outputs": []
    },
    {
      "cell_type": "code",
      "source": [
        "for features, label in resampled_ds.take(1):\n",
        "  print(label.numpy().mean())"
      ],
      "metadata": {
        "colab": {
          "base_uri": "https://localhost:8080/"
        },
        "id": "3nHmig5AcPXn",
        "outputId": "3bae67a4-99e7-44ad-b936-8f0c1501d0ee"
      },
      "execution_count": 62,
      "outputs": [
        {
          "output_type": "stream",
          "name": "stdout",
          "text": [
            "0.52001953125\n"
          ]
        }
      ]
    },
    {
      "cell_type": "code",
      "source": [
        "resampled_steps_per_epoch = np.ceil(2.0*neg/BATCH_SIZE)\n",
        "resampled_steps_per_epoch"
      ],
      "metadata": {
        "colab": {
          "base_uri": "https://localhost:8080/"
        },
        "id": "5buSXvqocRe_",
        "outputId": "a2eeb464-7420-45bf-94f7-99b770bf3e79"
      },
      "execution_count": 63,
      "outputs": [
        {
          "output_type": "execute_result",
          "data": {
            "text/plain": [
              "20.0"
            ]
          },
          "metadata": {},
          "execution_count": 63
        }
      ]
    },
    {
      "cell_type": "code",
      "source": [
        "resampled_model = make_model()\n",
        "resampled_model.load_weights(initial_weights)\n",
        "\n",
        "# Reset the bias to zero, since this dataset is balanced.\n",
        "output_layer = resampled_model.layers[-1] \n",
        "output_layer.bias.assign([0])\n",
        "\n",
        "val_ds = tf.data.Dataset.from_tensor_slices((val_features, val_labels)).cache()\n",
        "val_ds = val_ds.batch(BATCH_SIZE).prefetch(2) \n",
        "\n",
        "resampled_history = resampled_model.fit(\n",
        "    resampled_ds,\n",
        "    epochs=EPOCHS,\n",
        "    steps_per_epoch=resampled_steps_per_epoch,\n",
        "    callbacks=[early_stopping],\n",
        "    validation_data=val_ds)"
      ],
      "metadata": {
        "colab": {
          "base_uri": "https://localhost:8080/"
        },
        "id": "L_SccQi_cUeH",
        "outputId": "602ddffe-a0cd-40d0-9415-824193da922c"
      },
      "execution_count": 64,
      "outputs": [
        {
          "output_type": "stream",
          "name": "stdout",
          "text": [
            "Epoch 1/100\n",
            "20/20 [==============================] - 12s 272ms/step - loss: 0.7359 - tp: 11046.0000 - fp: 7553.0000 - tn: 17087.0000 - fn: 9979.0000 - accuracy: 0.6161 - precision: 0.5939 - recall: 0.5254 - auc: 0.6529 - prc: 0.6029 - val_loss: 0.5799 - val_tp: 347.0000 - val_fp: 984.0000 - val_tn: 2267.0000 - val_fn: 166.0000 - val_accuracy: 0.6945 - val_precision: 0.2607 - val_recall: 0.6764 - val_auc: 0.7589 - val_prc: 0.3616\n",
            "Epoch 2/100\n",
            "20/20 [==============================] - 2s 126ms/step - loss: 0.6617 - tp: 12556.0000 - fp: 7195.0000 - tn: 13449.0000 - fn: 7760.0000 - accuracy: 0.6349 - precision: 0.6357 - recall: 0.6180 - auc: 0.6853 - prc: 0.6773 - val_loss: 0.5619 - val_tp: 393.0000 - val_fp: 985.0000 - val_tn: 2266.0000 - val_fn: 120.0000 - val_accuracy: 0.7064 - val_precision: 0.2852 - val_recall: 0.7661 - val_auc: 0.8076 - val_prc: 0.4474\n",
            "Epoch 3/100\n",
            "20/20 [==============================] - 2s 122ms/step - loss: 0.6232 - tp: 13588.0000 - fp: 6984.0000 - tn: 13534.0000 - fn: 6854.0000 - accuracy: 0.6622 - precision: 0.6605 - recall: 0.6647 - auc: 0.7238 - prc: 0.7195 - val_loss: 0.5425 - val_tp: 405.0000 - val_fp: 957.0000 - val_tn: 2294.0000 - val_fn: 108.0000 - val_accuracy: 0.7171 - val_precision: 0.2974 - val_recall: 0.7895 - val_auc: 0.8301 - val_prc: 0.4935\n",
            "Epoch 4/100\n",
            "20/20 [==============================] - 2s 83ms/step - loss: 0.5953 - tp: 14288.0000 - fp: 6820.0000 - tn: 13610.0000 - fn: 6242.0000 - accuracy: 0.6811 - precision: 0.6769 - recall: 0.6960 - auc: 0.7509 - prc: 0.7503 - val_loss: 0.5289 - val_tp: 410.0000 - val_fp: 889.0000 - val_tn: 2362.0000 - val_fn: 103.0000 - val_accuracy: 0.7365 - val_precision: 0.3156 - val_recall: 0.7992 - val_auc: 0.8417 - val_prc: 0.5169\n",
            "Epoch 5/100\n",
            "20/20 [==============================] - 1s 74ms/step - loss: 0.5760 - tp: 14476.0000 - fp: 6438.0000 - tn: 14110.0000 - fn: 5936.0000 - accuracy: 0.6979 - precision: 0.6922 - recall: 0.7092 - auc: 0.7707 - prc: 0.7654 - val_loss: 0.5142 - val_tp: 409.0000 - val_fp: 834.0000 - val_tn: 2417.0000 - val_fn: 104.0000 - val_accuracy: 0.7508 - val_precision: 0.3290 - val_recall: 0.7973 - val_auc: 0.8489 - val_prc: 0.5345\n",
            "Epoch 6/100\n",
            "20/20 [==============================] - 1s 78ms/step - loss: 0.5584 - tp: 14687.0000 - fp: 6124.0000 - tn: 14404.0000 - fn: 5745.0000 - accuracy: 0.7102 - precision: 0.7057 - recall: 0.7188 - auc: 0.7858 - prc: 0.7838 - val_loss: 0.5025 - val_tp: 410.0000 - val_fp: 786.0000 - val_tn: 2465.0000 - val_fn: 103.0000 - val_accuracy: 0.7638 - val_precision: 0.3428 - val_recall: 0.7992 - val_auc: 0.8537 - val_prc: 0.5498\n",
            "Epoch 7/100\n",
            "20/20 [==============================] - 2s 79ms/step - loss: 0.5476 - tp: 14793.0000 - fp: 5803.0000 - tn: 14825.0000 - fn: 5539.0000 - accuracy: 0.7231 - precision: 0.7182 - recall: 0.7276 - auc: 0.7978 - prc: 0.7925 - val_loss: 0.4935 - val_tp: 410.0000 - val_fp: 770.0000 - val_tn: 2481.0000 - val_fn: 103.0000 - val_accuracy: 0.7681 - val_precision: 0.3475 - val_recall: 0.7992 - val_auc: 0.8574 - val_prc: 0.5608\n",
            "Epoch 8/100\n",
            "20/20 [==============================] - 1s 77ms/step - loss: 0.5393 - tp: 14736.0000 - fp: 5583.0000 - tn: 15034.0000 - fn: 5607.0000 - accuracy: 0.7268 - precision: 0.7252 - recall: 0.7244 - auc: 0.8047 - prc: 0.7982 - val_loss: 0.4866 - val_tp: 408.0000 - val_fp: 754.0000 - val_tn: 2497.0000 - val_fn: 105.0000 - val_accuracy: 0.7718 - val_precision: 0.3511 - val_recall: 0.7953 - val_auc: 0.8598 - val_prc: 0.5697\n",
            "Epoch 9/100\n",
            "20/20 [==============================] - 1s 75ms/step - loss: 0.5289 - tp: 15022.0000 - fp: 5322.0000 - tn: 14999.0000 - fn: 5617.0000 - accuracy: 0.7329 - precision: 0.7384 - recall: 0.7278 - auc: 0.8131 - prc: 0.8125 - val_loss: 0.4866 - val_tp: 408.0000 - val_fp: 736.0000 - val_tn: 2515.0000 - val_fn: 105.0000 - val_accuracy: 0.7766 - val_precision: 0.3566 - val_recall: 0.7953 - val_auc: 0.8617 - val_prc: 0.5756\n",
            "Epoch 10/100\n",
            "20/20 [==============================] - 2s 87ms/step - loss: 0.5231 - tp: 14958.0000 - fp: 5170.0000 - tn: 15268.0000 - fn: 5564.0000 - accuracy: 0.7379 - precision: 0.7431 - recall: 0.7289 - auc: 0.8188 - prc: 0.8169 - val_loss: 0.4830 - val_tp: 405.0000 - val_fp: 704.0000 - val_tn: 2547.0000 - val_fn: 108.0000 - val_accuracy: 0.7843 - val_precision: 0.3652 - val_recall: 0.7895 - val_auc: 0.8630 - val_prc: 0.5775\n",
            "Epoch 11/100\n",
            "20/20 [==============================] - 2s 127ms/step - loss: 0.5173 - tp: 15060.0000 - fp: 4970.0000 - tn: 15435.0000 - fn: 5495.0000 - accuracy: 0.7445 - precision: 0.7519 - recall: 0.7327 - auc: 0.8234 - prc: 0.8225 - val_loss: 0.4791 - val_tp: 406.0000 - val_fp: 685.0000 - val_tn: 2566.0000 - val_fn: 107.0000 - val_accuracy: 0.7896 - val_precision: 0.3721 - val_recall: 0.7914 - val_auc: 0.8646 - val_prc: 0.5795\n",
            "Epoch 12/100\n",
            "20/20 [==============================] - 2s 79ms/step - loss: 0.5147 - tp: 15056.0000 - fp: 4970.0000 - tn: 15460.0000 - fn: 5474.0000 - accuracy: 0.7450 - precision: 0.7518 - recall: 0.7334 - auc: 0.8254 - prc: 0.8230 - val_loss: 0.4763 - val_tp: 406.0000 - val_fp: 688.0000 - val_tn: 2563.0000 - val_fn: 107.0000 - val_accuracy: 0.7888 - val_precision: 0.3711 - val_recall: 0.7914 - val_auc: 0.8655 - val_prc: 0.5824\n",
            "Epoch 13/100\n",
            "20/20 [==============================] - 1s 77ms/step - loss: 0.5099 - tp: 15142.0000 - fp: 4799.0000 - tn: 15601.0000 - fn: 5418.0000 - accuracy: 0.7506 - precision: 0.7593 - recall: 0.7365 - auc: 0.8305 - prc: 0.8289 - val_loss: 0.4718 - val_tp: 405.0000 - val_fp: 675.0000 - val_tn: 2576.0000 - val_fn: 108.0000 - val_accuracy: 0.7920 - val_precision: 0.3750 - val_recall: 0.7895 - val_auc: 0.8662 - val_prc: 0.5836\n",
            "Epoch 14/100\n",
            "20/20 [==============================] - 1s 78ms/step - loss: 0.5068 - tp: 15081.0000 - fp: 4668.0000 - tn: 15720.0000 - fn: 5491.0000 - accuracy: 0.7520 - precision: 0.7636 - recall: 0.7331 - auc: 0.8321 - prc: 0.8309 - val_loss: 0.4738 - val_tp: 405.0000 - val_fp: 673.0000 - val_tn: 2578.0000 - val_fn: 108.0000 - val_accuracy: 0.7925 - val_precision: 0.3757 - val_recall: 0.7895 - val_auc: 0.8666 - val_prc: 0.5808\n",
            "Epoch 15/100\n",
            "20/20 [==============================] - 1s 76ms/step - loss: 0.5041 - tp: 14984.0000 - fp: 4626.0000 - tn: 15942.0000 - fn: 5408.0000 - accuracy: 0.7550 - precision: 0.7641 - recall: 0.7348 - auc: 0.8348 - prc: 0.8295 - val_loss: 0.4683 - val_tp: 400.0000 - val_fp: 651.0000 - val_tn: 2600.0000 - val_fn: 113.0000 - val_accuracy: 0.7970 - val_precision: 0.3806 - val_recall: 0.7797 - val_auc: 0.8671 - val_prc: 0.5827\n",
            "Epoch 16/100\n",
            "20/20 [==============================] - 2s 79ms/step - loss: 0.5012 - tp: 14969.0000 - fp: 4507.0000 - tn: 16034.0000 - fn: 5450.0000 - accuracy: 0.7569 - precision: 0.7686 - recall: 0.7331 - auc: 0.8363 - prc: 0.8331 - val_loss: 0.4631 - val_tp: 399.0000 - val_fp: 642.0000 - val_tn: 2609.0000 - val_fn: 114.0000 - val_accuracy: 0.7991 - val_precision: 0.3833 - val_recall: 0.7778 - val_auc: 0.8672 - val_prc: 0.5833\n",
            "Epoch 17/100\n",
            "20/20 [==============================] - 1s 77ms/step - loss: 0.4972 - tp: 14822.0000 - fp: 4441.0000 - tn: 16241.0000 - fn: 5456.0000 - accuracy: 0.7584 - precision: 0.7695 - recall: 0.7309 - auc: 0.8393 - prc: 0.8349 - val_loss: 0.4610 - val_tp: 398.0000 - val_fp: 635.0000 - val_tn: 2616.0000 - val_fn: 115.0000 - val_accuracy: 0.8007 - val_precision: 0.3853 - val_recall: 0.7758 - val_auc: 0.8673 - val_prc: 0.5827\n",
            "Epoch 18/100\n",
            "20/20 [==============================] - 2s 87ms/step - loss: 0.4954 - tp: 14954.0000 - fp: 4334.0000 - tn: 16210.0000 - fn: 5462.0000 - accuracy: 0.7608 - precision: 0.7753 - recall: 0.7325 - auc: 0.8408 - prc: 0.8372 - val_loss: 0.4639 - val_tp: 400.0000 - val_fp: 653.0000 - val_tn: 2598.0000 - val_fn: 113.0000 - val_accuracy: 0.7965 - val_precision: 0.3799 - val_recall: 0.7797 - val_auc: 0.8674 - val_prc: 0.5845\n",
            "Epoch 19/100\n",
            "20/20 [==============================] - 2s 119ms/step - loss: 0.4932 - tp: 14910.0000 - fp: 4378.0000 - tn: 16293.0000 - fn: 5379.0000 - accuracy: 0.7618 - precision: 0.7730 - recall: 0.7349 - auc: 0.8428 - prc: 0.8375 - val_loss: 0.4612 - val_tp: 401.0000 - val_fp: 650.0000 - val_tn: 2601.0000 - val_fn: 112.0000 - val_accuracy: 0.7976 - val_precision: 0.3815 - val_recall: 0.7817 - val_auc: 0.8674 - val_prc: 0.5825\n",
            "Epoch 20/100\n",
            "20/20 [==============================] - 2s 81ms/step - loss: 0.4966 - tp: 15003.0000 - fp: 4415.0000 - tn: 16061.0000 - fn: 5481.0000 - accuracy: 0.7584 - precision: 0.7726 - recall: 0.7324 - auc: 0.8408 - prc: 0.8378 - val_loss: 0.4601 - val_tp: 401.0000 - val_fp: 651.0000 - val_tn: 2600.0000 - val_fn: 112.0000 - val_accuracy: 0.7973 - val_precision: 0.3812 - val_recall: 0.7817 - val_auc: 0.8678 - val_prc: 0.5836\n",
            "Epoch 21/100\n",
            "20/20 [==============================] - 2s 111ms/step - loss: 0.4932 - tp: 15153.0000 - fp: 4295.0000 - tn: 16144.0000 - fn: 5368.0000 - accuracy: 0.7641 - precision: 0.7792 - recall: 0.7384 - auc: 0.8437 - prc: 0.8404 - val_loss: 0.4647 - val_tp: 404.0000 - val_fp: 665.0000 - val_tn: 2586.0000 - val_fn: 109.0000 - val_accuracy: 0.7944 - val_precision: 0.3779 - val_recall: 0.7875 - val_auc: 0.8682 - val_prc: 0.5817\n",
            "Epoch 22/100\n",
            "20/20 [==============================] - 2s 118ms/step - loss: 0.4925 - tp: 15092.0000 - fp: 4339.0000 - tn: 16218.0000 - fn: 5311.0000 - accuracy: 0.7644 - precision: 0.7767 - recall: 0.7397 - auc: 0.8439 - prc: 0.8400 - val_loss: 0.4613 - val_tp: 404.0000 - val_fp: 659.0000 - val_tn: 2592.0000 - val_fn: 109.0000 - val_accuracy: 0.7960 - val_precision: 0.3801 - val_recall: 0.7875 - val_auc: 0.8684 - val_prc: 0.5818\n",
            "Epoch 23/100\n",
            "20/20 [==============================] - 1s 76ms/step - loss: 0.4922 - tp: 15135.0000 - fp: 4361.0000 - tn: 16125.0000 - fn: 5339.0000 - accuracy: 0.7632 - precision: 0.7763 - recall: 0.7392 - auc: 0.8436 - prc: 0.8393 - val_loss: 0.4590 - val_tp: 404.0000 - val_fp: 655.0000 - val_tn: 2596.0000 - val_fn: 109.0000 - val_accuracy: 0.7970 - val_precision: 0.3815 - val_recall: 0.7875 - val_auc: 0.8685 - val_prc: 0.5824\n",
            "Epoch 24/100\n",
            "20/20 [==============================] - 2s 79ms/step - loss: 0.4892 - tp: 15151.0000 - fp: 4301.0000 - tn: 16210.0000 - fn: 5298.0000 - accuracy: 0.7656 - precision: 0.7789 - recall: 0.7409 - auc: 0.8467 - prc: 0.8407 - val_loss: 0.4601 - val_tp: 403.0000 - val_fp: 668.0000 - val_tn: 2583.0000 - val_fn: 110.0000 - val_accuracy: 0.7933 - val_precision: 0.3763 - val_recall: 0.7856 - val_auc: 0.8685 - val_prc: 0.5834\n",
            "Epoch 25/100\n",
            "20/20 [==============================] - 2s 87ms/step - loss: 0.4894 - tp: 15112.0000 - fp: 4371.0000 - tn: 16241.0000 - fn: 5236.0000 - accuracy: 0.7655 - precision: 0.7757 - recall: 0.7427 - auc: 0.8460 - prc: 0.8409 - val_loss: 0.4585 - val_tp: 406.0000 - val_fp: 669.0000 - val_tn: 2582.0000 - val_fn: 107.0000 - val_accuracy: 0.7938 - val_precision: 0.3777 - val_recall: 0.7914 - val_auc: 0.8686 - val_prc: 0.5832\n",
            "Epoch 26/100\n",
            "20/20 [==============================] - 2s 130ms/step - loss: 0.4907 - tp: 15328.0000 - fp: 4404.0000 - tn: 15978.0000 - fn: 5250.0000 - accuracy: 0.7643 - precision: 0.7768 - recall: 0.7449 - auc: 0.8454 - prc: 0.8427 - val_loss: 0.4589 - val_tp: 408.0000 - val_fp: 672.0000 - val_tn: 2579.0000 - val_fn: 105.0000 - val_accuracy: 0.7936 - val_precision: 0.3778 - val_recall: 0.7953 - val_auc: 0.8689 - val_prc: 0.5842\n",
            "Epoch 27/100\n",
            "20/20 [==============================] - 1s 75ms/step - loss: 0.4898 - tp: 15235.0000 - fp: 4438.0000 - tn: 16032.0000 - fn: 5255.0000 - accuracy: 0.7634 - precision: 0.7744 - recall: 0.7435 - auc: 0.8451 - prc: 0.8426 - val_loss: 0.4600 - val_tp: 407.0000 - val_fp: 679.0000 - val_tn: 2572.0000 - val_fn: 106.0000 - val_accuracy: 0.7914 - val_precision: 0.3748 - val_recall: 0.7934 - val_auc: 0.8687 - val_prc: 0.5853\n",
            "Epoch 28/100\n",
            "20/20 [==============================] - 1s 75ms/step - loss: 0.4863 - tp: 15341.0000 - fp: 4354.0000 - tn: 16115.0000 - fn: 5150.0000 - accuracy: 0.7680 - precision: 0.7789 - recall: 0.7487 - auc: 0.8486 - prc: 0.8448 - val_loss: 0.4593 - val_tp: 407.0000 - val_fp: 677.0000 - val_tn: 2574.0000 - val_fn: 106.0000 - val_accuracy: 0.7920 - val_precision: 0.3755 - val_recall: 0.7934 - val_auc: 0.8689 - val_prc: 0.5845\n",
            "Epoch 29/100\n",
            "20/20 [==============================] - 2s 83ms/step - loss: 0.4887 - tp: 15149.0000 - fp: 4368.0000 - tn: 16225.0000 - fn: 5218.0000 - accuracy: 0.7660 - precision: 0.7762 - recall: 0.7438 - auc: 0.8475 - prc: 0.8401 - val_loss: 0.4567 - val_tp: 405.0000 - val_fp: 667.0000 - val_tn: 2584.0000 - val_fn: 108.0000 - val_accuracy: 0.7941 - val_precision: 0.3778 - val_recall: 0.7895 - val_auc: 0.8689 - val_prc: 0.5845\n",
            "Epoch 30/100\n",
            "20/20 [==============================] - 2s 80ms/step - loss: 0.4880 - tp: 15237.0000 - fp: 4351.0000 - tn: 16147.0000 - fn: 5225.0000 - accuracy: 0.7662 - precision: 0.7779 - recall: 0.7446 - auc: 0.8476 - prc: 0.8429 - val_loss: 0.4562 - val_tp: 407.0000 - val_fp: 671.0000 - val_tn: 2580.0000 - val_fn: 106.0000 - val_accuracy: 0.7936 - val_precision: 0.3776 - val_recall: 0.7934 - val_auc: 0.8692 - val_prc: 0.5844\n",
            "Epoch 31/100\n",
            "20/20 [==============================] - 2s 97ms/step - loss: 0.4856 - tp: 15269.0000 - fp: 4260.0000 - tn: 16359.0000 - fn: 5072.0000 - accuracy: 0.7722 - precision: 0.7819 - recall: 0.7507 - auc: 0.8499 - prc: 0.8432 - val_loss: 0.4552 - val_tp: 406.0000 - val_fp: 667.0000 - val_tn: 2584.0000 - val_fn: 107.0000 - val_accuracy: 0.7944 - val_precision: 0.3784 - val_recall: 0.7914 - val_auc: 0.8691 - val_prc: 0.5844\n",
            "Epoch 32/100\n",
            "20/20 [==============================] - 2s 99ms/step - loss: 0.4877 - tp: 15382.0000 - fp: 4357.0000 - tn: 16021.0000 - fn: 5200.0000 - accuracy: 0.7667 - precision: 0.7793 - recall: 0.7474 - auc: 0.8470 - prc: 0.8437 - val_loss: 0.4577 - val_tp: 408.0000 - val_fp: 675.0000 - val_tn: 2576.0000 - val_fn: 105.0000 - val_accuracy: 0.7928 - val_precision: 0.3767 - val_recall: 0.7953 - val_auc: 0.8692 - val_prc: 0.5852\n",
            "Epoch 33/100\n",
            "20/20 [==============================] - 2s 124ms/step - loss: 0.4847 - tp: 15390.0000 - fp: 4336.0000 - tn: 16225.0000 - fn: 5009.0000 - accuracy: 0.7719 - precision: 0.7802 - recall: 0.7544 - auc: 0.8510 - prc: 0.8446 - val_loss: 0.4579 - val_tp: 410.0000 - val_fp: 678.0000 - val_tn: 2573.0000 - val_fn: 103.0000 - val_accuracy: 0.7925 - val_precision: 0.3768 - val_recall: 0.7992 - val_auc: 0.8693 - val_prc: 0.5851\n",
            "Epoch 34/100\n",
            "20/20 [==============================] - 2s 90ms/step - loss: 0.4859 - tp: 15466.0000 - fp: 4418.0000 - tn: 16030.0000 - fn: 5046.0000 - accuracy: 0.7689 - precision: 0.7778 - recall: 0.7540 - auc: 0.8491 - prc: 0.8451 - val_loss: 0.4582 - val_tp: 410.0000 - val_fp: 672.0000 - val_tn: 2579.0000 - val_fn: 103.0000 - val_accuracy: 0.7941 - val_precision: 0.3789 - val_recall: 0.7992 - val_auc: 0.8694 - val_prc: 0.5853\n",
            "Epoch 35/100\n",
            "20/20 [==============================] - 2s 79ms/step - loss: 0.4842 - tp: 15413.0000 - fp: 4297.0000 - tn: 16117.0000 - fn: 5133.0000 - accuracy: 0.7698 - precision: 0.7820 - recall: 0.7502 - auc: 0.8508 - prc: 0.8460 - val_loss: 0.4580 - val_tp: 410.0000 - val_fp: 676.0000 - val_tn: 2575.0000 - val_fn: 103.0000 - val_accuracy: 0.7930 - val_precision: 0.3775 - val_recall: 0.7992 - val_auc: 0.8695 - val_prc: 0.5857\n",
            "Epoch 36/100\n",
            "20/20 [==============================] - 2s 79ms/step - loss: 0.4830 - tp: 15335.0000 - fp: 4432.0000 - tn: 16189.0000 - fn: 5004.0000 - accuracy: 0.7696 - precision: 0.7758 - recall: 0.7540 - auc: 0.8505 - prc: 0.8450 - val_loss: 0.4557 - val_tp: 409.0000 - val_fp: 672.0000 - val_tn: 2579.0000 - val_fn: 104.0000 - val_accuracy: 0.7938 - val_precision: 0.3784 - val_recall: 0.7973 - val_auc: 0.8697 - val_prc: 0.5859\n",
            "Epoch 37/100\n",
            "20/20 [==============================] - 2s 81ms/step - loss: 0.4839 - tp: 15432.0000 - fp: 4395.0000 - tn: 16093.0000 - fn: 5040.0000 - accuracy: 0.7697 - precision: 0.7783 - recall: 0.7538 - auc: 0.8504 - prc: 0.8452 - val_loss: 0.4540 - val_tp: 409.0000 - val_fp: 671.0000 - val_tn: 2580.0000 - val_fn: 104.0000 - val_accuracy: 0.7941 - val_precision: 0.3787 - val_recall: 0.7973 - val_auc: 0.8696 - val_prc: 0.5857\n",
            "Epoch 38/100\n",
            "20/20 [==============================] - 2s 80ms/step - loss: 0.4859 - tp: 15396.0000 - fp: 4423.0000 - tn: 16101.0000 - fn: 5040.0000 - accuracy: 0.7690 - precision: 0.7768 - recall: 0.7534 - auc: 0.8499 - prc: 0.8425 - val_loss: 0.4534 - val_tp: 409.0000 - val_fp: 671.0000 - val_tn: 2580.0000 - val_fn: 104.0000 - val_accuracy: 0.7941 - val_precision: 0.3787 - val_recall: 0.7973 - val_auc: 0.8695 - val_prc: 0.5850\n",
            "Epoch 39/100\n",
            "20/20 [==============================] - 1s 72ms/step - loss: 0.4837 - tp: 15586.0000 - fp: 4302.0000 - tn: 15973.0000 - fn: 5099.0000 - accuracy: 0.7705 - precision: 0.7837 - recall: 0.7535 - auc: 0.8510 - prc: 0.8475 - val_loss: 0.4581 - val_tp: 412.0000 - val_fp: 682.0000 - val_tn: 2569.0000 - val_fn: 101.0000 - val_accuracy: 0.7920 - val_precision: 0.3766 - val_recall: 0.8031 - val_auc: 0.8698 - val_prc: 0.5862\n",
            "Epoch 40/100\n",
            "20/20 [==============================] - 2s 91ms/step - loss: 0.4836 - tp: 15455.0000 - fp: 4429.0000 - tn: 16102.0000 - fn: 4974.0000 - accuracy: 0.7704 - precision: 0.7773 - recall: 0.7565 - auc: 0.8510 - prc: 0.8450 - val_loss: 0.4564 - val_tp: 411.0000 - val_fp: 677.0000 - val_tn: 2574.0000 - val_fn: 102.0000 - val_accuracy: 0.7930 - val_precision: 0.3778 - val_recall: 0.8012 - val_auc: 0.8698 - val_prc: 0.5858\n",
            "Epoch 41/100\n",
            "20/20 [==============================] - 2s 117ms/step - loss: 0.4811 - tp: 15604.0000 - fp: 4284.0000 - tn: 16098.0000 - fn: 4974.0000 - accuracy: 0.7740 - precision: 0.7846 - recall: 0.7583 - auc: 0.8528 - prc: 0.8486 - val_loss: 0.4559 - val_tp: 411.0000 - val_fp: 675.0000 - val_tn: 2576.0000 - val_fn: 102.0000 - val_accuracy: 0.7936 - val_precision: 0.3785 - val_recall: 0.8012 - val_auc: 0.8700 - val_prc: 0.5863\n",
            "Epoch 42/100\n",
            "20/20 [==============================] - 2s 86ms/step - loss: 0.4849 - tp: 15488.0000 - fp: 4410.0000 - tn: 15993.0000 - fn: 5069.0000 - accuracy: 0.7686 - precision: 0.7784 - recall: 0.7534 - auc: 0.8497 - prc: 0.8443 - val_loss: 0.4541 - val_tp: 410.0000 - val_fp: 672.0000 - val_tn: 2579.0000 - val_fn: 103.0000 - val_accuracy: 0.7941 - val_precision: 0.3789 - val_recall: 0.7992 - val_auc: 0.8702 - val_prc: 0.5875\n",
            "Epoch 43/100\n",
            "20/20 [==============================] - 1s 77ms/step - loss: 0.4832 - tp: 15574.0000 - fp: 4445.0000 - tn: 15948.0000 - fn: 4993.0000 - accuracy: 0.7696 - precision: 0.7780 - recall: 0.7572 - auc: 0.8508 - prc: 0.8473 - val_loss: 0.4571 - val_tp: 410.0000 - val_fp: 688.0000 - val_tn: 2563.0000 - val_fn: 103.0000 - val_accuracy: 0.7899 - val_precision: 0.3734 - val_recall: 0.7992 - val_auc: 0.8702 - val_prc: 0.5868\n",
            "Epoch 44/100\n",
            "20/20 [==============================] - 2s 79ms/step - loss: 0.4827 - tp: 15594.0000 - fp: 4463.0000 - tn: 16032.0000 - fn: 4871.0000 - accuracy: 0.7721 - precision: 0.7775 - recall: 0.7620 - auc: 0.8522 - prc: 0.8469 - val_loss: 0.4553 - val_tp: 410.0000 - val_fp: 677.0000 - val_tn: 2574.0000 - val_fn: 103.0000 - val_accuracy: 0.7928 - val_precision: 0.3772 - val_recall: 0.7992 - val_auc: 0.8702 - val_prc: 0.5865\n",
            "Epoch 45/100\n",
            "20/20 [==============================] - 1s 77ms/step - loss: 0.4813 - tp: 15754.0000 - fp: 4341.0000 - tn: 15880.0000 - fn: 4985.0000 - accuracy: 0.7723 - precision: 0.7840 - recall: 0.7596 - auc: 0.8531 - prc: 0.8502 - val_loss: 0.4576 - val_tp: 410.0000 - val_fp: 687.0000 - val_tn: 2564.0000 - val_fn: 103.0000 - val_accuracy: 0.7901 - val_precision: 0.3737 - val_recall: 0.7992 - val_auc: 0.8703 - val_prc: 0.5865\n",
            "Epoch 46/100\n",
            "20/20 [==============================] - 2s 80ms/step - loss: 0.4804 - tp: 15639.0000 - fp: 4491.0000 - tn: 16016.0000 - fn: 4814.0000 - accuracy: 0.7728 - precision: 0.7769 - recall: 0.7646 - auc: 0.8529 - prc: 0.8468 - val_loss: 0.4564 - val_tp: 411.0000 - val_fp: 685.0000 - val_tn: 2566.0000 - val_fn: 102.0000 - val_accuracy: 0.7909 - val_precision: 0.3750 - val_recall: 0.8012 - val_auc: 0.8705 - val_prc: 0.5867\n",
            "Epoch 47/100\n",
            "20/20 [==============================] - 3s 168ms/step - loss: 0.4811 - tp: 15653.0000 - fp: 4391.0000 - tn: 15903.0000 - fn: 5013.0000 - accuracy: 0.7704 - precision: 0.7809 - recall: 0.7574 - auc: 0.8523 - prc: 0.8500 - val_loss: 0.4554 - val_tp: 411.0000 - val_fp: 680.0000 - val_tn: 2571.0000 - val_fn: 102.0000 - val_accuracy: 0.7922 - val_precision: 0.3767 - val_recall: 0.8012 - val_auc: 0.8705 - val_prc: 0.5869\n",
            "Epoch 48/100\n",
            "20/20 [==============================] - 3s 174ms/step - loss: 0.4795 - tp: 15508.0000 - fp: 4376.0000 - tn: 16167.0000 - fn: 4909.0000 - accuracy: 0.7733 - precision: 0.7799 - recall: 0.7596 - auc: 0.8535 - prc: 0.8486 - val_loss: 0.4544 - val_tp: 410.0000 - val_fp: 675.0000 - val_tn: 2576.0000 - val_fn: 103.0000 - val_accuracy: 0.7933 - val_precision: 0.3779 - val_recall: 0.7992 - val_auc: 0.8706 - val_prc: 0.5883\n",
            "Epoch 49/100\n",
            "20/20 [==============================] - 2s 129ms/step - loss: 0.4804 - tp: 15337.0000 - fp: 4402.0000 - tn: 16306.0000 - fn: 4915.0000 - accuracy: 0.7725 - precision: 0.7770 - recall: 0.7573 - auc: 0.8527 - prc: 0.8456 - val_loss: 0.4508 - val_tp: 407.0000 - val_fp: 664.0000 - val_tn: 2587.0000 - val_fn: 106.0000 - val_accuracy: 0.7954 - val_precision: 0.3800 - val_recall: 0.7934 - val_auc: 0.8705 - val_prc: 0.5878\n",
            "Epoch 50/100\n",
            "20/20 [==============================] - 2s 120ms/step - loss: 0.4809 - tp: 15401.0000 - fp: 4293.0000 - tn: 16269.0000 - fn: 4997.0000 - accuracy: 0.7732 - precision: 0.7820 - recall: 0.7550 - auc: 0.8528 - prc: 0.8480 - val_loss: 0.4511 - val_tp: 407.0000 - val_fp: 664.0000 - val_tn: 2587.0000 - val_fn: 106.0000 - val_accuracy: 0.7954 - val_precision: 0.3800 - val_recall: 0.7934 - val_auc: 0.8705 - val_prc: 0.5878\n",
            "Epoch 51/100\n",
            "20/20 [==============================] - 1s 78ms/step - loss: 0.4798 - tp: 15427.0000 - fp: 4355.0000 - tn: 16165.0000 - fn: 5013.0000 - accuracy: 0.7713 - precision: 0.7799 - recall: 0.7547 - auc: 0.8534 - prc: 0.8468 - val_loss: 0.4524 - val_tp: 409.0000 - val_fp: 677.0000 - val_tn: 2574.0000 - val_fn: 104.0000 - val_accuracy: 0.7925 - val_precision: 0.3766 - val_recall: 0.7973 - val_auc: 0.8706 - val_prc: 0.5876\n",
            "Epoch 52/100\n",
            "20/20 [==============================] - 1s 78ms/step - loss: 0.4785 - tp: 15596.0000 - fp: 4364.0000 - tn: 16077.0000 - fn: 4923.0000 - accuracy: 0.7733 - precision: 0.7814 - recall: 0.7601 - auc: 0.8542 - prc: 0.8503 - val_loss: 0.4542 - val_tp: 409.0000 - val_fp: 677.0000 - val_tn: 2574.0000 - val_fn: 104.0000 - val_accuracy: 0.7925 - val_precision: 0.3766 - val_recall: 0.7973 - val_auc: 0.8707 - val_prc: 0.5876\n",
            "Epoch 53/100\n",
            "20/20 [==============================] - 2s 88ms/step - loss: 0.4822 - tp: 15495.0000 - fp: 4412.0000 - tn: 16111.0000 - fn: 4942.0000 - accuracy: 0.7716 - precision: 0.7784 - recall: 0.7582 - auc: 0.8522 - prc: 0.8458 - val_loss: 0.4536 - val_tp: 408.0000 - val_fp: 674.0000 - val_tn: 2577.0000 - val_fn: 105.0000 - val_accuracy: 0.7930 - val_precision: 0.3771 - val_recall: 0.7953 - val_auc: 0.8708 - val_prc: 0.5870\n",
            "Epoch 54/100\n",
            "20/20 [==============================] - 2s 128ms/step - loss: 0.4816 - tp: 15479.0000 - fp: 4403.0000 - tn: 16176.0000 - fn: 4902.0000 - accuracy: 0.7728 - precision: 0.7785 - recall: 0.7595 - auc: 0.8525 - prc: 0.8464 - val_loss: 0.4519 - val_tp: 407.0000 - val_fp: 667.0000 - val_tn: 2584.0000 - val_fn: 106.0000 - val_accuracy: 0.7946 - val_precision: 0.3790 - val_recall: 0.7934 - val_auc: 0.8708 - val_prc: 0.5879\n",
            "Epoch 55/100\n",
            "20/20 [==============================] - 2s 79ms/step - loss: 0.4797 - tp: 15558.0000 - fp: 4333.0000 - tn: 16042.0000 - fn: 5027.0000 - accuracy: 0.7715 - precision: 0.7822 - recall: 0.7558 - auc: 0.8533 - prc: 0.8499 - val_loss: 0.4538 - val_tp: 409.0000 - val_fp: 678.0000 - val_tn: 2573.0000 - val_fn: 104.0000 - val_accuracy: 0.7922 - val_precision: 0.3763 - val_recall: 0.7973 - val_auc: 0.8708 - val_prc: 0.5870\n",
            "Epoch 56/100\n",
            "20/20 [==============================] - 2s 80ms/step - loss: 0.4831 - tp: 15558.0000 - fp: 4470.0000 - tn: 16051.0000 - fn: 4881.0000 - accuracy: 0.7717 - precision: 0.7768 - recall: 0.7612 - auc: 0.8514 - prc: 0.8448 - val_loss: 0.4522 - val_tp: 409.0000 - val_fp: 670.0000 - val_tn: 2581.0000 - val_fn: 104.0000 - val_accuracy: 0.7944 - val_precision: 0.3791 - val_recall: 0.7973 - val_auc: 0.8707 - val_prc: 0.5872\n",
            "Epoch 57/100\n",
            "20/20 [==============================] - 1s 75ms/step - loss: 0.4808 - tp: 15509.0000 - fp: 4459.0000 - tn: 16140.0000 - fn: 4852.0000 - accuracy: 0.7727 - precision: 0.7767 - recall: 0.7617 - auc: 0.8530 - prc: 0.8458 - val_loss: 0.4515 - val_tp: 407.0000 - val_fp: 668.0000 - val_tn: 2583.0000 - val_fn: 106.0000 - val_accuracy: 0.7944 - val_precision: 0.3786 - val_recall: 0.7934 - val_auc: 0.8705 - val_prc: 0.5862\n",
            "Epoch 58/100\n",
            "20/20 [==============================] - ETA: 0s - loss: 0.4780 - tp: 15589.0000 - fp: 4344.0000 - tn: 16039.0000 - fn: 4988.0000 - accuracy: 0.7722 - precision: 0.7821 - recall: 0.7576 - auc: 0.8547 - prc: 0.8494Restoring model weights from the end of the best epoch: 48.\n",
            "20/20 [==============================] - 2s 111ms/step - loss: 0.4780 - tp: 15589.0000 - fp: 4344.0000 - tn: 16039.0000 - fn: 4988.0000 - accuracy: 0.7722 - precision: 0.7821 - recall: 0.7576 - auc: 0.8547 - prc: 0.8494 - val_loss: 0.4535 - val_tp: 408.0000 - val_fp: 673.0000 - val_tn: 2578.0000 - val_fn: 105.0000 - val_accuracy: 0.7933 - val_precision: 0.3774 - val_recall: 0.7953 - val_auc: 0.8707 - val_prc: 0.5878\n",
            "Epoch 58: early stopping\n"
          ]
        }
      ]
    },
    {
      "cell_type": "code",
      "source": [
        "resampled_model = make_model()\n",
        "resampled_model.load_weights(initial_weights)\n",
        "\n",
        "# Reset the bias to zero, since this dataset is balanced.\n",
        "output_layer = resampled_model.layers[-1] \n",
        "output_layer.bias.assign([0])\n",
        "\n",
        "resampled_history = resampled_model.fit(\n",
        "    resampled_ds,\n",
        "    # These are not real epochs\n",
        "    steps_per_epoch=20,\n",
        "    epochs=10*EPOCHS,\n",
        "    callbacks=[early_stopping],\n",
        "    validation_data=(val_ds))"
      ],
      "metadata": {
        "colab": {
          "base_uri": "https://localhost:8080/"
        },
        "id": "PCL_B1mGcZhI",
        "outputId": "8093da34-ed6f-41bf-9800-5d04cfe23463"
      },
      "execution_count": 65,
      "outputs": [
        {
          "output_type": "stream",
          "name": "stdout",
          "text": [
            "Epoch 1/1000\n",
            "20/20 [==============================] - 5s 121ms/step - loss: 0.7337 - tp: 11069.0000 - fp: 7774.0000 - tn: 16054.0000 - fn: 9827.0000 - accuracy: 0.6065 - precision: 0.5874 - recall: 0.5297 - auc: 0.6454 - prc: 0.6040 - val_loss: 0.5783 - val_tp: 346.0000 - val_fp: 981.0000 - val_tn: 2270.0000 - val_fn: 167.0000 - val_accuracy: 0.6950 - val_precision: 0.2607 - val_recall: 0.6745 - val_auc: 0.7593 - val_prc: 0.3626\n",
            "Epoch 2/1000\n",
            "20/20 [==============================] - 2s 115ms/step - loss: 0.6652 - tp: 12442.0000 - fp: 7242.0000 - tn: 13402.0000 - fn: 7874.0000 - accuracy: 0.6310 - precision: 0.6321 - recall: 0.6124 - auc: 0.6832 - prc: 0.6746 - val_loss: 0.5630 - val_tp: 396.0000 - val_fp: 991.0000 - val_tn: 2260.0000 - val_fn: 117.0000 - val_accuracy: 0.7056 - val_precision: 0.2855 - val_recall: 0.7719 - val_auc: 0.8078 - val_prc: 0.4492\n",
            "Epoch 3/1000\n",
            "20/20 [==============================] - 2s 91ms/step - loss: 0.6263 - tp: 13556.0000 - fp: 7054.0000 - tn: 13464.0000 - fn: 6886.0000 - accuracy: 0.6597 - precision: 0.6577 - recall: 0.6631 - auc: 0.7210 - prc: 0.7153 - val_loss: 0.5408 - val_tp: 401.0000 - val_fp: 942.0000 - val_tn: 2309.0000 - val_fn: 112.0000 - val_accuracy: 0.7200 - val_precision: 0.2986 - val_recall: 0.7817 - val_auc: 0.8301 - val_prc: 0.4917\n",
            "Epoch 4/1000\n",
            "20/20 [==============================] - 1s 76ms/step - loss: 0.5930 - tp: 14211.0000 - fp: 6645.0000 - tn: 13785.0000 - fn: 6319.0000 - accuracy: 0.6835 - precision: 0.6814 - recall: 0.6922 - auc: 0.7539 - prc: 0.7499 - val_loss: 0.5260 - val_tp: 408.0000 - val_fp: 883.0000 - val_tn: 2368.0000 - val_fn: 105.0000 - val_accuracy: 0.7375 - val_precision: 0.3160 - val_recall: 0.7953 - val_auc: 0.8419 - val_prc: 0.5157\n",
            "Epoch 5/1000\n",
            "20/20 [==============================] - 1s 78ms/step - loss: 0.5746 - tp: 14511.0000 - fp: 6472.0000 - tn: 14076.0000 - fn: 5901.0000 - accuracy: 0.6979 - precision: 0.6916 - recall: 0.7109 - auc: 0.7712 - prc: 0.7660 - val_loss: 0.5124 - val_tp: 408.0000 - val_fp: 812.0000 - val_tn: 2439.0000 - val_fn: 105.0000 - val_accuracy: 0.7564 - val_precision: 0.3344 - val_recall: 0.7953 - val_auc: 0.8491 - val_prc: 0.5331\n",
            "Epoch 6/1000\n",
            "20/20 [==============================] - 1s 75ms/step - loss: 0.5624 - tp: 14695.0000 - fp: 6055.0000 - tn: 14473.0000 - fn: 5737.0000 - accuracy: 0.7121 - precision: 0.7082 - recall: 0.7192 - auc: 0.7842 - prc: 0.7793 - val_loss: 0.5001 - val_tp: 409.0000 - val_fp: 781.0000 - val_tn: 2470.0000 - val_fn: 104.0000 - val_accuracy: 0.7649 - val_precision: 0.3437 - val_recall: 0.7973 - val_auc: 0.8539 - val_prc: 0.5483\n",
            "Epoch 7/1000\n",
            "20/20 [==============================] - 1s 74ms/step - loss: 0.5454 - tp: 14790.0000 - fp: 5890.0000 - tn: 14738.0000 - fn: 5542.0000 - accuracy: 0.7209 - precision: 0.7152 - recall: 0.7274 - auc: 0.7983 - prc: 0.7926 - val_loss: 0.4931 - val_tp: 410.0000 - val_fp: 772.0000 - val_tn: 2479.0000 - val_fn: 103.0000 - val_accuracy: 0.7675 - val_precision: 0.3469 - val_recall: 0.7992 - val_auc: 0.8578 - val_prc: 0.5606\n",
            "Epoch 8/1000\n",
            "20/20 [==============================] - 2s 79ms/step - loss: 0.5400 - tp: 14873.0000 - fp: 5675.0000 - tn: 14942.0000 - fn: 5470.0000 - accuracy: 0.7279 - precision: 0.7238 - recall: 0.7311 - auc: 0.8039 - prc: 0.7991 - val_loss: 0.4866 - val_tp: 409.0000 - val_fp: 756.0000 - val_tn: 2495.0000 - val_fn: 104.0000 - val_accuracy: 0.7715 - val_precision: 0.3511 - val_recall: 0.7973 - val_auc: 0.8602 - val_prc: 0.5692\n",
            "Epoch 9/1000\n",
            "20/20 [==============================] - 1s 77ms/step - loss: 0.5276 - tp: 15103.0000 - fp: 5282.0000 - tn: 15039.0000 - fn: 5536.0000 - accuracy: 0.7359 - precision: 0.7409 - recall: 0.7318 - auc: 0.8147 - prc: 0.8145 - val_loss: 0.4873 - val_tp: 409.0000 - val_fp: 750.0000 - val_tn: 2501.0000 - val_fn: 104.0000 - val_accuracy: 0.7731 - val_precision: 0.3529 - val_recall: 0.7973 - val_auc: 0.8617 - val_prc: 0.5749\n",
            "Epoch 10/1000\n",
            "20/20 [==============================] - 2s 109ms/step - loss: 0.5280 - tp: 15057.0000 - fp: 5242.0000 - tn: 15196.0000 - fn: 5465.0000 - accuracy: 0.7386 - precision: 0.7418 - recall: 0.7337 - auc: 0.8160 - prc: 0.8114 - val_loss: 0.4806 - val_tp: 406.0000 - val_fp: 712.0000 - val_tn: 2539.0000 - val_fn: 107.0000 - val_accuracy: 0.7824 - val_precision: 0.3631 - val_recall: 0.7914 - val_auc: 0.8633 - val_prc: 0.5785\n",
            "Epoch 11/1000\n",
            "20/20 [==============================] - 2s 100ms/step - loss: 0.5151 - tp: 15021.0000 - fp: 4886.0000 - tn: 15519.0000 - fn: 5534.0000 - accuracy: 0.7456 - precision: 0.7546 - recall: 0.7308 - auc: 0.8246 - prc: 0.8231 - val_loss: 0.4770 - val_tp: 405.0000 - val_fp: 687.0000 - val_tn: 2564.0000 - val_fn: 108.0000 - val_accuracy: 0.7888 - val_precision: 0.3709 - val_recall: 0.7895 - val_auc: 0.8645 - val_prc: 0.5801\n",
            "Epoch 12/1000\n",
            "20/20 [==============================] - 1s 75ms/step - loss: 0.5166 - tp: 15041.0000 - fp: 4939.0000 - tn: 15491.0000 - fn: 5489.0000 - accuracy: 0.7454 - precision: 0.7528 - recall: 0.7326 - auc: 0.8246 - prc: 0.8222 - val_loss: 0.4771 - val_tp: 406.0000 - val_fp: 687.0000 - val_tn: 2564.0000 - val_fn: 107.0000 - val_accuracy: 0.7891 - val_precision: 0.3715 - val_recall: 0.7914 - val_auc: 0.8654 - val_prc: 0.5813\n",
            "Epoch 13/1000\n",
            "20/20 [==============================] - 1s 72ms/step - loss: 0.5111 - tp: 15071.0000 - fp: 4685.0000 - tn: 15715.0000 - fn: 5489.0000 - accuracy: 0.7516 - precision: 0.7629 - recall: 0.7330 - auc: 0.8296 - prc: 0.8265 - val_loss: 0.4738 - val_tp: 405.0000 - val_fp: 667.0000 - val_tn: 2584.0000 - val_fn: 108.0000 - val_accuracy: 0.7941 - val_precision: 0.3778 - val_recall: 0.7895 - val_auc: 0.8661 - val_prc: 0.5830\n",
            "Epoch 14/1000\n",
            "20/20 [==============================] - 1s 76ms/step - loss: 0.5080 - tp: 15161.0000 - fp: 4780.0000 - tn: 15608.0000 - fn: 5411.0000 - accuracy: 0.7512 - precision: 0.7603 - recall: 0.7370 - auc: 0.8320 - prc: 0.8292 - val_loss: 0.4730 - val_tp: 403.0000 - val_fp: 663.0000 - val_tn: 2588.0000 - val_fn: 110.0000 - val_accuracy: 0.7946 - val_precision: 0.3780 - val_recall: 0.7856 - val_auc: 0.8667 - val_prc: 0.5806\n",
            "Epoch 15/1000\n",
            "20/20 [==============================] - 1s 76ms/step - loss: 0.5039 - tp: 15023.0000 - fp: 4691.0000 - tn: 15877.0000 - fn: 5369.0000 - accuracy: 0.7544 - precision: 0.7620 - recall: 0.7367 - auc: 0.8343 - prc: 0.8307 - val_loss: 0.4664 - val_tp: 400.0000 - val_fp: 649.0000 - val_tn: 2602.0000 - val_fn: 113.0000 - val_accuracy: 0.7976 - val_precision: 0.3813 - val_recall: 0.7797 - val_auc: 0.8670 - val_prc: 0.5830\n",
            "Epoch 16/1000\n",
            "20/20 [==============================] - 1s 75ms/step - loss: 0.5014 - tp: 14967.0000 - fp: 4396.0000 - tn: 16145.0000 - fn: 5452.0000 - accuracy: 0.7596 - precision: 0.7730 - recall: 0.7330 - auc: 0.8370 - prc: 0.8316 - val_loss: 0.4633 - val_tp: 399.0000 - val_fp: 639.0000 - val_tn: 2612.0000 - val_fn: 114.0000 - val_accuracy: 0.7999 - val_precision: 0.3844 - val_recall: 0.7778 - val_auc: 0.8675 - val_prc: 0.5842\n",
            "Epoch 17/1000\n",
            "20/20 [==============================] - 1s 72ms/step - loss: 0.5010 - tp: 14878.0000 - fp: 4503.0000 - tn: 16179.0000 - fn: 5400.0000 - accuracy: 0.7582 - precision: 0.7677 - recall: 0.7337 - auc: 0.8369 - prc: 0.8312 - val_loss: 0.4623 - val_tp: 399.0000 - val_fp: 644.0000 - val_tn: 2607.0000 - val_fn: 114.0000 - val_accuracy: 0.7986 - val_precision: 0.3826 - val_recall: 0.7778 - val_auc: 0.8677 - val_prc: 0.5832\n",
            "Epoch 18/1000\n",
            "20/20 [==============================] - 2s 110ms/step - loss: 0.4991 - tp: 14990.0000 - fp: 4498.0000 - tn: 16046.0000 - fn: 5426.0000 - accuracy: 0.7577 - precision: 0.7692 - recall: 0.7342 - auc: 0.8382 - prc: 0.8342 - val_loss: 0.4620 - val_tp: 400.0000 - val_fp: 643.0000 - val_tn: 2608.0000 - val_fn: 113.0000 - val_accuracy: 0.7991 - val_precision: 0.3835 - val_recall: 0.7797 - val_auc: 0.8679 - val_prc: 0.5854\n",
            "Epoch 19/1000\n",
            "20/20 [==============================] - 2s 98ms/step - loss: 0.4952 - tp: 14855.0000 - fp: 4395.0000 - tn: 16276.0000 - fn: 5434.0000 - accuracy: 0.7600 - precision: 0.7717 - recall: 0.7322 - auc: 0.8412 - prc: 0.8361 - val_loss: 0.4600 - val_tp: 399.0000 - val_fp: 641.0000 - val_tn: 2610.0000 - val_fn: 114.0000 - val_accuracy: 0.7994 - val_precision: 0.3837 - val_recall: 0.7778 - val_auc: 0.8680 - val_prc: 0.5852\n",
            "Epoch 20/1000\n",
            "20/20 [==============================] - 1s 77ms/step - loss: 0.4973 - tp: 15032.0000 - fp: 4364.0000 - tn: 16112.0000 - fn: 5452.0000 - accuracy: 0.7604 - precision: 0.7750 - recall: 0.7338 - auc: 0.8405 - prc: 0.8357 - val_loss: 0.4624 - val_tp: 403.0000 - val_fp: 655.0000 - val_tn: 2596.0000 - val_fn: 110.0000 - val_accuracy: 0.7968 - val_precision: 0.3809 - val_recall: 0.7856 - val_auc: 0.8680 - val_prc: 0.5852\n",
            "Epoch 21/1000\n",
            "20/20 [==============================] - 2s 80ms/step - loss: 0.4929 - tp: 15113.0000 - fp: 4390.0000 - tn: 16049.0000 - fn: 5408.0000 - accuracy: 0.7608 - precision: 0.7749 - recall: 0.7365 - auc: 0.8435 - prc: 0.8408 - val_loss: 0.4635 - val_tp: 403.0000 - val_fp: 664.0000 - val_tn: 2587.0000 - val_fn: 110.0000 - val_accuracy: 0.7944 - val_precision: 0.3777 - val_recall: 0.7856 - val_auc: 0.8683 - val_prc: 0.5862\n",
            "Epoch 22/1000\n",
            "20/20 [==============================] - 2s 100ms/step - loss: 0.4927 - tp: 15085.0000 - fp: 4402.0000 - tn: 16155.0000 - fn: 5318.0000 - accuracy: 0.7627 - precision: 0.7741 - recall: 0.7394 - auc: 0.8436 - prc: 0.8390 - val_loss: 0.4599 - val_tp: 403.0000 - val_fp: 654.0000 - val_tn: 2597.0000 - val_fn: 110.0000 - val_accuracy: 0.7970 - val_precision: 0.3813 - val_recall: 0.7856 - val_auc: 0.8685 - val_prc: 0.5858\n",
            "Epoch 23/1000\n",
            "20/20 [==============================] - 2s 127ms/step - loss: 0.4923 - tp: 15152.0000 - fp: 4339.0000 - tn: 16147.0000 - fn: 5322.0000 - accuracy: 0.7641 - precision: 0.7774 - recall: 0.7401 - auc: 0.8440 - prc: 0.8396 - val_loss: 0.4600 - val_tp: 402.0000 - val_fp: 648.0000 - val_tn: 2603.0000 - val_fn: 111.0000 - val_accuracy: 0.7984 - val_precision: 0.3829 - val_recall: 0.7836 - val_auc: 0.8688 - val_prc: 0.5811\n",
            "Epoch 24/1000\n",
            "20/20 [==============================] - 2s 85ms/step - loss: 0.4895 - tp: 15152.0000 - fp: 4405.0000 - tn: 16106.0000 - fn: 5297.0000 - accuracy: 0.7631 - precision: 0.7748 - recall: 0.7410 - auc: 0.8461 - prc: 0.8412 - val_loss: 0.4612 - val_tp: 403.0000 - val_fp: 666.0000 - val_tn: 2585.0000 - val_fn: 110.0000 - val_accuracy: 0.7938 - val_precision: 0.3770 - val_recall: 0.7856 - val_auc: 0.8687 - val_prc: 0.5826\n",
            "Epoch 25/1000\n",
            "20/20 [==============================] - 2s 117ms/step - loss: 0.4881 - tp: 15116.0000 - fp: 4368.0000 - tn: 16244.0000 - fn: 5232.0000 - accuracy: 0.7656 - precision: 0.7758 - recall: 0.7429 - auc: 0.8469 - prc: 0.8427 - val_loss: 0.4578 - val_tp: 404.0000 - val_fp: 655.0000 - val_tn: 2596.0000 - val_fn: 109.0000 - val_accuracy: 0.7970 - val_precision: 0.3815 - val_recall: 0.7875 - val_auc: 0.8689 - val_prc: 0.5837\n",
            "Epoch 26/1000\n",
            "20/20 [==============================] - 2s 95ms/step - loss: 0.4889 - tp: 15251.0000 - fp: 4310.0000 - tn: 16072.0000 - fn: 5327.0000 - accuracy: 0.7647 - precision: 0.7797 - recall: 0.7411 - auc: 0.8468 - prc: 0.8438 - val_loss: 0.4586 - val_tp: 404.0000 - val_fp: 654.0000 - val_tn: 2597.0000 - val_fn: 109.0000 - val_accuracy: 0.7973 - val_precision: 0.3819 - val_recall: 0.7875 - val_auc: 0.8690 - val_prc: 0.5844\n",
            "Epoch 27/1000\n",
            "20/20 [==============================] - 1s 76ms/step - loss: 0.4897 - tp: 15262.0000 - fp: 4389.0000 - tn: 16081.0000 - fn: 5228.0000 - accuracy: 0.7652 - precision: 0.7767 - recall: 0.7449 - auc: 0.8461 - prc: 0.8420 - val_loss: 0.4589 - val_tp: 404.0000 - val_fp: 661.0000 - val_tn: 2590.0000 - val_fn: 109.0000 - val_accuracy: 0.7954 - val_precision: 0.3793 - val_recall: 0.7875 - val_auc: 0.8690 - val_prc: 0.5847\n",
            "Epoch 28/1000\n",
            "20/20 [==============================] - 2s 90ms/step - loss: 0.4898 - tp: 15289.0000 - fp: 4462.0000 - tn: 16007.0000 - fn: 5202.0000 - accuracy: 0.7641 - precision: 0.7741 - recall: 0.7461 - auc: 0.8460 - prc: 0.8415 - val_loss: 0.4567 - val_tp: 404.0000 - val_fp: 657.0000 - val_tn: 2594.0000 - val_fn: 109.0000 - val_accuracy: 0.7965 - val_precision: 0.3808 - val_recall: 0.7875 - val_auc: 0.8692 - val_prc: 0.5849\n",
            "Epoch 29/1000\n",
            "20/20 [==============================] - 2s 122ms/step - loss: 0.4859 - tp: 15145.0000 - fp: 4355.0000 - tn: 16238.0000 - fn: 5222.0000 - accuracy: 0.7662 - precision: 0.7767 - recall: 0.7436 - auc: 0.8493 - prc: 0.8438 - val_loss: 0.4583 - val_tp: 405.0000 - val_fp: 661.0000 - val_tn: 2590.0000 - val_fn: 108.0000 - val_accuracy: 0.7957 - val_precision: 0.3799 - val_recall: 0.7895 - val_auc: 0.8691 - val_prc: 0.5852\n",
            "Epoch 30/1000\n",
            "20/20 [==============================] - 2s 98ms/step - loss: 0.4863 - tp: 15245.0000 - fp: 4377.0000 - tn: 16121.0000 - fn: 5217.0000 - accuracy: 0.7658 - precision: 0.7769 - recall: 0.7450 - auc: 0.8486 - prc: 0.8448 - val_loss: 0.4560 - val_tp: 404.0000 - val_fp: 658.0000 - val_tn: 2593.0000 - val_fn: 109.0000 - val_accuracy: 0.7962 - val_precision: 0.3804 - val_recall: 0.7875 - val_auc: 0.8692 - val_prc: 0.5854\n",
            "Epoch 31/1000\n",
            "20/20 [==============================] - ETA: 0s - loss: 0.4865 - tp: 15115.0000 - fp: 4291.0000 - tn: 16328.0000 - fn: 5226.0000 - accuracy: 0.7677 - precision: 0.7789 - recall: 0.7431 - auc: 0.8480 - prc: 0.8429Restoring model weights from the end of the best epoch: 21.\n",
            "20/20 [==============================] - 2s 81ms/step - loss: 0.4865 - tp: 15115.0000 - fp: 4291.0000 - tn: 16328.0000 - fn: 5226.0000 - accuracy: 0.7677 - precision: 0.7789 - recall: 0.7431 - auc: 0.8480 - prc: 0.8429 - val_loss: 0.4549 - val_tp: 405.0000 - val_fp: 659.0000 - val_tn: 2592.0000 - val_fn: 108.0000 - val_accuracy: 0.7962 - val_precision: 0.3806 - val_recall: 0.7895 - val_auc: 0.8692 - val_prc: 0.5853\n",
            "Epoch 31: early stopping\n"
          ]
        }
      ]
    },
    {
      "cell_type": "code",
      "source": [
        "train_predictions_resampled = resampled_model.predict(train_features, batch_size=BATCH_SIZE)\n",
        "test_predictions_resampled = resampled_model.predict(test_features, batch_size=BATCH_SIZE)"
      ],
      "metadata": {
        "colab": {
          "base_uri": "https://localhost:8080/"
        },
        "id": "vQbAKvCuc33-",
        "outputId": "38bd1899-063b-438c-b48c-76f6f85d871c"
      },
      "execution_count": 66,
      "outputs": [
        {
          "output_type": "stream",
          "name": "stdout",
          "text": [
            "8/8 [==============================] - 0s 3ms/step\n",
            "3/3 [==============================] - 0s 5ms/step\n"
          ]
        }
      ]
    },
    {
      "cell_type": "code",
      "source": [
        "resampled_results = resampled_model.evaluate(test_features, test_labels,\n",
        "                                             batch_size=BATCH_SIZE, verbose=0)\n",
        "for name, value in zip(resampled_model.metrics_names, resampled_results):\n",
        "  print(name, ': ', value)\n",
        "print()\n",
        "\n",
        "plot_cm(test_labels, test_predictions_resampled)"
      ],
      "metadata": {
        "colab": {
          "base_uri": "https://localhost:8080/",
          "height": 765
        },
        "id": "V85Y-eiDdEXA",
        "outputId": "be644bdb-9c21-470c-ff4a-7ea0bc1e37e7"
      },
      "execution_count": 67,
      "outputs": [
        {
          "output_type": "stream",
          "name": "stdout",
          "text": [
            "loss :  0.46533098816871643\n",
            "tp :  464.0\n",
            "fp :  809.0\n",
            "tn :  3254.0\n",
            "fn :  178.0\n",
            "accuracy :  0.7902231812477112\n",
            "precision :  0.36449331045150757\n",
            "recall :  0.722741425037384\n",
            "auc :  0.8493632078170776\n",
            "prc :  0.5596750378608704\n",
            "\n",
            "Legitimate Transactions Detected (True Negatives):  3254\n",
            "Legitimate Transactions Incorrectly Detected (False Positives):  809\n",
            "Fraudulent Transactions Missed (False Negatives):  178\n",
            "Fraudulent Transactions Detected (True Positives):  464\n",
            "Total Fraudulent Transactions:  642\n"
          ]
        },
        {
          "output_type": "display_data",
          "data": {
            "text/plain": [
              "<Figure size 500x500 with 2 Axes>"
            ],
            "image/png": "[encoded data removed]"
          },
          "metadata": {}
        }
      ]
    },
    {
      "cell_type": "code",
      "source": [
        "test_labels"
      ],
      "metadata": {
        "colab": {
          "base_uri": "https://localhost:8080/"
        },
        "id": "c9q1W20UejIG",
        "outputId": "61a54fdc-2467-40a1-ae9e-425d2fb7193b"
      },
      "execution_count": 80,
      "outputs": [
        {
          "output_type": "execute_result",
          "data": {
            "text/plain": [
              "array([0, 0, 1, ..., 0, 0, 0])"
            ]
          },
          "metadata": {},
          "execution_count": 80
        }
      ]
    },
    {
      "cell_type": "code",
      "source": [
        "yyy = test_predictions_resampled.squeeze()"
      ],
      "metadata": {
        "id": "ZX1K_QMnelC_"
      },
      "execution_count": 84,
      "outputs": []
    },
    {
      "cell_type": "code",
      "source": [
        "y = pd.Series(yyy.squeeze())"
      ],
      "metadata": {
        "id": "uuL6T2toezAA"
      },
      "execution_count": 85,
      "outputs": []
    },
    {
      "cell_type": "code",
      "source": [
        "y"
      ],
      "metadata": {
        "colab": {
          "base_uri": "https://localhost:8080/"
        },
        "id": "q1RKuqaSe4Yq",
        "outputId": "956027fb-c0c9-4a78-ac5f-1fe1be9be679"
      },
      "execution_count": 86,
      "outputs": [
        {
          "output_type": "execute_result",
          "data": {
            "text/plain": [
              "0       0.185851\n",
              "1       0.420819\n",
              "2       0.911217\n",
              "3       0.755220\n",
              "4       0.316637\n",
              "          ...   \n",
              "4700    0.860380\n",
              "4701    0.374359\n",
              "4702    0.382360\n",
              "4703    0.364195\n",
              "4704    0.092492\n",
              "Length: 4705, dtype: float32"
            ]
          },
          "metadata": {},
          "execution_count": 86
        }
      ]
    },
    {
      "cell_type": "code",
      "source": [
        "confusion_matrix(test_labels, round(y), normalize='true')"
      ],
      "metadata": {
        "colab": {
          "base_uri": "https://localhost:8080/"
        },
        "id": "lCsq4xX9dbVM",
        "outputId": "fcee7ac4-9b15-40a8-ab6a-42d695c69bf5"
      },
      "execution_count": 88,
      "outputs": [
        {
          "output_type": "execute_result",
          "data": {
            "text/plain": [
              "array([[0.80088604, 0.19911396],\n",
              "       [0.27725857, 0.72274143]])"
            ]
          },
          "metadata": {},
          "execution_count": 88
        }
      ]
    },
    {
      "cell_type": "code",
      "source": [
        "df_test = pd.read_csv(\"Test.csv\")"
      ],
      "metadata": {
        "id": "_bvFjGA3dZDC"
      },
      "execution_count": 108,
      "outputs": []
    },
    {
      "cell_type": "code",
      "source": [
        "df_test.head()"
      ],
      "metadata": {
        "colab": {
          "base_uri": "https://localhost:8080/",
          "height": 392
        },
        "id": "ZHdDGjV2fGZe",
        "outputId": "2b8a4cd3-1e3b-4f35-de78-ba28eda15ab6"
      },
      "execution_count": 90,
      "outputs": [
        {
          "output_type": "execute_result",
          "data": {
            "text/plain": [
              "  country  year       uniqueid location_type cellphone_access  household_size  \\\n",
              "0   Kenya  2018  uniqueid_6056         Urban              Yes               3   \n",
              "1   Kenya  2018  uniqueid_6060         Urban              Yes               7   \n",
              "2   Kenya  2018  uniqueid_6065         Rural               No               3   \n",
              "3   Kenya  2018  uniqueid_6072         Rural               No               6   \n",
              "4   Kenya  2018  uniqueid_6073         Urban               No               3   \n",
              "\n",
              "   age_of_respondent gender_of_respondent relationship_with_head  \\\n",
              "0                 30                 Male      Head of Household   \n",
              "1                 51                 Male      Head of Household   \n",
              "2                 77               Female                 Parent   \n",
              "3                 39               Female      Head of Household   \n",
              "4                 16                 Male                  Child   \n",
              "\n",
              "            marital_status                  education_level  \\\n",
              "0  Married/Living together              Secondary education   \n",
              "1  Married/Living together  Vocational/Specialised training   \n",
              "2  Married/Living together              No formal education   \n",
              "3  Married/Living together                Primary education   \n",
              "4     Single/Never Married              Secondary education   \n",
              "\n",
              "                       job_type  \n",
              "0  Formally employed Government  \n",
              "1     Formally employed Private  \n",
              "2          Remittance Dependent  \n",
              "3          Remittance Dependent  \n",
              "4          Remittance Dependent  "
            ],
            "text/html": [
              "\n",
              "  <div id=\"df-907e973e-409e-446c-8f37-62fc2ec8a6df\">\n",
              "    <div class=\"colab-df-container\">\n",
              "      <div>\n",
              "<style scoped>\n",
              "    .dataframe tbody tr th:only-of-type {\n",
              "        vertical-align: middle;\n",
              "    }\n",
              "\n",
              "    .dataframe tbody tr th {\n",
              "        vertical-align: top;\n",
              "    }\n",
              "\n",
              "    .dataframe thead th {\n",
              "        text-align: right;\n",
              "    }\n",
              "</style>\n",
              "<table border=\"1\" class=\"dataframe\">\n",
              "  <thead>\n",
              "    <tr style=\"text-align: right;\">\n",
              "      <th></th>\n",
              "      <th>country</th>\n",
              "      <th>year</th>\n",
              "      <th>uniqueid</th>\n",
              "      <th>location_type</th>\n",
              "      <th>cellphone_access</th>\n",
              "      <th>household_size</th>\n",
              "      <th>age_of_respondent</th>\n",
              "      <th>gender_of_respondent</th>\n",
              "      <th>relationship_with_head</th>\n",
              "      <th>marital_status</th>\n",
              "      <th>education_level</th>\n",
              "      <th>job_type</th>\n",
              "    </tr>\n",
              "  </thead>\n",
              "  <tbody>\n",
              "    <tr>\n",
              "      <th>0</th>\n",
              "      <td>Kenya</td>\n",
              "      <td>2018</td>\n",
              "      <td>uniqueid_6056</td>\n",
              "      <td>Urban</td>\n",
              "      <td>Yes</td>\n",
              "      <td>3</td>\n",
              "      <td>30</td>\n",
              "      <td>Male</td>\n",
              "      <td>Head of Household</td>\n",
              "      <td>Married/Living together</td>\n",
              "      <td>Secondary education</td>\n",
              "      <td>Formally employed Government</td>\n",
              "    </tr>\n",
              "    <tr>\n",
              "      <th>1</th>\n",
              "      <td>Kenya</td>\n",
              "      <td>2018</td>\n",
              "      <td>uniqueid_6060</td>\n",
              "      <td>Urban</td>\n",
              "      <td>Yes</td>\n",
              "      <td>7</td>\n",
              "      <td>51</td>\n",
              "      <td>Male</td>\n",
              "      <td>Head of Household</td>\n",
              "      <td>Married/Living together</td>\n",
              "      <td>Vocational/Specialised training</td>\n",
              "      <td>Formally employed Private</td>\n",
              "    </tr>\n",
              "    <tr>\n",
              "      <th>2</th>\n",
              "      <td>Kenya</td>\n",
              "      <td>2018</td>\n",
              "      <td>uniqueid_6065</td>\n",
              "      <td>Rural</td>\n",
              "      <td>No</td>\n",
              "      <td>3</td>\n",
              "      <td>77</td>\n",
              "      <td>Female</td>\n",
              "      <td>Parent</td>\n",
              "      <td>Married/Living together</td>\n",
              "      <td>No formal education</td>\n",
              "      <td>Remittance Dependent</td>\n",
              "    </tr>\n",
              "    <tr>\n",
              "      <th>3</th>\n",
              "      <td>Kenya</td>\n",
              "      <td>2018</td>\n",
              "      <td>uniqueid_6072</td>\n",
              "      <td>Rural</td>\n",
              "      <td>No</td>\n",
              "      <td>6</td>\n",
              "      <td>39</td>\n",
              "      <td>Female</td>\n",
              "      <td>Head of Household</td>\n",
              "      <td>Married/Living together</td>\n",
              "      <td>Primary education</td>\n",
              "      <td>Remittance Dependent</td>\n",
              "    </tr>\n",
              "    <tr>\n",
              "      <th>4</th>\n",
              "      <td>Kenya</td>\n",
              "      <td>2018</td>\n",
              "      <td>uniqueid_6073</td>\n",
              "      <td>Urban</td>\n",
              "      <td>No</td>\n",
              "      <td>3</td>\n",
              "      <td>16</td>\n",
              "      <td>Male</td>\n",
              "      <td>Child</td>\n",
              "      <td>Single/Never Married</td>\n",
              "      <td>Secondary education</td>\n",
              "      <td>Remittance Dependent</td>\n",
              "    </tr>\n",
              "  </tbody>\n",
              "</table>\n",
              "</div>\n",
              "      <button class=\"colab-df-convert\" onclick=\"convertToInteractive('df-907e973e-409e-446c-8f37-62fc2ec8a6df')\"\n",
              "              title=\"Convert this dataframe to an interactive table.\"\n",
              "              style=\"display:none;\">\n",
              "        \n",
              "  <svg xmlns=\"http://www.w3.org/2000/svg\" height=\"24px\"viewBox=\"0 0 24 24\"\n",
              "       width=\"24px\">\n",
              "    <path d=\"M0 0h24v24H0V0z\" fill=\"none\"/>\n",
              "    <path d=\"M18.56 5.44l.94 2.06.94-2.06 2.06-.94-2.06-.94-.94-2.06-.94 2.06-2.06.94zm-11 1L8.5 8.5l.94-2.06 2.06-.94-2.06-.94L8.5 2.5l-.94 2.06-2.06.94zm10 10l.94 2.06.94-2.06 2.06-.94-2.06-.94-.94-2.06-.94 2.06-2.06.94z\"/><path d=\"M17.41 7.96l-1.37-1.37c-.4-.4-.92-.59-1.43-.59-.52 0-1.04.2-1.43.59L10.3 9.45l-7.72 7.72c-.78.78-.78 2.05 0 2.83L4 21.41c.39.39.9.59 1.41.59.51 0 1.02-.2 1.41-.59l7.78-7.78 2.81-2.81c.8-.78.8-2.07 0-2.86zM5.41 20L4 18.59l7.72-7.72 1.47 1.35L5.41 20z\"/>\n",
              "  </svg>\n",
              "      </button>\n",
              "      \n",
              "  <style>\n",
              "    .colab-df-container {\n",
              "      display:flex;\n",
              "      flex-wrap:wrap;\n",
              "      gap: 12px;\n",
              "    }\n",
              "\n",
              "    .colab-df-convert {\n",
              "      background-color: #E8F0FE;\n",
              "      border: none;\n",
              "      border-radius: 50%;\n",
              "      cursor: pointer;\n",
              "      display: none;\n",
              "      fill: #1967D2;\n",
              "      height: 32px;\n",
              "      padding: 0 0 0 0;\n",
              "      width: 32px;\n",
              "    }\n",
              "\n",
              "    .colab-df-convert:hover {\n",
              "      background-color: #E2EBFA;\n",
              "      box-shadow: 0px 1px 2px rgba(60, 64, 67, 0.3), 0px 1px 3px 1px rgba(60, 64, 67, 0.15);\n",
              "      fill: #174EA6;\n",
              "    }\n",
              "\n",
              "    [theme=dark] .colab-df-convert {\n",
              "      background-color: #3B4455;\n",
              "      fill: #D2E3FC;\n",
              "    }\n",
              "\n",
              "    [theme=dark] .colab-df-convert:hover {\n",
              "      background-color: #434B5C;\n",
              "      box-shadow: 0px 1px 3px 1px rgba(0, 0, 0, 0.15);\n",
              "      filter: drop-shadow(0px 1px 2px rgba(0, 0, 0, 0.3));\n",
              "      fill: #FFFFFF;\n",
              "    }\n",
              "  </style>\n",
              "\n",
              "      <script>\n",
              "        const buttonEl =\n",
              "          document.querySelector('#df-907e973e-409e-446c-8f37-62fc2ec8a6df button.colab-df-convert');\n",
              "        buttonEl.style.display =\n",
              "          google.colab.kernel.accessAllowed ? 'block' : 'none';\n",
              "\n",
              "        async function convertToInteractive(key) {\n",
              "          const element = document.querySelector('#df-907e973e-409e-446c-8f37-62fc2ec8a6df');\n",
              "          const dataTable =\n",
              "            await google.colab.kernel.invokeFunction('convertToInteractive',\n",
              "                                                     [key], {});\n",
              "          if (!dataTable) return;\n",
              "\n",
              "          const docLinkHtml = 'Like what you see? Visit the ' +\n",
              "            '<a target=\"_blank\" href=https://colab.research.google.com/notebooks/data_table.ipynb>data table notebook</a>'\n",
              "            + ' to learn more about interactive tables.';\n",
              "          element.innerHTML = '';\n",
              "          dataTable['output_type'] = 'display_data';\n",
              "          await google.colab.output.renderOutput(dataTable, element);\n",
              "          const docLink = document.createElement('div');\n",
              "          docLink.innerHTML = docLinkHtml;\n",
              "          element.appendChild(docLink);\n",
              "        }\n",
              "      </script>\n",
              "    </div>\n",
              "  </div>\n",
              "  "
            ]
          },
          "metadata": {},
          "execution_count": 90
        }
      ]
    },
    {
      "cell_type": "code",
      "source": [
        "df.shape"
      ],
      "metadata": {
        "colab": {
          "base_uri": "https://localhost:8080/"
        },
        "id": "rBEUaAuQfKbf",
        "outputId": "dc96388a-4cfa-4c28-e5fe-51b38fb338fe"
      },
      "execution_count": 92,
      "outputs": [
        {
          "output_type": "execute_result",
          "data": {
            "text/plain": [
              "(23524, 38)"
            ]
          },
          "metadata": {},
          "execution_count": 92
        }
      ]
    },
    {
      "cell_type": "code",
      "source": [
        "df_test.drop(columns=[\"uniqueid\"], inplace=True)"
      ],
      "metadata": {
        "id": "SE5mcfjDfIBP"
      },
      "execution_count": 93,
      "outputs": []
    },
    {
      "cell_type": "code",
      "source": [
        "df_test_pre = preprocessing_data(df_test)"
      ],
      "metadata": {
        "id": "hHKFLwlzfUFx"
      },
      "execution_count": 94,
      "outputs": []
    },
    {
      "cell_type": "code",
      "source": [
        "df_test_pre.shape"
      ],
      "metadata": {
        "colab": {
          "base_uri": "https://localhost:8080/"
        },
        "id": "hyQzObYDfcbs",
        "outputId": "14effb0f-6070-4a27-a1f8-6416c91458d4"
      },
      "execution_count": 97,
      "outputs": [
        {
          "output_type": "execute_result",
          "data": {
            "text/plain": [
              "(10086, 37)"
            ]
          },
          "metadata": {},
          "execution_count": 97
        }
      ]
    },
    {
      "cell_type": "code",
      "source": [
        "train_features = np.array(df_test_pre)\n",
        "train_features = scaler.fit_transform(train_features)\n",
        "train_features = np.clip(train_features, -5, 5)"
      ],
      "metadata": {
        "id": "rt9mV2qjho2G"
      },
      "execution_count": 124,
      "outputs": []
    },
    {
      "cell_type": "code",
      "source": [
        "test_predictions_resampled = resampled_model.predict(train_features)"
      ],
      "metadata": {
        "colab": {
          "base_uri": "https://localhost:8080/"
        },
        "id": "una_p9nrfgyS",
        "outputId": "c2d89a89-8483-479f-cb4a-9eb02a084e77"
      },
      "execution_count": 125,
      "outputs": [
        {
          "output_type": "stream",
          "name": "stdout",
          "text": [
            "316/316 [==============================] - 1s 4ms/step\n"
          ]
        }
      ]
    },
    {
      "cell_type": "code",
      "source": [
        "test_predictions_resampled"
      ],
      "metadata": {
        "colab": {
          "base_uri": "https://localhost:8080/"
        },
        "id": "K32qRsH0hM8i",
        "outputId": "8afdecfd-6d9a-4b80-d5c7-889153177e9f"
      },
      "execution_count": 126,
      "outputs": [
        {
          "output_type": "execute_result",
          "data": {
            "text/plain": [
              "array([[0.96125567],\n",
              "       [0.9822163 ],\n",
              "       [0.07072134],\n",
              "       ...,\n",
              "       [0.7246363 ],\n",
              "       [0.22763638],\n",
              "       [0.46177042]], dtype=float32)"
            ]
          },
          "metadata": {},
          "execution_count": 126
        }
      ]
    },
    {
      "cell_type": "code",
      "source": [
        "yyyy = pd.Series(test_predictions_resampled.squeeze())"
      ],
      "metadata": {
        "id": "-iofBMYEf1jt"
      },
      "execution_count": 127,
      "outputs": []
    },
    {
      "cell_type": "code",
      "source": [
        "round(yyyy)"
      ],
      "metadata": {
        "colab": {
          "base_uri": "https://localhost:8080/"
        },
        "id": "VxVg3810galC",
        "outputId": "7fd91c32-3b90-47cf-cb6a-6f8aff354699"
      },
      "execution_count": 129,
      "outputs": [
        {
          "output_type": "execute_result",
          "data": {
            "text/plain": [
              "0        1.0\n",
              "1        1.0\n",
              "2        0.0\n",
              "3        0.0\n",
              "4        0.0\n",
              "        ... \n",
              "10081    0.0\n",
              "10082    0.0\n",
              "10083    1.0\n",
              "10084    0.0\n",
              "10085    0.0\n",
              "Length: 10086, dtype: float32"
            ]
          },
          "metadata": {},
          "execution_count": 129
        }
      ]
    },
    {
      "cell_type": "code",
      "source": [
        "submission = pd.DataFrame({\"uniqueid\": df_test[\"uniqueid\"] + \" x \" + df_test[\"country\"],\n",
        "                           \"bank_account\": round(yyyy).astype(int)})\n",
        "submission.to_csv('submission.csv', index = False)"
      ],
      "metadata": {
        "id": "wbvg8wi9f78V"
      },
      "execution_count": 132,
      "outputs": []
    },
    {
      "cell_type": "code",
      "source": [
        "submission[\"bank_account\"].value_counts()"
      ],
      "metadata": {
        "colab": {
          "base_uri": "https://localhost:8080/"
        },
        "id": "yjKtPySNgSBQ",
        "outputId": "4b808ac0-a66d-4307-fa6e-bd24f8490baa"
      },
      "execution_count": 133,
      "outputs": [
        {
          "output_type": "execute_result",
          "data": {
            "text/plain": [
              "0    7284\n",
              "1    2802\n",
              "Name: bank_account, dtype: int64"
            ]
          },
          "metadata": {},
          "execution_count": 133
        }
      ]
    },
    {
      "cell_type": "code",
      "source": [],
      "metadata": {
        "id": "XQ-62TI_goKi"
      },
      "execution_count": null,
      "outputs": []
    }
  ]
}